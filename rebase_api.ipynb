{
 "cells": [
  {
   "cell_type": "code",
   "execution_count": 1,
   "metadata": {},
   "outputs": [],
   "source": [
    "import comp_utils\n",
    "\n",
    "rebase_api_client = comp_utils.RebaseAPI(api_key = open(\"team_key.txt\").read())"
   ]
  },
  {
   "cell_type": "code",
   "execution_count": 3,
   "metadata": {},
   "outputs": [
    {
     "data": {
      "text/html": [
       "<div>\n",
       "<style scoped>\n",
       "    .dataframe tbody tr th:only-of-type {\n",
       "        vertical-align: middle;\n",
       "    }\n",
       "\n",
       "    .dataframe tbody tr th {\n",
       "        vertical-align: top;\n",
       "    }\n",
       "\n",
       "    .dataframe thead th {\n",
       "        text-align: right;\n",
       "    }\n",
       "</style>\n",
       "<table border=\"1\" class=\"dataframe\">\n",
       "  <thead>\n",
       "    <tr style=\"text-align: right;\">\n",
       "      <th></th>\n",
       "      <th>datetime</th>\n",
       "    </tr>\n",
       "  </thead>\n",
       "  <tbody>\n",
       "    <tr>\n",
       "      <th>0</th>\n",
       "      <td>2024-10-05 23:00:00+01:00</td>\n",
       "    </tr>\n",
       "    <tr>\n",
       "      <th>1</th>\n",
       "      <td>2024-10-05 23:30:00+01:00</td>\n",
       "    </tr>\n",
       "    <tr>\n",
       "      <th>2</th>\n",
       "      <td>2024-10-06 00:00:00+01:00</td>\n",
       "    </tr>\n",
       "    <tr>\n",
       "      <th>3</th>\n",
       "      <td>2024-10-06 00:30:00+01:00</td>\n",
       "    </tr>\n",
       "    <tr>\n",
       "      <th>4</th>\n",
       "      <td>2024-10-06 01:00:00+01:00</td>\n",
       "    </tr>\n",
       "    <tr>\n",
       "      <th>5</th>\n",
       "      <td>2024-10-06 01:30:00+01:00</td>\n",
       "    </tr>\n",
       "    <tr>\n",
       "      <th>6</th>\n",
       "      <td>2024-10-06 02:00:00+01:00</td>\n",
       "    </tr>\n",
       "    <tr>\n",
       "      <th>7</th>\n",
       "      <td>2024-10-06 02:30:00+01:00</td>\n",
       "    </tr>\n",
       "    <tr>\n",
       "      <th>8</th>\n",
       "      <td>2024-10-06 03:00:00+01:00</td>\n",
       "    </tr>\n",
       "    <tr>\n",
       "      <th>9</th>\n",
       "      <td>2024-10-06 03:30:00+01:00</td>\n",
       "    </tr>\n",
       "    <tr>\n",
       "      <th>10</th>\n",
       "      <td>2024-10-06 04:00:00+01:00</td>\n",
       "    </tr>\n",
       "    <tr>\n",
       "      <th>11</th>\n",
       "      <td>2024-10-06 04:30:00+01:00</td>\n",
       "    </tr>\n",
       "    <tr>\n",
       "      <th>12</th>\n",
       "      <td>2024-10-06 05:00:00+01:00</td>\n",
       "    </tr>\n",
       "    <tr>\n",
       "      <th>13</th>\n",
       "      <td>2024-10-06 05:30:00+01:00</td>\n",
       "    </tr>\n",
       "    <tr>\n",
       "      <th>14</th>\n",
       "      <td>2024-10-06 06:00:00+01:00</td>\n",
       "    </tr>\n",
       "    <tr>\n",
       "      <th>15</th>\n",
       "      <td>2024-10-06 06:30:00+01:00</td>\n",
       "    </tr>\n",
       "    <tr>\n",
       "      <th>16</th>\n",
       "      <td>2024-10-06 07:00:00+01:00</td>\n",
       "    </tr>\n",
       "    <tr>\n",
       "      <th>17</th>\n",
       "      <td>2024-10-06 07:30:00+01:00</td>\n",
       "    </tr>\n",
       "    <tr>\n",
       "      <th>18</th>\n",
       "      <td>2024-10-06 08:00:00+01:00</td>\n",
       "    </tr>\n",
       "    <tr>\n",
       "      <th>19</th>\n",
       "      <td>2024-10-06 08:30:00+01:00</td>\n",
       "    </tr>\n",
       "    <tr>\n",
       "      <th>20</th>\n",
       "      <td>2024-10-06 09:00:00+01:00</td>\n",
       "    </tr>\n",
       "    <tr>\n",
       "      <th>21</th>\n",
       "      <td>2024-10-06 09:30:00+01:00</td>\n",
       "    </tr>\n",
       "    <tr>\n",
       "      <th>22</th>\n",
       "      <td>2024-10-06 10:00:00+01:00</td>\n",
       "    </tr>\n",
       "    <tr>\n",
       "      <th>23</th>\n",
       "      <td>2024-10-06 10:30:00+01:00</td>\n",
       "    </tr>\n",
       "    <tr>\n",
       "      <th>24</th>\n",
       "      <td>2024-10-06 11:00:00+01:00</td>\n",
       "    </tr>\n",
       "    <tr>\n",
       "      <th>25</th>\n",
       "      <td>2024-10-06 11:30:00+01:00</td>\n",
       "    </tr>\n",
       "    <tr>\n",
       "      <th>26</th>\n",
       "      <td>2024-10-06 12:00:00+01:00</td>\n",
       "    </tr>\n",
       "    <tr>\n",
       "      <th>27</th>\n",
       "      <td>2024-10-06 12:30:00+01:00</td>\n",
       "    </tr>\n",
       "    <tr>\n",
       "      <th>28</th>\n",
       "      <td>2024-10-06 13:00:00+01:00</td>\n",
       "    </tr>\n",
       "    <tr>\n",
       "      <th>29</th>\n",
       "      <td>2024-10-06 13:30:00+01:00</td>\n",
       "    </tr>\n",
       "    <tr>\n",
       "      <th>30</th>\n",
       "      <td>2024-10-06 14:00:00+01:00</td>\n",
       "    </tr>\n",
       "    <tr>\n",
       "      <th>31</th>\n",
       "      <td>2024-10-06 14:30:00+01:00</td>\n",
       "    </tr>\n",
       "    <tr>\n",
       "      <th>32</th>\n",
       "      <td>2024-10-06 15:00:00+01:00</td>\n",
       "    </tr>\n",
       "    <tr>\n",
       "      <th>33</th>\n",
       "      <td>2024-10-06 15:30:00+01:00</td>\n",
       "    </tr>\n",
       "    <tr>\n",
       "      <th>34</th>\n",
       "      <td>2024-10-06 16:00:00+01:00</td>\n",
       "    </tr>\n",
       "    <tr>\n",
       "      <th>35</th>\n",
       "      <td>2024-10-06 16:30:00+01:00</td>\n",
       "    </tr>\n",
       "    <tr>\n",
       "      <th>36</th>\n",
       "      <td>2024-10-06 17:00:00+01:00</td>\n",
       "    </tr>\n",
       "    <tr>\n",
       "      <th>37</th>\n",
       "      <td>2024-10-06 17:30:00+01:00</td>\n",
       "    </tr>\n",
       "    <tr>\n",
       "      <th>38</th>\n",
       "      <td>2024-10-06 18:00:00+01:00</td>\n",
       "    </tr>\n",
       "    <tr>\n",
       "      <th>39</th>\n",
       "      <td>2024-10-06 18:30:00+01:00</td>\n",
       "    </tr>\n",
       "    <tr>\n",
       "      <th>40</th>\n",
       "      <td>2024-10-06 19:00:00+01:00</td>\n",
       "    </tr>\n",
       "    <tr>\n",
       "      <th>41</th>\n",
       "      <td>2024-10-06 19:30:00+01:00</td>\n",
       "    </tr>\n",
       "    <tr>\n",
       "      <th>42</th>\n",
       "      <td>2024-10-06 20:00:00+01:00</td>\n",
       "    </tr>\n",
       "    <tr>\n",
       "      <th>43</th>\n",
       "      <td>2024-10-06 20:30:00+01:00</td>\n",
       "    </tr>\n",
       "    <tr>\n",
       "      <th>44</th>\n",
       "      <td>2024-10-06 21:00:00+01:00</td>\n",
       "    </tr>\n",
       "    <tr>\n",
       "      <th>45</th>\n",
       "      <td>2024-10-06 21:30:00+01:00</td>\n",
       "    </tr>\n",
       "    <tr>\n",
       "      <th>46</th>\n",
       "      <td>2024-10-06 22:00:00+01:00</td>\n",
       "    </tr>\n",
       "    <tr>\n",
       "      <th>47</th>\n",
       "      <td>2024-10-06 22:30:00+01:00</td>\n",
       "    </tr>\n",
       "  </tbody>\n",
       "</table>\n",
       "</div>"
      ],
      "text/plain": [
       "                    datetime\n",
       "0  2024-10-05 23:00:00+01:00\n",
       "1  2024-10-05 23:30:00+01:00\n",
       "2  2024-10-06 00:00:00+01:00\n",
       "3  2024-10-06 00:30:00+01:00\n",
       "4  2024-10-06 01:00:00+01:00\n",
       "5  2024-10-06 01:30:00+01:00\n",
       "6  2024-10-06 02:00:00+01:00\n",
       "7  2024-10-06 02:30:00+01:00\n",
       "8  2024-10-06 03:00:00+01:00\n",
       "9  2024-10-06 03:30:00+01:00\n",
       "10 2024-10-06 04:00:00+01:00\n",
       "11 2024-10-06 04:30:00+01:00\n",
       "12 2024-10-06 05:00:00+01:00\n",
       "13 2024-10-06 05:30:00+01:00\n",
       "14 2024-10-06 06:00:00+01:00\n",
       "15 2024-10-06 06:30:00+01:00\n",
       "16 2024-10-06 07:00:00+01:00\n",
       "17 2024-10-06 07:30:00+01:00\n",
       "18 2024-10-06 08:00:00+01:00\n",
       "19 2024-10-06 08:30:00+01:00\n",
       "20 2024-10-06 09:00:00+01:00\n",
       "21 2024-10-06 09:30:00+01:00\n",
       "22 2024-10-06 10:00:00+01:00\n",
       "23 2024-10-06 10:30:00+01:00\n",
       "24 2024-10-06 11:00:00+01:00\n",
       "25 2024-10-06 11:30:00+01:00\n",
       "26 2024-10-06 12:00:00+01:00\n",
       "27 2024-10-06 12:30:00+01:00\n",
       "28 2024-10-06 13:00:00+01:00\n",
       "29 2024-10-06 13:30:00+01:00\n",
       "30 2024-10-06 14:00:00+01:00\n",
       "31 2024-10-06 14:30:00+01:00\n",
       "32 2024-10-06 15:00:00+01:00\n",
       "33 2024-10-06 15:30:00+01:00\n",
       "34 2024-10-06 16:00:00+01:00\n",
       "35 2024-10-06 16:30:00+01:00\n",
       "36 2024-10-06 17:00:00+01:00\n",
       "37 2024-10-06 17:30:00+01:00\n",
       "38 2024-10-06 18:00:00+01:00\n",
       "39 2024-10-06 18:30:00+01:00\n",
       "40 2024-10-06 19:00:00+01:00\n",
       "41 2024-10-06 19:30:00+01:00\n",
       "42 2024-10-06 20:00:00+01:00\n",
       "43 2024-10-06 20:30:00+01:00\n",
       "44 2024-10-06 21:00:00+01:00\n",
       "45 2024-10-06 21:30:00+01:00\n",
       "46 2024-10-06 22:00:00+01:00\n",
       "47 2024-10-06 22:30:00+01:00"
      ]
     },
     "execution_count": 3,
     "metadata": {},
     "output_type": "execute_result"
    }
   ],
   "source": [
    "import pandas as pd\n",
    "market_day = pd.DataFrame({\"datetime\":comp_utils.day_ahead_market_times(today_date=pd.to_datetime(\"2024-10-05\"))})\n",
    "# market_day = market_day.merge(submission_date_forecast,how=\"left\",left_on=\"datetime\",right_on=\"valid_datetime\")\n",
    "# market_day[\"market_bid\"] = market_day[\"q50\"]\n",
    "market_day"
   ]
  },
  {
   "cell_type": "code",
   "execution_count": 2,
   "metadata": {},
   "outputs": [
    {
     "data": {
      "text/html": [
       "<div>\n",
       "<style scoped>\n",
       "    .dataframe tbody tr th:only-of-type {\n",
       "        vertical-align: middle;\n",
       "    }\n",
       "\n",
       "    .dataframe tbody tr th {\n",
       "        vertical-align: top;\n",
       "    }\n",
       "\n",
       "    .dataframe thead th {\n",
       "        text-align: right;\n",
       "    }\n",
       "</style>\n",
       "<table border=\"1\" class=\"dataframe\">\n",
       "  <thead>\n",
       "    <tr style=\"text-align: right;\">\n",
       "      <th></th>\n",
       "      <th>timestamp_utc</th>\n",
       "      <th>settlement_date</th>\n",
       "      <th>settlement_period</th>\n",
       "      <th>data_provider</th>\n",
       "      <th>price</th>\n",
       "      <th>volume</th>\n",
       "    </tr>\n",
       "  </thead>\n",
       "  <tbody>\n",
       "    <tr>\n",
       "      <th>0</th>\n",
       "      <td>2024-10-01T22:00:00Z</td>\n",
       "      <td>2024-10-01</td>\n",
       "      <td>47</td>\n",
       "      <td>APXMIDP</td>\n",
       "      <td>80.90</td>\n",
       "      <td>1027.40</td>\n",
       "    </tr>\n",
       "    <tr>\n",
       "      <th>1</th>\n",
       "      <td>2024-10-01T22:30:00Z</td>\n",
       "      <td>2024-10-01</td>\n",
       "      <td>48</td>\n",
       "      <td>APXMIDP</td>\n",
       "      <td>74.20</td>\n",
       "      <td>1258.25</td>\n",
       "    </tr>\n",
       "    <tr>\n",
       "      <th>2</th>\n",
       "      <td>2024-10-01T23:00:00Z</td>\n",
       "      <td>2024-10-02</td>\n",
       "      <td>1</td>\n",
       "      <td>APXMIDP</td>\n",
       "      <td>77.43</td>\n",
       "      <td>1243.20</td>\n",
       "    </tr>\n",
       "    <tr>\n",
       "      <th>3</th>\n",
       "      <td>2024-10-01T23:30:00Z</td>\n",
       "      <td>2024-10-02</td>\n",
       "      <td>2</td>\n",
       "      <td>APXMIDP</td>\n",
       "      <td>77.86</td>\n",
       "      <td>1268.75</td>\n",
       "    </tr>\n",
       "    <tr>\n",
       "      <th>4</th>\n",
       "      <td>2024-10-02T00:00:00Z</td>\n",
       "      <td>2024-10-02</td>\n",
       "      <td>3</td>\n",
       "      <td>APXMIDP</td>\n",
       "      <td>67.02</td>\n",
       "      <td>1297.75</td>\n",
       "    </tr>\n",
       "  </tbody>\n",
       "</table>\n",
       "</div>"
      ],
      "text/plain": [
       "          timestamp_utc settlement_date  settlement_period data_provider  \\\n",
       "0  2024-10-01T22:00:00Z      2024-10-01                 47       APXMIDP   \n",
       "1  2024-10-01T22:30:00Z      2024-10-01                 48       APXMIDP   \n",
       "2  2024-10-01T23:00:00Z      2024-10-02                  1       APXMIDP   \n",
       "3  2024-10-01T23:30:00Z      2024-10-02                  2       APXMIDP   \n",
       "4  2024-10-02T00:00:00Z      2024-10-02                  3       APXMIDP   \n",
       "\n",
       "   price   volume  \n",
       "0  80.90  1027.40  \n",
       "1  74.20  1258.25  \n",
       "2  77.43  1243.20  \n",
       "3  77.86  1268.75  \n",
       "4  67.02  1297.75  "
      ]
     },
     "execution_count": 2,
     "metadata": {},
     "output_type": "execute_result"
    }
   ],
   "source": [
    "test_date = \"2024-10-02\"\n",
    "\n",
    "rebase_api_client.get_variable(day=test_date,variable=\"market_index\").head()"
   ]
  },
  {
   "cell_type": "code",
   "execution_count": 5,
   "metadata": {},
   "outputs": [
    {
     "data": {
      "text/plain": [
       "<Response [401]>"
      ]
     },
     "execution_count": 5,
     "metadata": {},
     "output_type": "execute_result"
    }
   ],
   "source": [
    "import requests\n",
    "\n",
    "your_api_key = open(\"team_key.txt\").read()\n",
    "url = \"https://api.rebase.energy/weather/v2/query\"\n",
    "headers = {\"Authorization\": your_api_key}\n",
    "params = {\n",
    "    'model': 'NCEP_GFS',\n",
    "    'start-date': '2024-10-01',\n",
    "    'end-date': '2024-10-01',\n",
    "    'reference-time-freq': '6H',\n",
    "    'forecast-horizon': 'latest',\n",
    "    'latitude': '60.1, 61.2, 59.33', \n",
    "    'longitude': '17.2, 13.1, 18.05',\n",
    "    'variables': 'CloudCover'\n",
    "}\n",
    "response = requests.get(url, headers=headers, params=params)\n",
    "response"
   ]
  },
  {
   "cell_type": "code",
   "execution_count": 7,
   "metadata": {},
   "outputs": [],
   "source": [
    "test_date = \"2024-01-01\""
   ]
  },
  {
   "cell_type": "code",
   "execution_count": 83,
   "metadata": {},
   "outputs": [
    {
     "name": "stdout",
     "output_type": "stream",
     "text": [
      "market_index\n",
      "(31, 6)\n",
      "day_ahead_price\n",
      "(0, 0)\n",
      "imbalance_price\n",
      "(29, 4)\n",
      "wind_total_production\n",
      "(0, 0)\n",
      "solar_total_production\n",
      "(29, 4)\n",
      "solar_and_wind_forecast\n",
      "(48, 6)\n"
     ]
    }
   ],
   "source": [
    "for col in [\"market_index\",\n",
    "                 \"day_ahead_price\",\n",
    "                 \"imbalance_price\",\n",
    "                 \"wind_total_production\",\n",
    "                 \"solar_total_production\",\n",
    "                 \"solar_and_wind_forecast\"\n",
    "                 ]:\n",
    "    data = rebase_api_client.get_variable(day = test_date, variable = col)\n",
    "    print(col)\n",
    "    print(data.shape)\n",
    "    data.to_csv(\"api_files/\" + col + \"_\" + test_date + \".csv\")"
   ]
  },
  {
   "cell_type": "code",
   "execution_count": 57,
   "metadata": {},
   "outputs": [],
   "source": [
    "test_date = \"2024-10-01\""
   ]
  },
  {
   "cell_type": "code",
   "execution_count": 9,
   "metadata": {},
   "outputs": [
    {
     "name": "stdout",
     "output_type": "stream",
     "text": [
      "200\n",
      "200\n"
     ]
    }
   ],
   "source": [
    "latest_dwd_Hornsea1 = comp_utils.weather_df_to_xr(rebase_api_client.get_hornsea_dwd())\n",
    "latest_gfs_Hornsea1 = comp_utils.weather_df_to_xr(rebase_api_client.get_hornsea_gfs())"
   ]
  },
  {
   "cell_type": "code",
   "execution_count": 11,
   "metadata": {},
   "outputs": [],
   "source": [
    "latest_dwd_Hornsea1.to_netcdf(\"api_files/dwd_icon_eu_hornsea_\" + test_date + \".nc\")\n",
    "latest_gfs_Hornsea1.to_netcdf(\"api_files/ncep_gfs_hornsea_\" + test_date + \".nc\")"
   ]
  },
  {
   "cell_type": "code",
   "execution_count": 12,
   "metadata": {},
   "outputs": [
    {
     "name": "stdout",
     "output_type": "stream",
     "text": [
      "200\n",
      "200\n"
     ]
    }
   ],
   "source": [
    "latest_dwd_pes10 = comp_utils.weather_df_to_xr(rebase_api_client.get_pes10_nwp(\"DWD_ICON-EU\"))\n",
    "latest_gfs_pes10 = comp_utils.weather_df_to_xr(rebase_api_client.get_pes10_nwp(\"NCEP_GFS\"))"
   ]
  },
  {
   "cell_type": "code",
   "execution_count": 13,
   "metadata": {},
   "outputs": [],
   "source": [
    "latest_dwd_pes10.to_netcdf(\"api_files/dwd_icon_eu_pes10_\" + test_date + \".nc\")\n",
    "latest_gfs_pes10.to_netcdf(\"api_files/ncep_gfs_pes10_\" + test_date + \".nc\")"
   ]
  },
  {
   "cell_type": "code",
   "execution_count": 14,
   "metadata": {},
   "outputs": [
    {
     "name": "stdout",
     "output_type": "stream",
     "text": [
      "200\n",
      "200\n"
     ]
    }
   ],
   "source": [
    "latest_dwd_demand = comp_utils.weather_df_to_xr(rebase_api_client.get_demand_nwp(\"DWD_ICON-EU\"))\n",
    "latest_gfs_demand = comp_utils.weather_df_to_xr(rebase_api_client.get_demand_nwp(\"NCEP_GFS\"))"
   ]
  },
  {
   "cell_type": "code",
   "execution_count": 15,
   "metadata": {},
   "outputs": [],
   "source": [
    "latest_dwd_pes10.to_netcdf(\"api_files/dwd_icon_eu_demand_\" + test_date + \".nc\")\n",
    "latest_gfs_pes10.to_netcdf(\"api_files/ncep_gfs_demand_\" + test_date + \".nc\")"
   ]
  },
  {
   "cell_type": "code",
   "execution_count": 16,
   "metadata": {},
   "outputs": [
    {
     "name": "stdout",
     "output_type": "stream",
     "text": [
      "<Response [200]>\n"
     ]
    }
   ],
   "source": [
    "import pandas as pd\n",
    "\n",
    "pd.DataFrame(rebase_api_client.get_day_ahead_demand_forecast()).to_csv(\"api_files/demand_forecast_\" + test_date + \".csv\")"
   ]
  },
  {
   "cell_type": "code",
   "execution_count": 17,
   "metadata": {},
   "outputs": [
    {
     "name": "stdout",
     "output_type": "stream",
     "text": [
      "<Response [200]>\n"
     ]
    }
   ],
   "source": [
    "import pandas as pd\n",
    "\n",
    "pd.DataFrame(rebase_api_client.get_margin_forecast()).to_csv(\"api_files/margin_forecast_\" + test_date + \".csv\")"
   ]
  }
 ],
 "metadata": {
  "kernelspec": {
   "display_name": "awp2",
   "language": "python",
   "name": "python3"
  },
  "language_info": {
   "codemirror_mode": {
    "name": "ipython",
    "version": 3
   },
   "file_extension": ".py",
   "mimetype": "text/x-python",
   "name": "python",
   "nbconvert_exporter": "python",
   "pygments_lexer": "ipython3",
   "version": "3.11.9"
  }
 },
 "nbformat": 4,
 "nbformat_minor": 2
}
