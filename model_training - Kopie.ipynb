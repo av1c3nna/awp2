{
 "cells": [
  {
   "cell_type": "code",
   "execution_count": 1,
   "metadata": {},
   "outputs": [],
   "source": [
    "import model_utils\n",
    "import pandas as pd\n",
    "\n",
    "merged_hornsea = pd.read_parquet(\"preprocessed_hornsea_with_energy.parquet\")\n",
    "merged_pes = pd.read_parquet(\"preprocessed_pes_with_energy.parquet\")"
   ]
  },
  {
   "cell_type": "markdown",
   "metadata": {},
   "source": [
    "Train model on wind and energy data at once"
   ]
  },
  {
   "cell_type": "code",
   "execution_count": null,
   "metadata": {},
   "outputs": [],
   "source": [
    "import model_utils\n",
    "import pandas as pd\n",
    "\n",
    "merged_hornsea = pd.read_parquet(\"preprocessed_hornsea_with_energy.parquet\")\n",
    "merged_pes = pd.read_parquet(\"preprocessed_pes_with_energy.parquet\")\n",
    "\n",
    "columns_to_add = list()\n",
    "\n",
    "for col in merged_hornsea.columns:\n",
    "    if col not in merged_pes.columns:\n",
    "        columns_to_add.append(col)\n",
    "\n",
    "merged_all = merged_pes.merge(merged_hornsea[columns_to_add], left_index = True, right_index = True)\n",
    "merged_all[\"energy\"] = merged_all[\"Solar_MWh_credit\"] + merged_all[\"Wind_MWh_credit\"]\n",
    "merged_all.drop([\"Solar_MWh_credit\", \"Wind_MWh_credit\"], axis = 1, inplace = True)\n",
    "\n",
    "from Preprocessing import *\n",
    "feature_engineerer_all = FeatureEngineerer(labels_to_remove=  [\"energy\"], columns_to_ohe = ['unavailabilityType', 'affectedUnit'], label = [\"energy\"])\n",
    "feature_engineerer_all.perform_feature_engineering(merged_all, deployment = False, labels_to_remove=  [\"energy\"])\n",
    "\n",
    "import numpy as np\n",
    "quantiles = np.arange(0.1, 1.0, 0.1).round(2)\n",
    "\n",
    "# Specify model save directory\n",
    "model_save_dir_qr = \"lgbm_mode\"\n",
    "\n",
    "lgbm_model = model_utils.LGBMRegressorModel(feature_engineerer_all, quantiles, model_save_dir=model_save_dir_qr, load_pretrained=False)\n",
    "lgbm_model.train_and_predict()  # This will skip training for already loaded models\n",
    "\n",
    "def pinball_score(self):\n",
    "        \"\"\"pinball score implemetation\"\"\"\n",
    "\n",
    "        score = []\n",
    "        try:\n",
    "            df = pd.DataFrame(self.q_predictions)\n",
    "        except:\n",
    "            df = pd.DataFrame()\n",
    "            for k in self.q_predictions.keys():\n",
    "                df[k] = pd.DataFrame(self.q_predictions[k])\n",
    "        for qu in self.quantiles:\n",
    "            score.append(self.pinball(y=df[\"true\"], q=df[str(qu)], alpha=qu).mean())\n",
    "        return sum(score) / len(score)\n",
    "\n",
    "print(pinball_score(lgbm_model))\n",
    "# import plotly.express as px\n",
    "# df.index = feature_engineerer_all.y_test.index\n",
    "# px.line(df, y = [\"true\", \"0.5\"])"
   ]
  },
  {
   "cell_type": "code",
   "execution_count": null,
   "metadata": {},
   "outputs": [],
   "source": [
    "from Preprocessing import * \n",
    "\n",
    "prep = Preprocessing()\n",
    "\n",
    "merged_hornsea = prep.perform_preprocessing_pipeline(geo_data_dict = {\"dwd_icon_eu_hornsea\":\"nc_files\", \"ncep_gfs_hornsea\":\"nc_files\"},\n",
    "                                              deployment = False, merge_with_outage_data = True, json_file_path = \"nc_files/REMIT\", energy_data_dict = {\"Energy_data\":\"csv_files\"},\n",
    "                                              non_numerical_columns = [\"unavailabilityType\", \"affectedUnit\"],\n",
    "                                              fft = False, )\n",
    "\n",
    "merged_pes = prep.perform_preprocessing_pipeline(geo_data_dict = {\"dwd_icon_eu_pes\":\"nc_files\", \"ncep_gfs_pes\":\"nc_files\"},\n",
    "          deployment = False, merge_with_outage_data = False, energy_data_dict = {\"Energy_data\":\"csv_files\"},\n",
    "                                              non_numerical_columns = [\"unavailabilityType\", \"affectedUnit\"],\n",
    "                                              fft = False, ) \n",
    "\n",
    "merged_demand = prep.perform_preprocessing_pipeline(geo_data_dict = {\"dwd_icon_eu_demand\":\"nc_files\", \"ncep_gfs_demand\":\"nc_files\"},\n",
    "          deployment = False, merge_with_outage_data = True, energy_data_dict = {\"Energy_data\":\"csv_files\"},\n",
    "                                              non_numerical_columns = [\"unavailabilityType\", \"affectedUnit\"],\n",
    "                                              fft = False, )"
   ]
  },
  {
   "cell_type": "code",
   "execution_count": null,
   "metadata": {},
   "outputs": [],
   "source": [
    "merged_demand = prep.perform_preprocessing_pipeline(geo_data_dict = {\"dwd_icon_eu_demand\":\"nc_files\", \"ncep_gfs_demand\":\"nc_files\"},\n",
    "          deployment = False, merge_with_outage_data = True, energy_data_dict = {\"Energy_data\":\"csv_files\"},\n",
    "                                              non_numerical_columns = [\"unavailabilityType\", \"affectedUnit\"],\n",
    "                                              fft = False, )"
   ]
  },
  {
   "cell_type": "code",
   "execution_count": 15,
   "metadata": {},
   "outputs": [],
   "source": [
    "merged_hornsea.to_parquet(\"preprocessed_hornsea_with_energy.parquet\")\n",
    "merged_pes.to_parquet(\"preprocessed_pes_with_energy.parquet\")"
   ]
  },
  {
   "cell_type": "code",
   "execution_count": null,
   "metadata": {},
   "outputs": [],
   "source": [
    "from Preprocessing import * \n",
    "\n",
    "prep = Preprocessing()\n",
    "\n",
    "merged_hornsea = prep.perform_preprocessing_pipeline(geo_data_dict = {\"dwd_icon_eu_hornsea\":\"nc_files\", \"ncep_gfs_hornsea\":\"nc_files\"},\n",
    "                                              deployment = False, merge_with_outage_data = True, json_file_path = \"nc_files/REMIT\", energy_data_dict = {\"Energy_data\":\"csv_files\"},\n",
    "                                              non_numerical_columns = [\"unavailabilityType\", \"affectedUnit\"],\n",
    "                                              fft = False, )\n",
    "\n",
    "merged_pes = prep.perform_preprocessing_pipeline(geo_data_dict = {\"dwd_icon_eu_pes\":\"nc_files\", \"ncep_gfs_pes\":\"nc_files\"},\n",
    "          deployment = False, merge_with_outage_data = False, energy_data_dict = {\"Energy_data\":\"csv_files\"},\n",
    "                                              non_numerical_columns = [\"unavailabilityType\", \"affectedUnit\"],\n",
    "                                              fft = False, ) \n",
    "\n",
    "merged_demand = prep.perform_preprocessing_pipeline(geo_data_dict = {\"dwd_icon_eu_demand\":\"nc_files\", \"ncep_gfs_demand\":\"nc_files\"},\n",
    "          deployment = False, merge_with_outage_data = True, energy_data_dict = {\"Energy_data\":\"csv_files\"},\n",
    "                                              non_numerical_columns = [\"unavailabilityType\", \"affectedUnit\"],\n",
    "                                              fft = False, )"
   ]
  },
  {
   "cell_type": "code",
   "execution_count": 21,
   "metadata": {},
   "outputs": [],
   "source": [
    "import importlib\n",
    "import Preprocessing\n",
    "importlib.reload(Preprocessing)\n",
    "import model_utils\n",
    "import pandas as pd\n",
    "\n",
    "merged_hornsea = pd.read_parquet(\"preprocessed_hornsea_with_energy.parquet\")\n",
    "merged_pes = pd.read_parquet(\"preprocessed_pes_with_energy.parquet\")\n",
    "\n",
    "feature_engineerer_wind = Preprocessing.FeatureEngineerer(label = 'Wind_MWh_credit', columns_to_ohe = ['unavailabilityType', 'affectedUnit'])\n",
    "feature_engineerer_wind.perform_feature_engineering(merged_hornsea.drop([\"rel_hum\", \"rel_hum_diff\", \"forecast_horizon\"], axis = 1), deployment = False)\n",
    "\n",
    "feature_engineerer_solar = Preprocessing.FeatureEngineerer(label = \"Solar_MWh_credit\")\n",
    "feature_engineerer_solar.perform_feature_engineering(merged_pes, deployment = False)\n",
    "\n",
    "merged_pes_simple = merged_pes[['solar_down_rad', 'Solar_MWh_credit', 'Wind_MWh_credit']]\n",
    "feature_engineerer_solar_baseline = Preprocessing.FeatureEngineerer(label = 'Solar_MWh_credit')\n",
    "feature_engineerer_solar_baseline.perform_feature_engineering(merged_pes_simple, deployment = False)\n",
    "\n",
    "merged_hornsea_simple = merged_hornsea[['wind_speed_100', 'Solar_MWh_credit', 'Wind_MWh_credit']]\n",
    "feature_engineerer_wind_baseline = Preprocessing.FeatureEngineerer(label = 'Wind_MWh_credit')\n",
    "feature_engineerer_wind_baseline.perform_feature_engineering(merged_hornsea_simple, deployment = False)"
   ]
  },
  {
   "cell_type": "code",
   "execution_count": 1,
   "metadata": {},
   "outputs": [],
   "source": [
    "import model_utils\n",
    "import pandas as pd\n",
    "\n",
    "merged_hornsea = pd.read_parquet(\"preprocessed_hornsea_with_energy.parquet\")\n",
    "merged_pes = pd.read_parquet(\"preprocessed_pes_with_energy.parquet\")"
   ]
  },
  {
   "cell_type": "code",
   "execution_count": null,
   "metadata": {},
   "outputs": [],
   "source": [
    "print(f\"Quantile Regressor Pinball Score: {lgbm_model.pinball_score()}\")"
   ]
  },
  {
   "cell_type": "code",
   "execution_count": 31,
   "metadata": {},
   "outputs": [],
   "source": [
    "df = pinball_score(lg2)"
   ]
  },
  {
   "cell_type": "code",
   "execution_count": 8,
   "metadata": {},
   "outputs": [
    {
     "name": "stderr",
     "output_type": "stream",
     "text": [
      "c:\\Users\\danie\\anaconda3\\envs\\awp2\\Lib\\site-packages\\sklearn\\utils\\validation.py:1339: DataConversionWarning: A column-vector y was passed when a 1d array was expected. Please change the shape of y to (n_samples, ), for example using ravel().\n",
      "  y = column_or_1d(y, warn=True)\n",
      "c:\\Users\\danie\\anaconda3\\envs\\awp2\\Lib\\site-packages\\lightgbm\\engine.py:204: UserWarning: Found `num_iterations` in params. Will use it instead of argument\n",
      "  _log_warning(f\"Found `{alias}` in params. Will use it instead of argument\")\n"
     ]
    },
    {
     "name": "stdout",
     "output_type": "stream",
     "text": [
      "Training until validation scores don't improve for 20 rounds\n",
      "[50]\ttrain's quantile: 34.6488\tvalid's quantile: 36.2569\n",
      "[100]\ttrain's quantile: 31.327\tvalid's quantile: 33.1\n",
      "[150]\ttrain's quantile: 28.6881\tvalid's quantile: 30.659\n",
      "[200]\ttrain's quantile: 26.5795\tvalid's quantile: 28.709\n",
      "[250]\ttrain's quantile: 24.754\tvalid's quantile: 27.1034\n",
      "[300]\ttrain's quantile: 23.2089\tvalid's quantile: 25.7572\n",
      "[350]\ttrain's quantile: 21.9963\tvalid's quantile: 24.6581\n",
      "[400]\ttrain's quantile: 21.0421\tvalid's quantile: 23.8594\n",
      "[450]\ttrain's quantile: 20.2151\tvalid's quantile: 23.0965\n",
      "[500]\ttrain's quantile: 19.5426\tvalid's quantile: 22.4842\n",
      "Did not meet early stopping. Best iteration is:\n",
      "[500]\ttrain's quantile: 19.5426\tvalid's quantile: 22.4842\n"
     ]
    },
    {
     "name": "stderr",
     "output_type": "stream",
     "text": [
      "c:\\Users\\danie\\anaconda3\\envs\\awp2\\Lib\\site-packages\\sklearn\\utils\\validation.py:1339: DataConversionWarning: A column-vector y was passed when a 1d array was expected. Please change the shape of y to (n_samples, ), for example using ravel().\n",
      "  y = column_or_1d(y, warn=True)\n",
      "c:\\Users\\danie\\anaconda3\\envs\\awp2\\Lib\\site-packages\\lightgbm\\engine.py:204: UserWarning: Found `num_iterations` in params. Will use it instead of argument\n",
      "  _log_warning(f\"Found `{alias}` in params. Will use it instead of argument\")\n"
     ]
    },
    {
     "name": "stdout",
     "output_type": "stream",
     "text": [
      "Training until validation scores don't improve for 20 rounds\n",
      "[50]\ttrain's quantile: 34.8657\tvalid's quantile: 36.4649\n",
      "[100]\ttrain's quantile: 31.9485\tvalid's quantile: 33.711\n",
      "[150]\ttrain's quantile: 28.9332\tvalid's quantile: 30.8622\n",
      "[200]\ttrain's quantile: 26.4179\tvalid's quantile: 28.5119\n",
      "[250]\ttrain's quantile: 24.262\tvalid's quantile: 26.5269\n",
      "[300]\ttrain's quantile: 22.4277\tvalid's quantile: 24.8366\n",
      "[350]\ttrain's quantile: 20.9191\tvalid's quantile: 23.4503\n",
      "[400]\ttrain's quantile: 19.7567\tvalid's quantile: 22.3498\n",
      "[450]\ttrain's quantile: 18.7553\tvalid's quantile: 21.4203\n",
      "[500]\ttrain's quantile: 17.9417\tvalid's quantile: 20.6797\n",
      "Did not meet early stopping. Best iteration is:\n",
      "[500]\ttrain's quantile: 17.9417\tvalid's quantile: 20.6797\n",
      "[50]\ttrain's quantile: 35.7188\tvalid's quantile: 37.2002\n",
      "[100]\ttrain's quantile: 34.7697\tvalid's quantile: 36.2332\n"
     ]
    },
    {
     "name": "stderr",
     "output_type": "stream",
     "text": [
      "c:\\Users\\danie\\anaconda3\\envs\\awp2\\Lib\\site-packages\\sklearn\\utils\\validation.py:1339: DataConversionWarning: A column-vector y was passed when a 1d array was expected. Please change the shape of y to (n_samples, ), for example using ravel().\n",
      "  y = column_or_1d(y, warn=True)\n",
      "c:\\Users\\danie\\anaconda3\\envs\\awp2\\Lib\\site-packages\\lightgbm\\engine.py:204: UserWarning: Found `num_iterations` in params. Will use it instead of argument\n",
      "  _log_warning(f\"Found `{alias}` in params. Will use it instead of argument\")\n",
      "c:\\Users\\danie\\anaconda3\\envs\\awp2\\Lib\\site-packages\\lightgbm\\callback.py:329: UserWarning: Early stopping is not available in dart mode\n",
      "  _log_warning(\"Early stopping is not available in dart mode\")\n"
     ]
    },
    {
     "name": "stdout",
     "output_type": "stream",
     "text": [
      "[150]\ttrain's quantile: 34.3083\tvalid's quantile: 35.7257\n",
      "[200]\ttrain's quantile: 33.9251\tvalid's quantile: 35.3686\n"
     ]
    },
    {
     "name": "stderr",
     "output_type": "stream",
     "text": [
      "c:\\Users\\danie\\anaconda3\\envs\\awp2\\Lib\\site-packages\\sklearn\\utils\\validation.py:1339: DataConversionWarning: A column-vector y was passed when a 1d array was expected. Please change the shape of y to (n_samples, ), for example using ravel().\n",
      "  y = column_or_1d(y, warn=True)\n",
      "c:\\Users\\danie\\anaconda3\\envs\\awp2\\Lib\\site-packages\\lightgbm\\engine.py:204: UserWarning: Found `num_iterations` in params. Will use it instead of argument\n",
      "  _log_warning(f\"Found `{alias}` in params. Will use it instead of argument\")\n",
      "c:\\Users\\danie\\anaconda3\\envs\\awp2\\Lib\\site-packages\\lightgbm\\callback.py:329: UserWarning: Early stopping is not available in dart mode\n",
      "  _log_warning(\"Early stopping is not available in dart mode\")\n"
     ]
    },
    {
     "name": "stdout",
     "output_type": "stream",
     "text": [
      "[50]\ttrain's quantile: 36.0357\tvalid's quantile: 37.5445\n",
      "[100]\ttrain's quantile: 35.0011\tvalid's quantile: 36.4796\n",
      "[150]\ttrain's quantile: 34.347\tvalid's quantile: 35.8835\n",
      "[200]\ttrain's quantile: 33.8474\tvalid's quantile: 35.4175\n",
      "[50]\ttrain's quantile: 37.8843\tvalid's quantile: 39.3989\n",
      "[100]\ttrain's quantile: 37.7858\tvalid's quantile: 39.312\n"
     ]
    },
    {
     "name": "stderr",
     "output_type": "stream",
     "text": [
      "c:\\Users\\danie\\anaconda3\\envs\\awp2\\Lib\\site-packages\\sklearn\\utils\\validation.py:1339: DataConversionWarning: A column-vector y was passed when a 1d array was expected. Please change the shape of y to (n_samples, ), for example using ravel().\n",
      "  y = column_or_1d(y, warn=True)\n",
      "c:\\Users\\danie\\anaconda3\\envs\\awp2\\Lib\\site-packages\\lightgbm\\engine.py:204: UserWarning: Found `num_iterations` in params. Will use it instead of argument\n",
      "  _log_warning(f\"Found `{alias}` in params. Will use it instead of argument\")\n",
      "c:\\Users\\danie\\anaconda3\\envs\\awp2\\Lib\\site-packages\\lightgbm\\callback.py:329: UserWarning: Early stopping is not available in dart mode\n",
      "  _log_warning(\"Early stopping is not available in dart mode\")\n",
      "c:\\Users\\danie\\anaconda3\\envs\\awp2\\Lib\\site-packages\\sklearn\\utils\\validation.py:1339: DataConversionWarning: A column-vector y was passed when a 1d array was expected. Please change the shape of y to (n_samples, ), for example using ravel().\n",
      "  y = column_or_1d(y, warn=True)\n",
      "c:\\Users\\danie\\anaconda3\\envs\\awp2\\Lib\\site-packages\\lightgbm\\engine.py:204: UserWarning: Found `num_iterations` in params. Will use it instead of argument\n",
      "  _log_warning(f\"Found `{alias}` in params. Will use it instead of argument\")\n",
      "c:\\Users\\danie\\anaconda3\\envs\\awp2\\Lib\\site-packages\\lightgbm\\callback.py:329: UserWarning: Early stopping is not available in dart mode\n",
      "  _log_warning(\"Early stopping is not available in dart mode\")\n",
      "c:\\Users\\danie\\anaconda3\\envs\\awp2\\Lib\\site-packages\\sklearn\\utils\\validation.py:1339: DataConversionWarning: A column-vector y was passed when a 1d array was expected. Please change the shape of y to (n_samples, ), for example using ravel().\n",
      "  y = column_or_1d(y, warn=True)\n",
      "c:\\Users\\danie\\anaconda3\\envs\\awp2\\Lib\\site-packages\\lightgbm\\engine.py:204: UserWarning: Found `num_iterations` in params. Will use it instead of argument\n",
      "  _log_warning(f\"Found `{alias}` in params. Will use it instead of argument\")\n"
     ]
    },
    {
     "name": "stdout",
     "output_type": "stream",
     "text": [
      "[50]\ttrain's quantile: 38.0628\tvalid's quantile: 39.5862\n",
      "[100]\ttrain's quantile: 37.961\tvalid's quantile: 39.5239\n",
      "[50]\ttrain's quantile: 20.8325\tvalid's quantile: 23.2819\n"
     ]
    },
    {
     "name": "stderr",
     "output_type": "stream",
     "text": [
      "c:\\Users\\danie\\anaconda3\\envs\\awp2\\Lib\\site-packages\\lightgbm\\callback.py:329: UserWarning: Early stopping is not available in dart mode\n",
      "  _log_warning(\"Early stopping is not available in dart mode\")\n",
      "c:\\Users\\danie\\anaconda3\\envs\\awp2\\Lib\\site-packages\\sklearn\\utils\\validation.py:1339: DataConversionWarning: A column-vector y was passed when a 1d array was expected. Please change the shape of y to (n_samples, ), for example using ravel().\n",
      "  y = column_or_1d(y, warn=True)\n",
      "c:\\Users\\danie\\anaconda3\\envs\\awp2\\Lib\\site-packages\\lightgbm\\engine.py:204: UserWarning: Found `num_iterations` in params. Will use it instead of argument\n",
      "  _log_warning(f\"Found `{alias}` in params. Will use it instead of argument\")\n",
      "c:\\Users\\danie\\anaconda3\\envs\\awp2\\Lib\\site-packages\\lightgbm\\callback.py:329: UserWarning: Early stopping is not available in dart mode\n",
      "  _log_warning(\"Early stopping is not available in dart mode\")\n"
     ]
    },
    {
     "name": "stdout",
     "output_type": "stream",
     "text": [
      "[100]\ttrain's quantile: 19.0509\tvalid's quantile: 21.7908\n",
      "[50]\ttrain's quantile: 18.4006\tvalid's quantile: 20.6551\n",
      "[100]\ttrain's quantile: 16.1709\tvalid's quantile: 18.714\n",
      "Training until validation scores don't improve for 20 rounds\n",
      "[50]\ttrain's quantile: 20.4519\tvalid's quantile: 23.4612\n",
      "[100]\ttrain's quantile: 16.6503\tvalid's quantile: 20.4265\n"
     ]
    },
    {
     "name": "stderr",
     "output_type": "stream",
     "text": [
      "c:\\Users\\danie\\anaconda3\\envs\\awp2\\Lib\\site-packages\\sklearn\\utils\\validation.py:1339: DataConversionWarning: A column-vector y was passed when a 1d array was expected. Please change the shape of y to (n_samples, ), for example using ravel().\n",
      "  y = column_or_1d(y, warn=True)\n",
      "c:\\Users\\danie\\anaconda3\\envs\\awp2\\Lib\\site-packages\\lightgbm\\engine.py:204: UserWarning: Found `num_iterations` in params. Will use it instead of argument\n",
      "  _log_warning(f\"Found `{alias}` in params. Will use it instead of argument\")\n",
      "c:\\Users\\danie\\anaconda3\\envs\\awp2\\Lib\\site-packages\\sklearn\\utils\\validation.py:1339: DataConversionWarning: A column-vector y was passed when a 1d array was expected. Please change the shape of y to (n_samples, ), for example using ravel().\n",
      "  y = column_or_1d(y, warn=True)\n",
      "c:\\Users\\danie\\anaconda3\\envs\\awp2\\Lib\\site-packages\\lightgbm\\engine.py:204: UserWarning: Found `num_iterations` in params. Will use it instead of argument\n",
      "  _log_warning(f\"Found `{alias}` in params. Will use it instead of argument\")\n"
     ]
    },
    {
     "name": "stdout",
     "output_type": "stream",
     "text": [
      "Training until validation scores don't improve for 20 rounds\n",
      "[50]\ttrain's quantile: 18.6421\tvalid's quantile: 21.2919\n",
      "[100]\ttrain's quantile: 13.7745\tvalid's quantile: 17.7239\n",
      "Training until validation scores don't improve for 20 rounds\n"
     ]
    },
    {
     "name": "stderr",
     "output_type": "stream",
     "text": [
      "c:\\Users\\danie\\anaconda3\\envs\\awp2\\Lib\\site-packages\\sklearn\\utils\\validation.py:1339: DataConversionWarning: A column-vector y was passed when a 1d array was expected. Please change the shape of y to (n_samples, ), for example using ravel().\n",
      "  y = column_or_1d(y, warn=True)\n",
      "c:\\Users\\danie\\anaconda3\\envs\\awp2\\Lib\\site-packages\\lightgbm\\engine.py:204: UserWarning: Found `num_iterations` in params. Will use it instead of argument\n",
      "  _log_warning(f\"Found `{alias}` in params. Will use it instead of argument\")\n"
     ]
    },
    {
     "name": "stdout",
     "output_type": "stream",
     "text": [
      "[50]\ttrain's quantile: 17.7226\tvalid's quantile: 20.9347\n",
      "[100]\ttrain's quantile: 12.4583\tvalid's quantile: 17.0324\n",
      "Saved Quantile Regressor model for quantile 0.1 to lgbm_model_wind\\lgbm_model_quantile_0.1.pkl\n"
     ]
    },
    {
     "name": "stderr",
     "output_type": "stream",
     "text": [
      "c:\\Users\\danie\\anaconda3\\envs\\awp2\\Lib\\site-packages\\sklearn\\utils\\validation.py:1339: DataConversionWarning: A column-vector y was passed when a 1d array was expected. Please change the shape of y to (n_samples, ), for example using ravel().\n",
      "  y = column_or_1d(y, warn=True)\n",
      "c:\\Users\\danie\\anaconda3\\envs\\awp2\\Lib\\site-packages\\lightgbm\\engine.py:204: UserWarning: Found `num_iterations` in params. Will use it instead of argument\n",
      "  _log_warning(f\"Found `{alias}` in params. Will use it instead of argument\")\n",
      "c:\\Users\\danie\\anaconda3\\envs\\awp2\\Lib\\site-packages\\lightgbm\\callback.py:329: UserWarning: Early stopping is not available in dart mode\n",
      "  _log_warning(\"Early stopping is not available in dart mode\")\n"
     ]
    },
    {
     "name": "stdout",
     "output_type": "stream",
     "text": [
      "[50]\ttrain's quantile: 68.5932\tvalid's quantile: 71.4326\n",
      "[100]\ttrain's quantile: 68.2463\tvalid's quantile: 71.2109\n",
      "[150]\ttrain's quantile: 68.3378\tvalid's quantile: 71.3573\n",
      "[200]\ttrain's quantile: 68.5224\tvalid's quantile: 71.5586\n"
     ]
    },
    {
     "name": "stderr",
     "output_type": "stream",
     "text": [
      "c:\\Users\\danie\\anaconda3\\envs\\awp2\\Lib\\site-packages\\sklearn\\utils\\validation.py:1339: DataConversionWarning: A column-vector y was passed when a 1d array was expected. Please change the shape of y to (n_samples, ), for example using ravel().\n",
      "  y = column_or_1d(y, warn=True)\n",
      "c:\\Users\\danie\\anaconda3\\envs\\awp2\\Lib\\site-packages\\lightgbm\\engine.py:204: UserWarning: Found `num_iterations` in params. Will use it instead of argument\n",
      "  _log_warning(f\"Found `{alias}` in params. Will use it instead of argument\")\n",
      "c:\\Users\\danie\\anaconda3\\envs\\awp2\\Lib\\site-packages\\lightgbm\\callback.py:329: UserWarning: Early stopping is not available in dart mode\n",
      "  _log_warning(\"Early stopping is not available in dart mode\")\n"
     ]
    },
    {
     "name": "stdout",
     "output_type": "stream",
     "text": [
      "[50]\ttrain's quantile: 69.6674\tvalid's quantile: 72.5243\n",
      "[100]\ttrain's quantile: 69.2685\tvalid's quantile: 72.2135\n",
      "[150]\ttrain's quantile: 69.2469\tvalid's quantile: 72.2077\n",
      "[200]\ttrain's quantile: 69.3448\tvalid's quantile: 72.3023\n",
      "[50]\ttrain's quantile: 47.0578\tvalid's quantile: 50.9256\n",
      "[100]\ttrain's quantile: 42.0703\tvalid's quantile: 46.3655\n"
     ]
    },
    {
     "name": "stderr",
     "output_type": "stream",
     "text": [
      "c:\\Users\\danie\\anaconda3\\envs\\awp2\\Lib\\site-packages\\sklearn\\utils\\validation.py:1339: DataConversionWarning: A column-vector y was passed when a 1d array was expected. Please change the shape of y to (n_samples, ), for example using ravel().\n",
      "  y = column_or_1d(y, warn=True)\n",
      "c:\\Users\\danie\\anaconda3\\envs\\awp2\\Lib\\site-packages\\lightgbm\\engine.py:204: UserWarning: Found `num_iterations` in params. Will use it instead of argument\n",
      "  _log_warning(f\"Found `{alias}` in params. Will use it instead of argument\")\n",
      "c:\\Users\\danie\\anaconda3\\envs\\awp2\\Lib\\site-packages\\lightgbm\\callback.py:329: UserWarning: Early stopping is not available in dart mode\n",
      "  _log_warning(\"Early stopping is not available in dart mode\")\n"
     ]
    },
    {
     "name": "stdout",
     "output_type": "stream",
     "text": [
      "[150]\ttrain's quantile: 40.0408\tvalid's quantile: 44.4202\n",
      "[200]\ttrain's quantile: 39.4682\tvalid's quantile: 43.7417\n",
      "[250]\ttrain's quantile: 35.425\tvalid's quantile: 39.9691\n",
      "[300]\ttrain's quantile: 33.4277\tvalid's quantile: 38.1113\n",
      "[350]\ttrain's quantile: 32.2055\tvalid's quantile: 36.9464\n",
      "[400]\ttrain's quantile: 32.1413\tvalid's quantile: 36.9384\n",
      "[450]\ttrain's quantile: 32.1908\tvalid's quantile: 36.9333\n",
      "[500]\ttrain's quantile: 29.1901\tvalid's quantile: 34.2655\n"
     ]
    },
    {
     "name": "stderr",
     "output_type": "stream",
     "text": [
      "c:\\Users\\danie\\anaconda3\\envs\\awp2\\Lib\\site-packages\\sklearn\\utils\\validation.py:1339: DataConversionWarning: A column-vector y was passed when a 1d array was expected. Please change the shape of y to (n_samples, ), for example using ravel().\n",
      "  y = column_or_1d(y, warn=True)\n",
      "c:\\Users\\danie\\anaconda3\\envs\\awp2\\Lib\\site-packages\\lightgbm\\engine.py:204: UserWarning: Found `num_iterations` in params. Will use it instead of argument\n",
      "  _log_warning(f\"Found `{alias}` in params. Will use it instead of argument\")\n",
      "c:\\Users\\danie\\anaconda3\\envs\\awp2\\Lib\\site-packages\\lightgbm\\callback.py:329: UserWarning: Early stopping is not available in dart mode\n",
      "  _log_warning(\"Early stopping is not available in dart mode\")\n"
     ]
    },
    {
     "name": "stdout",
     "output_type": "stream",
     "text": [
      "[50]\ttrain's quantile: 45.3107\tvalid's quantile: 48.7658\n",
      "[100]\ttrain's quantile: 38.9963\tvalid's quantile: 42.8275\n",
      "[150]\ttrain's quantile: 36.3361\tvalid's quantile: 40.2377\n",
      "[200]\ttrain's quantile: 35.4647\tvalid's quantile: 39.3629\n",
      "[250]\ttrain's quantile: 30.8195\tvalid's quantile: 35.0112\n",
      "[300]\ttrain's quantile: 28.7448\tvalid's quantile: 33.1076\n",
      "[350]\ttrain's quantile: 27.4272\tvalid's quantile: 31.9488\n",
      "[400]\ttrain's quantile: 27.2634\tvalid's quantile: 31.8395\n",
      "[450]\ttrain's quantile: 27.4484\tvalid's quantile: 32.0143\n",
      "[500]\ttrain's quantile: 24.4088\tvalid's quantile: 29.5083\n",
      "[50]\ttrain's quantile: 69.7012\tvalid's quantile: 72.5037\n"
     ]
    },
    {
     "name": "stderr",
     "output_type": "stream",
     "text": [
      "c:\\Users\\danie\\anaconda3\\envs\\awp2\\Lib\\site-packages\\sklearn\\utils\\validation.py:1339: DataConversionWarning: A column-vector y was passed when a 1d array was expected. Please change the shape of y to (n_samples, ), for example using ravel().\n",
      "  y = column_or_1d(y, warn=True)\n",
      "c:\\Users\\danie\\anaconda3\\envs\\awp2\\Lib\\site-packages\\lightgbm\\engine.py:204: UserWarning: Found `num_iterations` in params. Will use it instead of argument\n",
      "  _log_warning(f\"Found `{alias}` in params. Will use it instead of argument\")\n",
      "c:\\Users\\danie\\anaconda3\\envs\\awp2\\Lib\\site-packages\\lightgbm\\callback.py:329: UserWarning: Early stopping is not available in dart mode\n",
      "  _log_warning(\"Early stopping is not available in dart mode\")\n"
     ]
    },
    {
     "name": "stdout",
     "output_type": "stream",
     "text": [
      "[100]\ttrain's quantile: 69.9021\tvalid's quantile: 72.7931\n",
      "[150]\ttrain's quantile: 70.3437\tvalid's quantile: 73.2864\n",
      "[200]\ttrain's quantile: 70.8109\tvalid's quantile: 73.797\n"
     ]
    },
    {
     "name": "stderr",
     "output_type": "stream",
     "text": [
      "c:\\Users\\danie\\anaconda3\\envs\\awp2\\Lib\\site-packages\\sklearn\\utils\\validation.py:1339: DataConversionWarning: A column-vector y was passed when a 1d array was expected. Please change the shape of y to (n_samples, ), for example using ravel().\n",
      "  y = column_or_1d(y, warn=True)\n",
      "c:\\Users\\danie\\anaconda3\\envs\\awp2\\Lib\\site-packages\\lightgbm\\engine.py:204: UserWarning: Found `num_iterations` in params. Will use it instead of argument\n",
      "  _log_warning(f\"Found `{alias}` in params. Will use it instead of argument\")\n",
      "c:\\Users\\danie\\anaconda3\\envs\\awp2\\Lib\\site-packages\\lightgbm\\callback.py:329: UserWarning: Early stopping is not available in dart mode\n",
      "  _log_warning(\"Early stopping is not available in dart mode\")\n"
     ]
    },
    {
     "name": "stdout",
     "output_type": "stream",
     "text": [
      "[50]\ttrain's quantile: 70.7561\tvalid's quantile: 73.6349\n",
      "[100]\ttrain's quantile: 70.9694\tvalid's quantile: 73.9419\n",
      "[150]\ttrain's quantile: 71.4093\tvalid's quantile: 74.4301\n",
      "[200]\ttrain's quantile: 71.7224\tvalid's quantile: 74.7292\n"
     ]
    },
    {
     "name": "stderr",
     "output_type": "stream",
     "text": [
      "c:\\Users\\danie\\anaconda3\\envs\\awp2\\Lib\\site-packages\\sklearn\\utils\\validation.py:1339: DataConversionWarning: A column-vector y was passed when a 1d array was expected. Please change the shape of y to (n_samples, ), for example using ravel().\n",
      "  y = column_or_1d(y, warn=True)\n",
      "c:\\Users\\danie\\anaconda3\\envs\\awp2\\Lib\\site-packages\\lightgbm\\engine.py:204: UserWarning: Found `num_iterations` in params. Will use it instead of argument\n",
      "  _log_warning(f\"Found `{alias}` in params. Will use it instead of argument\")\n",
      "c:\\Users\\danie\\anaconda3\\envs\\awp2\\Lib\\site-packages\\lightgbm\\callback.py:329: UserWarning: Early stopping is not available in dart mode\n",
      "  _log_warning(\"Early stopping is not available in dart mode\")\n"
     ]
    },
    {
     "name": "stdout",
     "output_type": "stream",
     "text": [
      "[50]\ttrain's quantile: 39.7881\tvalid's quantile: 44.1745\n",
      "[100]\ttrain's quantile: 35.3709\tvalid's quantile: 40.0829\n",
      "[150]\ttrain's quantile: 33.5499\tvalid's quantile: 38.3926\n",
      "[200]\ttrain's quantile: 33.1161\tvalid's quantile: 37.9823\n",
      "[250]\ttrain's quantile: 29.9546\tvalid's quantile: 35.1418\n",
      "[300]\ttrain's quantile: 28.9591\tvalid's quantile: 34.3647\n",
      "[350]\ttrain's quantile: 28.3961\tvalid's quantile: 33.9092\n",
      "[400]\ttrain's quantile: 28.1733\tvalid's quantile: 33.5607\n",
      "[450]\ttrain's quantile: 28.4865\tvalid's quantile: 33.8046\n",
      "[500]\ttrain's quantile: 26.3949\tvalid's quantile: 32.0854\n"
     ]
    },
    {
     "name": "stderr",
     "output_type": "stream",
     "text": [
      "c:\\Users\\danie\\anaconda3\\envs\\awp2\\Lib\\site-packages\\sklearn\\utils\\validation.py:1339: DataConversionWarning: A column-vector y was passed when a 1d array was expected. Please change the shape of y to (n_samples, ), for example using ravel().\n",
      "  y = column_or_1d(y, warn=True)\n",
      "c:\\Users\\danie\\anaconda3\\envs\\awp2\\Lib\\site-packages\\lightgbm\\engine.py:204: UserWarning: Found `num_iterations` in params. Will use it instead of argument\n",
      "  _log_warning(f\"Found `{alias}` in params. Will use it instead of argument\")\n",
      "c:\\Users\\danie\\anaconda3\\envs\\awp2\\Lib\\site-packages\\lightgbm\\callback.py:329: UserWarning: Early stopping is not available in dart mode\n",
      "  _log_warning(\"Early stopping is not available in dart mode\")\n"
     ]
    },
    {
     "name": "stdout",
     "output_type": "stream",
     "text": [
      "[50]\ttrain's quantile: 37.3433\tvalid's quantile: 41.4388\n",
      "[100]\ttrain's quantile: 32.0286\tvalid's quantile: 36.2532\n",
      "[150]\ttrain's quantile: 29.9193\tvalid's quantile: 34.1505\n",
      "[200]\ttrain's quantile: 29.5586\tvalid's quantile: 33.8353\n",
      "[250]\ttrain's quantile: 26.2067\tvalid's quantile: 30.8567\n",
      "[300]\ttrain's quantile: 25.0731\tvalid's quantile: 29.8929\n",
      "[350]\ttrain's quantile: 24.3106\tvalid's quantile: 29.2263\n",
      "[400]\ttrain's quantile: 24.1845\tvalid's quantile: 29.1295\n",
      "[450]\ttrain's quantile: 24.4563\tvalid's quantile: 29.4491\n",
      "[500]\ttrain's quantile: 22.0414\tvalid's quantile: 27.5503\n"
     ]
    },
    {
     "name": "stderr",
     "output_type": "stream",
     "text": [
      "c:\\Users\\danie\\anaconda3\\envs\\awp2\\Lib\\site-packages\\sklearn\\utils\\validation.py:1339: DataConversionWarning: A column-vector y was passed when a 1d array was expected. Please change the shape of y to (n_samples, ), for example using ravel().\n",
      "  y = column_or_1d(y, warn=True)\n",
      "c:\\Users\\danie\\anaconda3\\envs\\awp2\\Lib\\site-packages\\lightgbm\\engine.py:204: UserWarning: Found `num_iterations` in params. Will use it instead of argument\n",
      "  _log_warning(f\"Found `{alias}` in params. Will use it instead of argument\")\n",
      "c:\\Users\\danie\\anaconda3\\envs\\awp2\\Lib\\site-packages\\sklearn\\utils\\validation.py:1339: DataConversionWarning: A column-vector y was passed when a 1d array was expected. Please change the shape of y to (n_samples, ), for example using ravel().\n",
      "  y = column_or_1d(y, warn=True)\n",
      "c:\\Users\\danie\\anaconda3\\envs\\awp2\\Lib\\site-packages\\lightgbm\\engine.py:204: UserWarning: Found `num_iterations` in params. Will use it instead of argument\n",
      "  _log_warning(f\"Found `{alias}` in params. Will use it instead of argument\")\n"
     ]
    },
    {
     "name": "stdout",
     "output_type": "stream",
     "text": [
      "Training until validation scores don't improve for 20 rounds\n",
      "[50]\ttrain's quantile: 61.0606\tvalid's quantile: 63.7781\n",
      "[100]\ttrain's quantile: 53.7294\tvalid's quantile: 56.9217\n",
      "[150]\ttrain's quantile: 48.0626\tvalid's quantile: 51.6732\n",
      "[200]\ttrain's quantile: 43.6984\tvalid's quantile: 47.6212\n",
      "Training until validation scores don't improve for 20 rounds\n",
      "[50]\ttrain's quantile: 60.3695\tvalid's quantile: 63.2496\n",
      "[100]\ttrain's quantile: 52.1808\tvalid's quantile: 55.3168\n",
      "[150]\ttrain's quantile: 45.7898\tvalid's quantile: 49.1231\n",
      "[200]\ttrain's quantile: 40.7065\tvalid's quantile: 44.1923\n"
     ]
    },
    {
     "name": "stderr",
     "output_type": "stream",
     "text": [
      "c:\\Users\\danie\\anaconda3\\envs\\awp2\\Lib\\site-packages\\sklearn\\utils\\validation.py:1339: DataConversionWarning: A column-vector y was passed when a 1d array was expected. Please change the shape of y to (n_samples, ), for example using ravel().\n",
      "  y = column_or_1d(y, warn=True)\n",
      "c:\\Users\\danie\\anaconda3\\envs\\awp2\\Lib\\site-packages\\lightgbm\\engine.py:204: UserWarning: Found `num_iterations` in params. Will use it instead of argument\n",
      "  _log_warning(f\"Found `{alias}` in params. Will use it instead of argument\")\n",
      "c:\\Users\\danie\\anaconda3\\envs\\awp2\\Lib\\site-packages\\lightgbm\\callback.py:329: UserWarning: Early stopping is not available in dart mode\n",
      "  _log_warning(\"Early stopping is not available in dart mode\")\n"
     ]
    },
    {
     "name": "stdout",
     "output_type": "stream",
     "text": [
      "[50]\ttrain's quantile: 36.3109\tvalid's quantile: 40.3009\n",
      "[100]\ttrain's quantile: 30.805\tvalid's quantile: 34.9686\n",
      "[150]\ttrain's quantile: 28.7431\tvalid's quantile: 32.9713\n",
      "[200]\ttrain's quantile: 28.4133\tvalid's quantile: 32.6815\n",
      "[250]\ttrain's quantile: 24.8717\tvalid's quantile: 29.4669\n",
      "[300]\ttrain's quantile: 23.5533\tvalid's quantile: 28.3446\n",
      "[350]\ttrain's quantile: 22.79\tvalid's quantile: 27.6982\n",
      "[400]\ttrain's quantile: 22.5993\tvalid's quantile: 27.4634\n",
      "[450]\ttrain's quantile: 22.85\tvalid's quantile: 27.6564\n",
      "[500]\ttrain's quantile: 20.5452\tvalid's quantile: 25.8063\n",
      "Saved Quantile Regressor model for quantile 0.2 to lgbm_model_wind\\lgbm_model_quantile_0.2.pkl\n",
      "[50]\ttrain's quantile: 93.5867\tvalid's quantile: 97.6419\n",
      "[100]\ttrain's quantile: 94.2437\tvalid's quantile: 98.5493\n"
     ]
    },
    {
     "name": "stderr",
     "output_type": "stream",
     "text": [
      "c:\\Users\\danie\\anaconda3\\envs\\awp2\\Lib\\site-packages\\sklearn\\utils\\validation.py:1339: DataConversionWarning: A column-vector y was passed when a 1d array was expected. Please change the shape of y to (n_samples, ), for example using ravel().\n",
      "  y = column_or_1d(y, warn=True)\n",
      "c:\\Users\\danie\\anaconda3\\envs\\awp2\\Lib\\site-packages\\lightgbm\\engine.py:204: UserWarning: Found `num_iterations` in params. Will use it instead of argument\n",
      "  _log_warning(f\"Found `{alias}` in params. Will use it instead of argument\")\n",
      "c:\\Users\\danie\\anaconda3\\envs\\awp2\\Lib\\site-packages\\lightgbm\\callback.py:329: UserWarning: Early stopping is not available in dart mode\n",
      "  _log_warning(\"Early stopping is not available in dart mode\")\n"
     ]
    },
    {
     "name": "stdout",
     "output_type": "stream",
     "text": [
      "[150]\ttrain's quantile: 95.3789\tvalid's quantile: 99.8127\n",
      "[200]\ttrain's quantile: 96.3342\tvalid's quantile: 100.834\n"
     ]
    },
    {
     "name": "stderr",
     "output_type": "stream",
     "text": [
      "c:\\Users\\danie\\anaconda3\\envs\\awp2\\Lib\\site-packages\\sklearn\\utils\\validation.py:1339: DataConversionWarning: A column-vector y was passed when a 1d array was expected. Please change the shape of y to (n_samples, ), for example using ravel().\n",
      "  y = column_or_1d(y, warn=True)\n",
      "c:\\Users\\danie\\anaconda3\\envs\\awp2\\Lib\\site-packages\\lightgbm\\engine.py:204: UserWarning: Found `num_iterations` in params. Will use it instead of argument\n",
      "  _log_warning(f\"Found `{alias}` in params. Will use it instead of argument\")\n",
      "c:\\Users\\danie\\anaconda3\\envs\\awp2\\Lib\\site-packages\\lightgbm\\callback.py:329: UserWarning: Early stopping is not available in dart mode\n",
      "  _log_warning(\"Early stopping is not available in dart mode\")\n"
     ]
    },
    {
     "name": "stdout",
     "output_type": "stream",
     "text": [
      "[50]\ttrain's quantile: 95.289\tvalid's quantile: 99.4583\n",
      "[100]\ttrain's quantile: 95.7693\tvalid's quantile: 100.078\n",
      "[150]\ttrain's quantile: 96.6272\tvalid's quantile: 101.004\n",
      "[200]\ttrain's quantile: 97.4121\tvalid's quantile: 101.836\n",
      "[50]\ttrain's quantile: 43.7846\tvalid's quantile: 49.8472\n",
      "[100]\ttrain's quantile: 39.006\tvalid's quantile: 45.2476\n"
     ]
    },
    {
     "name": "stderr",
     "output_type": "stream",
     "text": [
      "c:\\Users\\danie\\anaconda3\\envs\\awp2\\Lib\\site-packages\\sklearn\\utils\\validation.py:1339: DataConversionWarning: A column-vector y was passed when a 1d array was expected. Please change the shape of y to (n_samples, ), for example using ravel().\n",
      "  y = column_or_1d(y, warn=True)\n",
      "c:\\Users\\danie\\anaconda3\\envs\\awp2\\Lib\\site-packages\\lightgbm\\engine.py:204: UserWarning: Found `num_iterations` in params. Will use it instead of argument\n",
      "  _log_warning(f\"Found `{alias}` in params. Will use it instead of argument\")\n",
      "c:\\Users\\danie\\anaconda3\\envs\\awp2\\Lib\\site-packages\\lightgbm\\callback.py:329: UserWarning: Early stopping is not available in dart mode\n",
      "  _log_warning(\"Early stopping is not available in dart mode\")\n"
     ]
    },
    {
     "name": "stdout",
     "output_type": "stream",
     "text": [
      "[150]\ttrain's quantile: 36.9352\tvalid's quantile: 43.1575\n",
      "[200]\ttrain's quantile: 37.4606\tvalid's quantile: 43.5515\n"
     ]
    },
    {
     "name": "stderr",
     "output_type": "stream",
     "text": [
      "c:\\Users\\danie\\anaconda3\\envs\\awp2\\Lib\\site-packages\\sklearn\\utils\\validation.py:1339: DataConversionWarning: A column-vector y was passed when a 1d array was expected. Please change the shape of y to (n_samples, ), for example using ravel().\n",
      "  y = column_or_1d(y, warn=True)\n",
      "c:\\Users\\danie\\anaconda3\\envs\\awp2\\Lib\\site-packages\\lightgbm\\engine.py:204: UserWarning: Found `num_iterations` in params. Will use it instead of argument\n",
      "  _log_warning(f\"Found `{alias}` in params. Will use it instead of argument\")\n",
      "c:\\Users\\danie\\anaconda3\\envs\\awp2\\Lib\\site-packages\\lightgbm\\callback.py:329: UserWarning: Early stopping is not available in dart mode\n",
      "  _log_warning(\"Early stopping is not available in dart mode\")\n"
     ]
    },
    {
     "name": "stdout",
     "output_type": "stream",
     "text": [
      "[50]\ttrain's quantile: 37.4044\tvalid's quantile: 42.6391\n",
      "[100]\ttrain's quantile: 32.1323\tvalid's quantile: 38.0971\n",
      "[150]\ttrain's quantile: 29.8278\tvalid's quantile: 36.0076\n",
      "[200]\ttrain's quantile: 30.2997\tvalid's quantile: 36.5461\n"
     ]
    },
    {
     "name": "stderr",
     "output_type": "stream",
     "text": [
      "c:\\Users\\danie\\anaconda3\\envs\\awp2\\Lib\\site-packages\\sklearn\\utils\\validation.py:1339: DataConversionWarning: A column-vector y was passed when a 1d array was expected. Please change the shape of y to (n_samples, ), for example using ravel().\n",
      "  y = column_or_1d(y, warn=True)\n",
      "c:\\Users\\danie\\anaconda3\\envs\\awp2\\Lib\\site-packages\\lightgbm\\engine.py:204: UserWarning: Found `num_iterations` in params. Will use it instead of argument\n",
      "  _log_warning(f\"Found `{alias}` in params. Will use it instead of argument\")\n"
     ]
    },
    {
     "name": "stdout",
     "output_type": "stream",
     "text": [
      "Training until validation scores don't improve for 20 rounds\n",
      "[50]\ttrain's quantile: 91.2098\tvalid's quantile: 94.4962\n",
      "[100]\ttrain's quantile: 88.0256\tvalid's quantile: 91.4409\n",
      "[150]\ttrain's quantile: 85.047\tvalid's quantile: 88.6\n",
      "[200]\ttrain's quantile: 82.2213\tvalid's quantile: 85.8998\n",
      "[250]\ttrain's quantile: 79.5753\tvalid's quantile: 83.3865\n",
      "[300]\ttrain's quantile: 77.0548\tvalid's quantile: 80.9782\n",
      "[350]\ttrain's quantile: 74.6896\tvalid's quantile: 78.7281\n",
      "[400]\ttrain's quantile: 72.4317\tvalid's quantile: 76.5712\n",
      "[450]\ttrain's quantile: 70.3145\tvalid's quantile: 74.5638\n",
      "[500]\ttrain's quantile: 68.3168\tvalid's quantile: 72.679\n",
      "Training until validation scores don't improve for 20 rounds\n"
     ]
    },
    {
     "name": "stderr",
     "output_type": "stream",
     "text": [
      "c:\\Users\\danie\\anaconda3\\envs\\awp2\\Lib\\site-packages\\sklearn\\utils\\validation.py:1339: DataConversionWarning: A column-vector y was passed when a 1d array was expected. Please change the shape of y to (n_samples, ), for example using ravel().\n",
      "  y = column_or_1d(y, warn=True)\n",
      "c:\\Users\\danie\\anaconda3\\envs\\awp2\\Lib\\site-packages\\lightgbm\\engine.py:204: UserWarning: Found `num_iterations` in params. Will use it instead of argument\n",
      "  _log_warning(f\"Found `{alias}` in params. Will use it instead of argument\")\n"
     ]
    },
    {
     "name": "stdout",
     "output_type": "stream",
     "text": [
      "[50]\ttrain's quantile: 90.7587\tvalid's quantile: 94.2747\n",
      "[100]\ttrain's quantile: 87.3143\tvalid's quantile: 90.8894\n",
      "[150]\ttrain's quantile: 84.0759\tvalid's quantile: 87.6977\n",
      "[200]\ttrain's quantile: 81.0386\tvalid's quantile: 84.7329\n",
      "[250]\ttrain's quantile: 78.1649\tvalid's quantile: 81.8957\n",
      "[300]\ttrain's quantile: 75.4348\tvalid's quantile: 79.1931\n",
      "[350]\ttrain's quantile: 72.871\tvalid's quantile: 76.6811\n",
      "[400]\ttrain's quantile: 70.421\tvalid's quantile: 74.2871\n",
      "[450]\ttrain's quantile: 68.0883\tvalid's quantile: 72.0094\n",
      "[500]\ttrain's quantile: 65.8949\tvalid's quantile: 69.8592\n"
     ]
    },
    {
     "name": "stderr",
     "output_type": "stream",
     "text": [
      "c:\\Users\\danie\\anaconda3\\envs\\awp2\\Lib\\site-packages\\sklearn\\utils\\validation.py:1339: DataConversionWarning: A column-vector y was passed when a 1d array was expected. Please change the shape of y to (n_samples, ), for example using ravel().\n",
      "  y = column_or_1d(y, warn=True)\n",
      "c:\\Users\\danie\\anaconda3\\envs\\awp2\\Lib\\site-packages\\lightgbm\\engine.py:204: UserWarning: Found `num_iterations` in params. Will use it instead of argument\n",
      "  _log_warning(f\"Found `{alias}` in params. Will use it instead of argument\")\n",
      "c:\\Users\\danie\\anaconda3\\envs\\awp2\\Lib\\site-packages\\sklearn\\utils\\validation.py:1339: DataConversionWarning: A column-vector y was passed when a 1d array was expected. Please change the shape of y to (n_samples, ), for example using ravel().\n",
      "  y = column_or_1d(y, warn=True)\n",
      "c:\\Users\\danie\\anaconda3\\envs\\awp2\\Lib\\site-packages\\lightgbm\\engine.py:204: UserWarning: Found `num_iterations` in params. Will use it instead of argument\n",
      "  _log_warning(f\"Found `{alias}` in params. Will use it instead of argument\")\n"
     ]
    },
    {
     "name": "stdout",
     "output_type": "stream",
     "text": [
      "Training until validation scores don't improve for 20 rounds\n",
      "[50]\ttrain's quantile: 31.52\tvalid's quantile: 37.1596\n",
      "[100]\ttrain's quantile: 28.8638\tvalid's quantile: 34.1745\n",
      "Training until validation scores don't improve for 20 rounds\n",
      "[50]\ttrain's quantile: 25.4164\tvalid's quantile: 30.6595\n",
      "[100]\ttrain's quantile: 24.0447\tvalid's quantile: 30.0845\n"
     ]
    },
    {
     "name": "stderr",
     "output_type": "stream",
     "text": [
      "c:\\Users\\danie\\anaconda3\\envs\\awp2\\Lib\\site-packages\\sklearn\\utils\\validation.py:1339: DataConversionWarning: A column-vector y was passed when a 1d array was expected. Please change the shape of y to (n_samples, ), for example using ravel().\n",
      "  y = column_or_1d(y, warn=True)\n",
      "c:\\Users\\danie\\anaconda3\\envs\\awp2\\Lib\\site-packages\\lightgbm\\engine.py:204: UserWarning: Found `num_iterations` in params. Will use it instead of argument\n",
      "  _log_warning(f\"Found `{alias}` in params. Will use it instead of argument\")\n",
      "c:\\Users\\danie\\anaconda3\\envs\\awp2\\Lib\\site-packages\\sklearn\\utils\\validation.py:1339: DataConversionWarning: A column-vector y was passed when a 1d array was expected. Please change the shape of y to (n_samples, ), for example using ravel().\n",
      "  y = column_or_1d(y, warn=True)\n",
      "c:\\Users\\danie\\anaconda3\\envs\\awp2\\Lib\\site-packages\\lightgbm\\engine.py:204: UserWarning: Found `num_iterations` in params. Will use it instead of argument\n",
      "  _log_warning(f\"Found `{alias}` in params. Will use it instead of argument\")\n"
     ]
    },
    {
     "name": "stdout",
     "output_type": "stream",
     "text": [
      "Training until validation scores don't improve for 20 rounds\n",
      "[50]\ttrain's quantile: 89.1216\tvalid's quantile: 92.5343\n",
      "[100]\ttrain's quantile: 84.13\tvalid's quantile: 87.7806\n",
      "Training until validation scores don't improve for 20 rounds\n",
      "[50]\ttrain's quantile: 88.3511\tvalid's quantile: 91.9087\n",
      "[100]\ttrain's quantile: 82.8714\tvalid's quantile: 86.5386\n",
      "Training until validation scores don't improve for 20 rounds\n",
      "[50]\ttrain's quantile: 23.718\tvalid's quantile: 28.3649\n",
      "[100]\ttrain's quantile: 22.1439\tvalid's quantile: 27.4708\n",
      "Saved Quantile Regressor model for quantile 0.3 to lgbm_model_wind\\lgbm_model_quantile_0.3.pkl\n"
     ]
    },
    {
     "name": "stderr",
     "output_type": "stream",
     "text": [
      "c:\\Users\\danie\\anaconda3\\envs\\awp2\\Lib\\site-packages\\sklearn\\utils\\validation.py:1339: DataConversionWarning: A column-vector y was passed when a 1d array was expected. Please change the shape of y to (n_samples, ), for example using ravel().\n",
      "  y = column_or_1d(y, warn=True)\n",
      "c:\\Users\\danie\\anaconda3\\envs\\awp2\\Lib\\site-packages\\lightgbm\\engine.py:204: UserWarning: Found `num_iterations` in params. Will use it instead of argument\n",
      "  _log_warning(f\"Found `{alias}` in params. Will use it instead of argument\")\n",
      "c:\\Users\\danie\\anaconda3\\envs\\awp2\\Lib\\site-packages\\sklearn\\utils\\validation.py:1339: DataConversionWarning: A column-vector y was passed when a 1d array was expected. Please change the shape of y to (n_samples, ), for example using ravel().\n",
      "  y = column_or_1d(y, warn=True)\n",
      "c:\\Users\\danie\\anaconda3\\envs\\awp2\\Lib\\site-packages\\lightgbm\\engine.py:204: UserWarning: Found `num_iterations` in params. Will use it instead of argument\n",
      "  _log_warning(f\"Found `{alias}` in params. Will use it instead of argument\")\n"
     ]
    },
    {
     "name": "stdout",
     "output_type": "stream",
     "text": [
      "Training until validation scores don't improve for 20 rounds\n",
      "[50]\ttrain's quantile: 35.7859\tvalid's quantile: 44.1207\n",
      "[100]\ttrain's quantile: 30.29\tvalid's quantile: 38.7171\n",
      "[150]\ttrain's quantile: 29.4325\tvalid's quantile: 38.1355\n",
      "Early stopping, best iteration is:\n",
      "[172]\ttrain's quantile: 29.1399\tvalid's quantile: 37.9368\n",
      "Training until validation scores don't improve for 20 rounds\n",
      "[50]\ttrain's quantile: 28.4903\tvalid's quantile: 37.2642\n"
     ]
    },
    {
     "name": "stderr",
     "output_type": "stream",
     "text": [
      "c:\\Users\\danie\\anaconda3\\envs\\awp2\\Lib\\site-packages\\sklearn\\utils\\validation.py:1339: DataConversionWarning: A column-vector y was passed when a 1d array was expected. Please change the shape of y to (n_samples, ), for example using ravel().\n",
      "  y = column_or_1d(y, warn=True)\n",
      "c:\\Users\\danie\\anaconda3\\envs\\awp2\\Lib\\site-packages\\lightgbm\\engine.py:204: UserWarning: Found `num_iterations` in params. Will use it instead of argument\n",
      "  _log_warning(f\"Found `{alias}` in params. Will use it instead of argument\")\n"
     ]
    },
    {
     "name": "stdout",
     "output_type": "stream",
     "text": [
      "[100]\ttrain's quantile: 22.5117\tvalid's quantile: 32.9294\n",
      "[150]\ttrain's quantile: 21.3063\tvalid's quantile: 32.5482\n",
      "Early stopping, best iteration is:\n",
      "[156]\ttrain's quantile: 21.2232\tvalid's quantile: 32.5264\n",
      "[50]\ttrain's quantile: 103.203\tvalid's quantile: 108.649\n"
     ]
    },
    {
     "name": "stderr",
     "output_type": "stream",
     "text": [
      "c:\\Users\\danie\\anaconda3\\envs\\awp2\\Lib\\site-packages\\sklearn\\utils\\validation.py:1339: DataConversionWarning: A column-vector y was passed when a 1d array was expected. Please change the shape of y to (n_samples, ), for example using ravel().\n",
      "  y = column_or_1d(y, warn=True)\n",
      "c:\\Users\\danie\\anaconda3\\envs\\awp2\\Lib\\site-packages\\lightgbm\\engine.py:204: UserWarning: Found `num_iterations` in params. Will use it instead of argument\n",
      "  _log_warning(f\"Found `{alias}` in params. Will use it instead of argument\")\n",
      "c:\\Users\\danie\\anaconda3\\envs\\awp2\\Lib\\site-packages\\lightgbm\\callback.py:329: UserWarning: Early stopping is not available in dart mode\n",
      "  _log_warning(\"Early stopping is not available in dart mode\")\n"
     ]
    },
    {
     "name": "stdout",
     "output_type": "stream",
     "text": [
      "[100]\ttrain's quantile: 102.314\tvalid's quantile: 108.248\n",
      "[150]\ttrain's quantile: 103.068\tvalid's quantile: 109.259\n",
      "[200]\ttrain's quantile: 104.254\tvalid's quantile: 110.592\n",
      "[250]\ttrain's quantile: 98.0845\tvalid's quantile: 104.609\n",
      "[300]\ttrain's quantile: 93.5754\tvalid's quantile: 100.316\n",
      "[350]\ttrain's quantile: 89.8402\tvalid's quantile: 96.7146\n",
      "[400]\ttrain's quantile: 89.5349\tvalid's quantile: 96.5733\n",
      "[450]\ttrain's quantile: 89.0995\tvalid's quantile: 96.1922\n",
      "[500]\ttrain's quantile: 83.222\tvalid's quantile: 90.615\n"
     ]
    },
    {
     "name": "stderr",
     "output_type": "stream",
     "text": [
      "c:\\Users\\danie\\anaconda3\\envs\\awp2\\Lib\\site-packages\\sklearn\\utils\\validation.py:1339: DataConversionWarning: A column-vector y was passed when a 1d array was expected. Please change the shape of y to (n_samples, ), for example using ravel().\n",
      "  y = column_or_1d(y, warn=True)\n",
      "c:\\Users\\danie\\anaconda3\\envs\\awp2\\Lib\\site-packages\\lightgbm\\engine.py:204: UserWarning: Found `num_iterations` in params. Will use it instead of argument\n",
      "  _log_warning(f\"Found `{alias}` in params. Will use it instead of argument\")\n",
      "c:\\Users\\danie\\anaconda3\\envs\\awp2\\Lib\\site-packages\\lightgbm\\callback.py:329: UserWarning: Early stopping is not available in dart mode\n",
      "  _log_warning(\"Early stopping is not available in dart mode\")\n"
     ]
    },
    {
     "name": "stdout",
     "output_type": "stream",
     "text": [
      "[50]\ttrain's quantile: 105.093\tvalid's quantile: 110.431\n",
      "[100]\ttrain's quantile: 103.235\tvalid's quantile: 108.9\n",
      "[150]\ttrain's quantile: 103.296\tvalid's quantile: 109.157\n",
      "[200]\ttrain's quantile: 103.899\tvalid's quantile: 109.849\n",
      "[250]\ttrain's quantile: 96.5713\tvalid's quantile: 102.618\n",
      "[300]\ttrain's quantile: 91.3073\tvalid's quantile: 97.3661\n",
      "[350]\ttrain's quantile: 86.9467\tvalid's quantile: 92.9868\n",
      "[400]\ttrain's quantile: 86.2031\tvalid's quantile: 92.2621\n",
      "[450]\ttrain's quantile: 85.532\tvalid's quantile: 91.5836\n",
      "[500]\ttrain's quantile: 78.33\tvalid's quantile: 84.4014\n"
     ]
    },
    {
     "name": "stderr",
     "output_type": "stream",
     "text": [
      "c:\\Users\\danie\\anaconda3\\envs\\awp2\\Lib\\site-packages\\sklearn\\utils\\validation.py:1339: DataConversionWarning: A column-vector y was passed when a 1d array was expected. Please change the shape of y to (n_samples, ), for example using ravel().\n",
      "  y = column_or_1d(y, warn=True)\n",
      "c:\\Users\\danie\\anaconda3\\envs\\awp2\\Lib\\site-packages\\lightgbm\\engine.py:204: UserWarning: Found `num_iterations` in params. Will use it instead of argument\n",
      "  _log_warning(f\"Found `{alias}` in params. Will use it instead of argument\")\n"
     ]
    },
    {
     "name": "stdout",
     "output_type": "stream",
     "text": [
      "Training until validation scores don't improve for 20 rounds\n",
      "[50]\ttrain's quantile: 104.383\tvalid's quantile: 108.255\n",
      "[100]\ttrain's quantile: 100.523\tvalid's quantile: 104.537\n",
      "[150]\ttrain's quantile: 96.9562\tvalid's quantile: 101.119\n",
      "[200]\ttrain's quantile: 93.5417\tvalid's quantile: 97.8466\n",
      "[250]\ttrain's quantile: 90.3719\tvalid's quantile: 94.8362\n",
      "[300]\ttrain's quantile: 87.3616\tvalid's quantile: 91.9694\n",
      "[350]\ttrain's quantile: 84.5124\tvalid's quantile: 89.2672\n",
      "[400]\ttrain's quantile: 81.8289\tvalid's quantile: 86.7131\n",
      "[450]\ttrain's quantile: 79.2439\tvalid's quantile: 84.2514\n",
      "[500]\ttrain's quantile: 76.7993\tvalid's quantile: 81.9181\n"
     ]
    },
    {
     "name": "stderr",
     "output_type": "stream",
     "text": [
      "c:\\Users\\danie\\anaconda3\\envs\\awp2\\Lib\\site-packages\\sklearn\\utils\\validation.py:1339: DataConversionWarning: A column-vector y was passed when a 1d array was expected. Please change the shape of y to (n_samples, ), for example using ravel().\n",
      "  y = column_or_1d(y, warn=True)\n",
      "c:\\Users\\danie\\anaconda3\\envs\\awp2\\Lib\\site-packages\\lightgbm\\engine.py:204: UserWarning: Found `num_iterations` in params. Will use it instead of argument\n",
      "  _log_warning(f\"Found `{alias}` in params. Will use it instead of argument\")\n"
     ]
    },
    {
     "name": "stdout",
     "output_type": "stream",
     "text": [
      "Training until validation scores don't improve for 20 rounds\n",
      "[50]\ttrain's quantile: 103.972\tvalid's quantile: 108.186\n",
      "[100]\ttrain's quantile: 99.9352\tvalid's quantile: 104.252\n",
      "[150]\ttrain's quantile: 96.1211\tvalid's quantile: 100.542\n",
      "[200]\ttrain's quantile: 92.5207\tvalid's quantile: 97.0231\n",
      "[250]\ttrain's quantile: 89.0822\tvalid's quantile: 93.6688\n",
      "[300]\ttrain's quantile: 85.8144\tvalid's quantile: 90.4848\n",
      "[350]\ttrain's quantile: 82.7034\tvalid's quantile: 87.4602\n",
      "[400]\ttrain's quantile: 79.7826\tvalid's quantile: 84.6462\n",
      "[450]\ttrain's quantile: 77.0066\tvalid's quantile: 81.9768\n",
      "[500]\ttrain's quantile: 74.3898\tvalid's quantile: 79.5166\n",
      "[50]\ttrain's quantile: 86.2616\tvalid's quantile: 92.14\n"
     ]
    },
    {
     "name": "stderr",
     "output_type": "stream",
     "text": [
      "c:\\Users\\danie\\anaconda3\\envs\\awp2\\Lib\\site-packages\\sklearn\\utils\\validation.py:1339: DataConversionWarning: A column-vector y was passed when a 1d array was expected. Please change the shape of y to (n_samples, ), for example using ravel().\n",
      "  y = column_or_1d(y, warn=True)\n",
      "c:\\Users\\danie\\anaconda3\\envs\\awp2\\Lib\\site-packages\\lightgbm\\engine.py:204: UserWarning: Found `num_iterations` in params. Will use it instead of argument\n",
      "  _log_warning(f\"Found `{alias}` in params. Will use it instead of argument\")\n",
      "c:\\Users\\danie\\anaconda3\\envs\\awp2\\Lib\\site-packages\\lightgbm\\callback.py:329: UserWarning: Early stopping is not available in dart mode\n",
      "  _log_warning(\"Early stopping is not available in dart mode\")\n"
     ]
    },
    {
     "name": "stdout",
     "output_type": "stream",
     "text": [
      "[100]\ttrain's quantile: 79.6822\tvalid's quantile: 86.2533\n",
      "[150]\ttrain's quantile: 77.7011\tvalid's quantile: 84.5534\n",
      "[200]\ttrain's quantile: 77.3318\tvalid's quantile: 84.2886\n",
      "[50]\ttrain's quantile: 85.1222\tvalid's quantile: 90.8205\n"
     ]
    },
    {
     "name": "stderr",
     "output_type": "stream",
     "text": [
      "c:\\Users\\danie\\anaconda3\\envs\\awp2\\Lib\\site-packages\\sklearn\\utils\\validation.py:1339: DataConversionWarning: A column-vector y was passed when a 1d array was expected. Please change the shape of y to (n_samples, ), for example using ravel().\n",
      "  y = column_or_1d(y, warn=True)\n",
      "c:\\Users\\danie\\anaconda3\\envs\\awp2\\Lib\\site-packages\\lightgbm\\engine.py:204: UserWarning: Found `num_iterations` in params. Will use it instead of argument\n",
      "  _log_warning(f\"Found `{alias}` in params. Will use it instead of argument\")\n",
      "c:\\Users\\danie\\anaconda3\\envs\\awp2\\Lib\\site-packages\\lightgbm\\callback.py:329: UserWarning: Early stopping is not available in dart mode\n",
      "  _log_warning(\"Early stopping is not available in dart mode\")\n"
     ]
    },
    {
     "name": "stdout",
     "output_type": "stream",
     "text": [
      "[100]\ttrain's quantile: 76.4277\tvalid's quantile: 82.4918\n",
      "[150]\ttrain's quantile: 73.1699\tvalid's quantile: 79.382\n",
      "[200]\ttrain's quantile: 72.3011\tvalid's quantile: 78.5835\n",
      "Training until validation scores don't improve for 20 rounds\n",
      "[50]\ttrain's quantile: 31.8643\tvalid's quantile: 38.5839\n",
      "[100]\ttrain's quantile: 29.6598\tvalid's quantile: 36.4185\n"
     ]
    },
    {
     "name": "stderr",
     "output_type": "stream",
     "text": [
      "c:\\Users\\danie\\anaconda3\\envs\\awp2\\Lib\\site-packages\\sklearn\\utils\\validation.py:1339: DataConversionWarning: A column-vector y was passed when a 1d array was expected. Please change the shape of y to (n_samples, ), for example using ravel().\n",
      "  y = column_or_1d(y, warn=True)\n",
      "c:\\Users\\danie\\anaconda3\\envs\\awp2\\Lib\\site-packages\\lightgbm\\engine.py:204: UserWarning: Found `num_iterations` in params. Will use it instead of argument\n",
      "  _log_warning(f\"Found `{alias}` in params. Will use it instead of argument\")\n",
      "c:\\Users\\danie\\anaconda3\\envs\\awp2\\Lib\\site-packages\\sklearn\\utils\\validation.py:1339: DataConversionWarning: A column-vector y was passed when a 1d array was expected. Please change the shape of y to (n_samples, ), for example using ravel().\n",
      "  y = column_or_1d(y, warn=True)\n",
      "c:\\Users\\danie\\anaconda3\\envs\\awp2\\Lib\\site-packages\\lightgbm\\engine.py:204: UserWarning: Found `num_iterations` in params. Will use it instead of argument\n",
      "  _log_warning(f\"Found `{alias}` in params. Will use it instead of argument\")\n"
     ]
    },
    {
     "name": "stdout",
     "output_type": "stream",
     "text": [
      "Training until validation scores don't improve for 20 rounds\n",
      "[50]\ttrain's quantile: 25.8999\tvalid's quantile: 33.0923\n",
      "[100]\ttrain's quantile: 23.9973\tvalid's quantile: 32.3994\n",
      "Training until validation scores don't improve for 20 rounds\n"
     ]
    },
    {
     "name": "stderr",
     "output_type": "stream",
     "text": [
      "c:\\Users\\danie\\anaconda3\\envs\\awp2\\Lib\\site-packages\\sklearn\\utils\\validation.py:1339: DataConversionWarning: A column-vector y was passed when a 1d array was expected. Please change the shape of y to (n_samples, ), for example using ravel().\n",
      "  y = column_or_1d(y, warn=True)\n",
      "c:\\Users\\danie\\anaconda3\\envs\\awp2\\Lib\\site-packages\\lightgbm\\engine.py:204: UserWarning: Found `num_iterations` in params. Will use it instead of argument\n",
      "  _log_warning(f\"Found `{alias}` in params. Will use it instead of argument\")\n"
     ]
    },
    {
     "name": "stdout",
     "output_type": "stream",
     "text": [
      "[50]\ttrain's quantile: 24.497\tvalid's quantile: 30.9576\n",
      "[100]\ttrain's quantile: 22.2516\tvalid's quantile: 29.9141\n",
      "Saved Quantile Regressor model for quantile 0.4 to lgbm_model_wind\\lgbm_model_quantile_0.4.pkl\n",
      "Training until validation scores don't improve for 20 rounds\n",
      "[50]\ttrain's quantile: 74.9585\tvalid's quantile: 81.5398\n",
      "[100]\ttrain's quantile: 56.4458\tvalid's quantile: 63.7822\n",
      "[150]\ttrain's quantile: 45.9798\tvalid's quantile: 53.889\n"
     ]
    },
    {
     "name": "stderr",
     "output_type": "stream",
     "text": [
      "c:\\Users\\danie\\anaconda3\\envs\\awp2\\Lib\\site-packages\\sklearn\\utils\\validation.py:1339: DataConversionWarning: A column-vector y was passed when a 1d array was expected. Please change the shape of y to (n_samples, ), for example using ravel().\n",
      "  y = column_or_1d(y, warn=True)\n",
      "c:\\Users\\danie\\anaconda3\\envs\\awp2\\Lib\\site-packages\\lightgbm\\engine.py:204: UserWarning: Found `num_iterations` in params. Will use it instead of argument\n",
      "  _log_warning(f\"Found `{alias}` in params. Will use it instead of argument\")\n"
     ]
    },
    {
     "name": "stdout",
     "output_type": "stream",
     "text": [
      "[200]\ttrain's quantile: 40.9075\tvalid's quantile: 48.9705\n",
      "[250]\ttrain's quantile: 37.251\tvalid's quantile: 45.039\n",
      "[300]\ttrain's quantile: 35.6297\tvalid's quantile: 43.1822\n",
      "[350]\ttrain's quantile: 34.0496\tvalid's quantile: 41.0829\n",
      "[400]\ttrain's quantile: 33.2933\tvalid's quantile: 40.1216\n",
      "[450]\ttrain's quantile: 32.797\tvalid's quantile: 39.5129\n",
      "[500]\ttrain's quantile: 32.3318\tvalid's quantile: 38.9391\n",
      "Did not meet early stopping. Best iteration is:\n",
      "[500]\ttrain's quantile: 32.3318\tvalid's quantile: 38.9391\n"
     ]
    },
    {
     "name": "stderr",
     "output_type": "stream",
     "text": [
      "c:\\Users\\danie\\anaconda3\\envs\\awp2\\Lib\\site-packages\\sklearn\\utils\\validation.py:1339: DataConversionWarning: A column-vector y was passed when a 1d array was expected. Please change the shape of y to (n_samples, ), for example using ravel().\n",
      "  y = column_or_1d(y, warn=True)\n",
      "c:\\Users\\danie\\anaconda3\\envs\\awp2\\Lib\\site-packages\\lightgbm\\engine.py:204: UserWarning: Found `num_iterations` in params. Will use it instead of argument\n",
      "  _log_warning(f\"Found `{alias}` in params. Will use it instead of argument\")\n"
     ]
    },
    {
     "name": "stdout",
     "output_type": "stream",
     "text": [
      "Training until validation scores don't improve for 20 rounds\n",
      "[50]\ttrain's quantile: 70.3321\tvalid's quantile: 75.5601\n",
      "[100]\ttrain's quantile: 49.9525\tvalid's quantile: 55.604\n",
      "[150]\ttrain's quantile: 38.8753\tvalid's quantile: 44.9684\n",
      "[200]\ttrain's quantile: 32.8634\tvalid's quantile: 39.0397\n",
      "[250]\ttrain's quantile: 29.8396\tvalid's quantile: 36.1977\n",
      "[300]\ttrain's quantile: 28.1974\tvalid's quantile: 34.6385\n",
      "[350]\ttrain's quantile: 27.2554\tvalid's quantile: 33.912\n",
      "[400]\ttrain's quantile: 26.7662\tvalid's quantile: 33.6028\n",
      "[450]\ttrain's quantile: 26.389\tvalid's quantile: 33.3954\n",
      "[500]\ttrain's quantile: 26.0759\tvalid's quantile: 33.2883\n",
      "Did not meet early stopping. Best iteration is:\n",
      "[500]\ttrain's quantile: 26.0759\tvalid's quantile: 33.2883\n",
      "Training until validation scores don't improve for 20 rounds\n"
     ]
    },
    {
     "name": "stderr",
     "output_type": "stream",
     "text": [
      "c:\\Users\\danie\\anaconda3\\envs\\awp2\\Lib\\site-packages\\sklearn\\utils\\validation.py:1339: DataConversionWarning: A column-vector y was passed when a 1d array was expected. Please change the shape of y to (n_samples, ), for example using ravel().\n",
      "  y = column_or_1d(y, warn=True)\n",
      "c:\\Users\\danie\\anaconda3\\envs\\awp2\\Lib\\site-packages\\lightgbm\\engine.py:204: UserWarning: Found `num_iterations` in params. Will use it instead of argument\n",
      "  _log_warning(f\"Found `{alias}` in params. Will use it instead of argument\")\n"
     ]
    },
    {
     "name": "stdout",
     "output_type": "stream",
     "text": [
      "[50]\ttrain's quantile: 104.556\tvalid's quantile: 109.844\n",
      "[100]\ttrain's quantile: 98.72\tvalid's quantile: 104.286\n",
      "[150]\ttrain's quantile: 93.3265\tvalid's quantile: 99.125\n",
      "[200]\ttrain's quantile: 88.4629\tvalid's quantile: 94.4717\n",
      "[250]\ttrain's quantile: 83.9968\tvalid's quantile: 90.1968\n",
      "[300]\ttrain's quantile: 79.9047\tvalid's quantile: 86.2501\n",
      "[350]\ttrain's quantile: 76.1573\tvalid's quantile: 82.6142\n",
      "[400]\ttrain's quantile: 72.7612\tvalid's quantile: 79.3253\n",
      "[450]\ttrain's quantile: 69.6724\tvalid's quantile: 76.3515\n",
      "[500]\ttrain's quantile: 66.8459\tvalid's quantile: 73.6538\n",
      "Did not meet early stopping. Best iteration is:\n",
      "[500]\ttrain's quantile: 66.8459\tvalid's quantile: 73.6538\n"
     ]
    },
    {
     "name": "stderr",
     "output_type": "stream",
     "text": [
      "c:\\Users\\danie\\anaconda3\\envs\\awp2\\Lib\\site-packages\\sklearn\\utils\\validation.py:1339: DataConversionWarning: A column-vector y was passed when a 1d array was expected. Please change the shape of y to (n_samples, ), for example using ravel().\n",
      "  y = column_or_1d(y, warn=True)\n",
      "c:\\Users\\danie\\anaconda3\\envs\\awp2\\Lib\\site-packages\\lightgbm\\engine.py:204: UserWarning: Found `num_iterations` in params. Will use it instead of argument\n",
      "  _log_warning(f\"Found `{alias}` in params. Will use it instead of argument\")\n"
     ]
    },
    {
     "name": "stdout",
     "output_type": "stream",
     "text": [
      "Training until validation scores don't improve for 20 rounds\n",
      "[50]\ttrain's quantile: 103.808\tvalid's quantile: 108.767\n",
      "[100]\ttrain's quantile: 97.2299\tvalid's quantile: 102.232\n",
      "[150]\ttrain's quantile: 91.273\tvalid's quantile: 96.34\n",
      "[200]\ttrain's quantile: 85.8458\tvalid's quantile: 90.974\n",
      "[250]\ttrain's quantile: 80.9308\tvalid's quantile: 86.1058\n",
      "[300]\ttrain's quantile: 76.46\tvalid's quantile: 81.6767\n",
      "[350]\ttrain's quantile: 72.4097\tvalid's quantile: 77.6783\n",
      "[400]\ttrain's quantile: 68.717\tvalid's quantile: 74.045\n",
      "[450]\ttrain's quantile: 65.3282\tvalid's quantile: 70.7247\n",
      "[500]\ttrain's quantile: 62.2438\tvalid's quantile: 67.7054\n",
      "Did not meet early stopping. Best iteration is:\n",
      "[500]\ttrain's quantile: 62.2438\tvalid's quantile: 67.7054\n"
     ]
    },
    {
     "name": "stderr",
     "output_type": "stream",
     "text": [
      "c:\\Users\\danie\\anaconda3\\envs\\awp2\\Lib\\site-packages\\sklearn\\utils\\validation.py:1339: DataConversionWarning: A column-vector y was passed when a 1d array was expected. Please change the shape of y to (n_samples, ), for example using ravel().\n",
      "  y = column_or_1d(y, warn=True)\n",
      "c:\\Users\\danie\\anaconda3\\envs\\awp2\\Lib\\site-packages\\lightgbm\\engine.py:204: UserWarning: Found `num_iterations` in params. Will use it instead of argument\n",
      "  _log_warning(f\"Found `{alias}` in params. Will use it instead of argument\")\n",
      "c:\\Users\\danie\\anaconda3\\envs\\awp2\\Lib\\site-packages\\lightgbm\\callback.py:329: UserWarning: Early stopping is not available in dart mode\n",
      "  _log_warning(\"Early stopping is not available in dart mode\")\n"
     ]
    },
    {
     "name": "stdout",
     "output_type": "stream",
     "text": [
      "[50]\ttrain's quantile: 193.81\tvalid's quantile: 190.346\n",
      "[100]\ttrain's quantile: 210.177\tvalid's quantile: 205.874\n",
      "[150]\ttrain's quantile: 219.781\tvalid's quantile: 215.064\n",
      "[200]\ttrain's quantile: 223.764\tvalid's quantile: 218.968\n",
      "[50]\ttrain's quantile: 151.497\tvalid's quantile: 149.956\n"
     ]
    },
    {
     "name": "stderr",
     "output_type": "stream",
     "text": [
      "c:\\Users\\danie\\anaconda3\\envs\\awp2\\Lib\\site-packages\\sklearn\\utils\\validation.py:1339: DataConversionWarning: A column-vector y was passed when a 1d array was expected. Please change the shape of y to (n_samples, ), for example using ravel().\n",
      "  y = column_or_1d(y, warn=True)\n",
      "c:\\Users\\danie\\anaconda3\\envs\\awp2\\Lib\\site-packages\\lightgbm\\engine.py:204: UserWarning: Found `num_iterations` in params. Will use it instead of argument\n",
      "  _log_warning(f\"Found `{alias}` in params. Will use it instead of argument\")\n",
      "c:\\Users\\danie\\anaconda3\\envs\\awp2\\Lib\\site-packages\\lightgbm\\callback.py:329: UserWarning: Early stopping is not available in dart mode\n",
      "  _log_warning(\"Early stopping is not available in dart mode\")\n"
     ]
    },
    {
     "name": "stdout",
     "output_type": "stream",
     "text": [
      "[100]\ttrain's quantile: 165.355\tvalid's quantile: 162.751\n",
      "[150]\ttrain's quantile: 174.17\tvalid's quantile: 170.936\n",
      "[200]\ttrain's quantile: 177.701\tvalid's quantile: 174.271\n",
      "Training until validation scores don't improve for 20 rounds\n",
      "[50]\ttrain's quantile: 85.9884\tvalid's quantile: 92.0884\n",
      "[100]\ttrain's quantile: 69.3157\tvalid's quantile: 75.9947\n",
      "[150]\ttrain's quantile: 57.8043\tvalid's quantile: 65.0039\n"
     ]
    },
    {
     "name": "stderr",
     "output_type": "stream",
     "text": [
      "c:\\Users\\danie\\anaconda3\\envs\\awp2\\Lib\\site-packages\\sklearn\\utils\\validation.py:1339: DataConversionWarning: A column-vector y was passed when a 1d array was expected. Please change the shape of y to (n_samples, ), for example using ravel().\n",
      "  y = column_or_1d(y, warn=True)\n",
      "c:\\Users\\danie\\anaconda3\\envs\\awp2\\Lib\\site-packages\\lightgbm\\engine.py:204: UserWarning: Found `num_iterations` in params. Will use it instead of argument\n",
      "  _log_warning(f\"Found `{alias}` in params. Will use it instead of argument\")\n"
     ]
    },
    {
     "name": "stdout",
     "output_type": "stream",
     "text": [
      "[200]\ttrain's quantile: 49.8761\tvalid's quantile: 57.3471\n",
      "[250]\ttrain's quantile: 44.4367\tvalid's quantile: 52.1368\n",
      "[300]\ttrain's quantile: 40.424\tvalid's quantile: 48.4615\n",
      "[350]\ttrain's quantile: 37.9743\tvalid's quantile: 46.1548\n",
      "[400]\ttrain's quantile: 36.142\tvalid's quantile: 44.289\n",
      "[450]\ttrain's quantile: 34.6142\tvalid's quantile: 42.5149\n",
      "[500]\ttrain's quantile: 33.7079\tvalid's quantile: 41.4167\n",
      "Training until validation scores don't improve for 20 rounds\n"
     ]
    },
    {
     "name": "stderr",
     "output_type": "stream",
     "text": [
      "c:\\Users\\danie\\anaconda3\\envs\\awp2\\Lib\\site-packages\\sklearn\\utils\\validation.py:1339: DataConversionWarning: A column-vector y was passed when a 1d array was expected. Please change the shape of y to (n_samples, ), for example using ravel().\n",
      "  y = column_or_1d(y, warn=True)\n",
      "c:\\Users\\danie\\anaconda3\\envs\\awp2\\Lib\\site-packages\\lightgbm\\engine.py:204: UserWarning: Found `num_iterations` in params. Will use it instead of argument\n",
      "  _log_warning(f\"Found `{alias}` in params. Will use it instead of argument\")\n"
     ]
    },
    {
     "name": "stdout",
     "output_type": "stream",
     "text": [
      "[50]\ttrain's quantile: 83.1276\tvalid's quantile: 88.2164\n",
      "[100]\ttrain's quantile: 65.0263\tvalid's quantile: 70.3908\n",
      "[150]\ttrain's quantile: 53.0898\tvalid's quantile: 58.6564\n",
      "[200]\ttrain's quantile: 44.5377\tvalid's quantile: 50.5023\n",
      "[250]\ttrain's quantile: 38.7173\tvalid's quantile: 45.1387\n",
      "[300]\ttrain's quantile: 34.7939\tvalid's quantile: 41.5039\n",
      "[350]\ttrain's quantile: 31.7053\tvalid's quantile: 38.629\n",
      "[400]\ttrain's quantile: 29.6339\tvalid's quantile: 36.7225\n",
      "[450]\ttrain's quantile: 28.2337\tvalid's quantile: 35.4683\n",
      "[500]\ttrain's quantile: 27.2844\tvalid's quantile: 34.6728\n",
      "Training until validation scores don't improve for 20 rounds\n",
      "[50]\ttrain's quantile: 73.152\tvalid's quantile: 79.6832\n",
      "[100]\ttrain's quantile: 53.5955\tvalid's quantile: 61.0531\n"
     ]
    },
    {
     "name": "stderr",
     "output_type": "stream",
     "text": [
      "c:\\Users\\danie\\anaconda3\\envs\\awp2\\Lib\\site-packages\\sklearn\\utils\\validation.py:1339: DataConversionWarning: A column-vector y was passed when a 1d array was expected. Please change the shape of y to (n_samples, ), for example using ravel().\n",
      "  y = column_or_1d(y, warn=True)\n",
      "c:\\Users\\danie\\anaconda3\\envs\\awp2\\Lib\\site-packages\\lightgbm\\engine.py:204: UserWarning: Found `num_iterations` in params. Will use it instead of argument\n",
      "  _log_warning(f\"Found `{alias}` in params. Will use it instead of argument\")\n"
     ]
    },
    {
     "name": "stdout",
     "output_type": "stream",
     "text": [
      "[150]\ttrain's quantile: 43.0868\tvalid's quantile: 51.2429\n",
      "[200]\ttrain's quantile: 37.6805\tvalid's quantile: 46.0885\n",
      "[250]\ttrain's quantile: 34.7823\tvalid's quantile: 43.0773\n",
      "[300]\ttrain's quantile: 33.2049\tvalid's quantile: 41.4258\n",
      "[350]\ttrain's quantile: 31.956\tvalid's quantile: 39.8466\n",
      "[400]\ttrain's quantile: 31.329\tvalid's quantile: 39.1322\n",
      "[450]\ttrain's quantile: 31.0132\tvalid's quantile: 38.9534\n",
      "[500]\ttrain's quantile: 30.8403\tvalid's quantile: 38.9011\n"
     ]
    },
    {
     "name": "stderr",
     "output_type": "stream",
     "text": [
      "c:\\Users\\danie\\anaconda3\\envs\\awp2\\Lib\\site-packages\\sklearn\\utils\\validation.py:1339: DataConversionWarning: A column-vector y was passed when a 1d array was expected. Please change the shape of y to (n_samples, ), for example using ravel().\n",
      "  y = column_or_1d(y, warn=True)\n",
      "c:\\Users\\danie\\anaconda3\\envs\\awp2\\Lib\\site-packages\\lightgbm\\engine.py:204: UserWarning: Found `num_iterations` in params. Will use it instead of argument\n",
      "  _log_warning(f\"Found `{alias}` in params. Will use it instead of argument\")\n"
     ]
    },
    {
     "name": "stdout",
     "output_type": "stream",
     "text": [
      "Training until validation scores don't improve for 20 rounds\n",
      "[50]\ttrain's quantile: 69.9888\tvalid's quantile: 75.2861\n",
      "[100]\ttrain's quantile: 49.2089\tvalid's quantile: 55.1562\n",
      "[150]\ttrain's quantile: 37.9207\tvalid's quantile: 44.7257\n",
      "[200]\ttrain's quantile: 31.7258\tvalid's quantile: 39.343\n",
      "[250]\ttrain's quantile: 28.2719\tvalid's quantile: 36.5167\n",
      "[300]\ttrain's quantile: 26.3708\tvalid's quantile: 35.2394\n",
      "[350]\ttrain's quantile: 25.2138\tvalid's quantile: 34.4561\n",
      "[400]\ttrain's quantile: 24.6016\tvalid's quantile: 34.176\n",
      "[450]\ttrain's quantile: 24.1651\tvalid's quantile: 33.9978\n",
      "[500]\ttrain's quantile: 23.848\tvalid's quantile: 33.8835\n"
     ]
    },
    {
     "name": "stderr",
     "output_type": "stream",
     "text": [
      "c:\\Users\\danie\\anaconda3\\envs\\awp2\\Lib\\site-packages\\sklearn\\utils\\validation.py:1339: DataConversionWarning: A column-vector y was passed when a 1d array was expected. Please change the shape of y to (n_samples, ), for example using ravel().\n",
      "  y = column_or_1d(y, warn=True)\n",
      "c:\\Users\\danie\\anaconda3\\envs\\awp2\\Lib\\site-packages\\lightgbm\\engine.py:204: UserWarning: Found `num_iterations` in params. Will use it instead of argument\n",
      "  _log_warning(f\"Found `{alias}` in params. Will use it instead of argument\")\n"
     ]
    },
    {
     "name": "stdout",
     "output_type": "stream",
     "text": [
      "Training until validation scores don't improve for 20 rounds\n",
      "[50]\ttrain's quantile: 67.5322\tvalid's quantile: 73.0489\n",
      "[100]\ttrain's quantile: 46.505\tvalid's quantile: 52.7156\n",
      "[150]\ttrain's quantile: 34.2794\tvalid's quantile: 41.5695\n",
      "[200]\ttrain's quantile: 27.6482\tvalid's quantile: 35.9391\n",
      "[250]\ttrain's quantile: 24.2176\tvalid's quantile: 33.371\n",
      "[300]\ttrain's quantile: 22.3237\tvalid's quantile: 32.1957\n",
      "[350]\ttrain's quantile: 21.1266\tvalid's quantile: 31.6484\n",
      "[400]\ttrain's quantile: 20.3556\tvalid's quantile: 31.4212\n",
      "[450]\ttrain's quantile: 19.7589\tvalid's quantile: 31.263\n",
      "[500]\ttrain's quantile: 19.3975\tvalid's quantile: 31.1975\n",
      "Saved Quantile Regressor model for quantile 0.5 to lgbm_model_wind\\lgbm_model_quantile_0.5.pkl\n"
     ]
    },
    {
     "name": "stderr",
     "output_type": "stream",
     "text": [
      "c:\\Users\\danie\\anaconda3\\envs\\awp2\\Lib\\site-packages\\sklearn\\utils\\validation.py:1339: DataConversionWarning: A column-vector y was passed when a 1d array was expected. Please change the shape of y to (n_samples, ), for example using ravel().\n",
      "  y = column_or_1d(y, warn=True)\n",
      "c:\\Users\\danie\\anaconda3\\envs\\awp2\\Lib\\site-packages\\lightgbm\\engine.py:204: UserWarning: Found `num_iterations` in params. Will use it instead of argument\n",
      "  _log_warning(f\"Found `{alias}` in params. Will use it instead of argument\")\n",
      "c:\\Users\\danie\\anaconda3\\envs\\awp2\\Lib\\site-packages\\lightgbm\\callback.py:329: UserWarning: Early stopping is not available in dart mode\n",
      "  _log_warning(\"Early stopping is not available in dart mode\")\n"
     ]
    },
    {
     "name": "stdout",
     "output_type": "stream",
     "text": [
      "[50]\ttrain's quantile: 130.477\tvalid's quantile: 137.693\n",
      "[100]\ttrain's quantile: 146.019\tvalid's quantile: 153.825\n"
     ]
    },
    {
     "name": "stderr",
     "output_type": "stream",
     "text": [
      "c:\\Users\\danie\\anaconda3\\envs\\awp2\\Lib\\site-packages\\sklearn\\utils\\validation.py:1339: DataConversionWarning: A column-vector y was passed when a 1d array was expected. Please change the shape of y to (n_samples, ), for example using ravel().\n",
      "  y = column_or_1d(y, warn=True)\n",
      "c:\\Users\\danie\\anaconda3\\envs\\awp2\\Lib\\site-packages\\lightgbm\\engine.py:204: UserWarning: Found `num_iterations` in params. Will use it instead of argument\n",
      "  _log_warning(f\"Found `{alias}` in params. Will use it instead of argument\")\n",
      "c:\\Users\\danie\\anaconda3\\envs\\awp2\\Lib\\site-packages\\lightgbm\\callback.py:329: UserWarning: Early stopping is not available in dart mode\n",
      "  _log_warning(\"Early stopping is not available in dart mode\")\n"
     ]
    },
    {
     "name": "stdout",
     "output_type": "stream",
     "text": [
      "[50]\ttrain's quantile: 133.623\tvalid's quantile: 140.9\n",
      "[100]\ttrain's quantile: 148.752\tvalid's quantile: 156.548\n"
     ]
    },
    {
     "name": "stderr",
     "output_type": "stream",
     "text": [
      "c:\\Users\\danie\\anaconda3\\envs\\awp2\\Lib\\site-packages\\sklearn\\utils\\validation.py:1339: DataConversionWarning: A column-vector y was passed when a 1d array was expected. Please change the shape of y to (n_samples, ), for example using ravel().\n",
      "  y = column_or_1d(y, warn=True)\n",
      "c:\\Users\\danie\\anaconda3\\envs\\awp2\\Lib\\site-packages\\lightgbm\\engine.py:204: UserWarning: Found `num_iterations` in params. Will use it instead of argument\n",
      "  _log_warning(f\"Found `{alias}` in params. Will use it instead of argument\")\n",
      "c:\\Users\\danie\\anaconda3\\envs\\awp2\\Lib\\site-packages\\lightgbm\\callback.py:329: UserWarning: Early stopping is not available in dart mode\n",
      "  _log_warning(\"Early stopping is not available in dart mode\")\n",
      "c:\\Users\\danie\\anaconda3\\envs\\awp2\\Lib\\site-packages\\sklearn\\utils\\validation.py:1339: DataConversionWarning: A column-vector y was passed when a 1d array was expected. Please change the shape of y to (n_samples, ), for example using ravel().\n",
      "  y = column_or_1d(y, warn=True)\n",
      "c:\\Users\\danie\\anaconda3\\envs\\awp2\\Lib\\site-packages\\lightgbm\\engine.py:204: UserWarning: Found `num_iterations` in params. Will use it instead of argument\n",
      "  _log_warning(f\"Found `{alias}` in params. Will use it instead of argument\")\n",
      "c:\\Users\\danie\\anaconda3\\envs\\awp2\\Lib\\site-packages\\lightgbm\\callback.py:329: UserWarning: Early stopping is not available in dart mode\n",
      "  _log_warning(\"Early stopping is not available in dart mode\")\n"
     ]
    },
    {
     "name": "stdout",
     "output_type": "stream",
     "text": [
      "[50]\ttrain's quantile: 87.1641\tvalid's quantile: 95.5023\n",
      "[100]\ttrain's quantile: 79.5578\tvalid's quantile: 88.5125\n",
      "[50]\ttrain's quantile: 81.2455\tvalid's quantile: 87.8491\n",
      "[100]\ttrain's quantile: 70.0698\tvalid's quantile: 76.7019\n",
      "Training until validation scores don't improve for 20 rounds\n",
      "[50]\ttrain's quantile: 32.9348\tvalid's quantile: 40.6787\n",
      "[100]\ttrain's quantile: 31.3357\tvalid's quantile: 38.3363\n",
      "Training until validation scores don't improve for 20 rounds\n"
     ]
    },
    {
     "name": "stderr",
     "output_type": "stream",
     "text": [
      "c:\\Users\\danie\\anaconda3\\envs\\awp2\\Lib\\site-packages\\sklearn\\utils\\validation.py:1339: DataConversionWarning: A column-vector y was passed when a 1d array was expected. Please change the shape of y to (n_samples, ), for example using ravel().\n",
      "  y = column_or_1d(y, warn=True)\n",
      "c:\\Users\\danie\\anaconda3\\envs\\awp2\\Lib\\site-packages\\lightgbm\\engine.py:204: UserWarning: Found `num_iterations` in params. Will use it instead of argument\n",
      "  _log_warning(f\"Found `{alias}` in params. Will use it instead of argument\")\n",
      "c:\\Users\\danie\\anaconda3\\envs\\awp2\\Lib\\site-packages\\sklearn\\utils\\validation.py:1339: DataConversionWarning: A column-vector y was passed when a 1d array was expected. Please change the shape of y to (n_samples, ), for example using ravel().\n",
      "  y = column_or_1d(y, warn=True)\n",
      "c:\\Users\\danie\\anaconda3\\envs\\awp2\\Lib\\site-packages\\lightgbm\\engine.py:204: UserWarning: Found `num_iterations` in params. Will use it instead of argument\n",
      "  _log_warning(f\"Found `{alias}` in params. Will use it instead of argument\")\n"
     ]
    },
    {
     "name": "stdout",
     "output_type": "stream",
     "text": [
      "[50]\ttrain's quantile: 28.274\tvalid's quantile: 35.1357\n",
      "[100]\ttrain's quantile: 25.7599\tvalid's quantile: 32.9863\n",
      "Training until validation scores don't improve for 20 rounds\n",
      "[50]\ttrain's quantile: 98.5928\tvalid's quantile: 105.049\n"
     ]
    },
    {
     "name": "stderr",
     "output_type": "stream",
     "text": [
      "c:\\Users\\danie\\anaconda3\\envs\\awp2\\Lib\\site-packages\\sklearn\\utils\\validation.py:1339: DataConversionWarning: A column-vector y was passed when a 1d array was expected. Please change the shape of y to (n_samples, ), for example using ravel().\n",
      "  y = column_or_1d(y, warn=True)\n",
      "c:\\Users\\danie\\anaconda3\\envs\\awp2\\Lib\\site-packages\\lightgbm\\engine.py:204: UserWarning: Found `num_iterations` in params. Will use it instead of argument\n",
      "  _log_warning(f\"Found `{alias}` in params. Will use it instead of argument\")\n",
      "c:\\Users\\danie\\anaconda3\\envs\\awp2\\Lib\\site-packages\\sklearn\\utils\\validation.py:1339: DataConversionWarning: A column-vector y was passed when a 1d array was expected. Please change the shape of y to (n_samples, ), for example using ravel().\n",
      "  y = column_or_1d(y, warn=True)\n",
      "c:\\Users\\danie\\anaconda3\\envs\\awp2\\Lib\\site-packages\\lightgbm\\engine.py:204: UserWarning: Found `num_iterations` in params. Will use it instead of argument\n",
      "  _log_warning(f\"Found `{alias}` in params. Will use it instead of argument\")\n"
     ]
    },
    {
     "name": "stdout",
     "output_type": "stream",
     "text": [
      "[100]\ttrain's quantile: 94.967\tvalid's quantile: 101.483\n",
      "Training until validation scores don't improve for 20 rounds\n",
      "[50]\ttrain's quantile: 98.8522\tvalid's quantile: 105.421\n",
      "[100]\ttrain's quantile: 95.1333\tvalid's quantile: 101.727\n",
      "Training until validation scores don't improve for 20 rounds\n",
      "[50]\ttrain's quantile: 87.8317\tvalid's quantile: 94.502\n",
      "[100]\ttrain's quantile: 75.8364\tvalid's quantile: 82.78\n",
      "[150]\ttrain's quantile: 66.4665\tvalid's quantile: 73.5841\n",
      "[200]\ttrain's quantile: 58.7512\tvalid's quantile: 65.97\n"
     ]
    },
    {
     "name": "stderr",
     "output_type": "stream",
     "text": [
      "c:\\Users\\danie\\anaconda3\\envs\\awp2\\Lib\\site-packages\\sklearn\\utils\\validation.py:1339: DataConversionWarning: A column-vector y was passed when a 1d array was expected. Please change the shape of y to (n_samples, ), for example using ravel().\n",
      "  y = column_or_1d(y, warn=True)\n",
      "c:\\Users\\danie\\anaconda3\\envs\\awp2\\Lib\\site-packages\\lightgbm\\engine.py:204: UserWarning: Found `num_iterations` in params. Will use it instead of argument\n",
      "  _log_warning(f\"Found `{alias}` in params. Will use it instead of argument\")\n",
      "c:\\Users\\danie\\anaconda3\\envs\\awp2\\Lib\\site-packages\\sklearn\\utils\\validation.py:1339: DataConversionWarning: A column-vector y was passed when a 1d array was expected. Please change the shape of y to (n_samples, ), for example using ravel().\n",
      "  y = column_or_1d(y, warn=True)\n",
      "c:\\Users\\danie\\anaconda3\\envs\\awp2\\Lib\\site-packages\\lightgbm\\engine.py:204: UserWarning: Found `num_iterations` in params. Will use it instead of argument\n",
      "  _log_warning(f\"Found `{alias}` in params. Will use it instead of argument\")\n"
     ]
    },
    {
     "name": "stdout",
     "output_type": "stream",
     "text": [
      "Training until validation scores don't improve for 20 rounds\n",
      "[50]\ttrain's quantile: 86.7031\tvalid's quantile: 93.0485\n",
      "[100]\ttrain's quantile: 74.1091\tvalid's quantile: 80.1852\n",
      "[150]\ttrain's quantile: 64.3368\tvalid's quantile: 70.2144\n",
      "[200]\ttrain's quantile: 56.1436\tvalid's quantile: 62.072\n"
     ]
    },
    {
     "name": "stderr",
     "output_type": "stream",
     "text": [
      "c:\\Users\\danie\\anaconda3\\envs\\awp2\\Lib\\site-packages\\sklearn\\utils\\validation.py:1339: DataConversionWarning: A column-vector y was passed when a 1d array was expected. Please change the shape of y to (n_samples, ), for example using ravel().\n",
      "  y = column_or_1d(y, warn=True)\n",
      "c:\\Users\\danie\\anaconda3\\envs\\awp2\\Lib\\site-packages\\lightgbm\\engine.py:204: UserWarning: Found `num_iterations` in params. Will use it instead of argument\n",
      "  _log_warning(f\"Found `{alias}` in params. Will use it instead of argument\")\n",
      "c:\\Users\\danie\\anaconda3\\envs\\awp2\\Lib\\site-packages\\sklearn\\utils\\validation.py:1339: DataConversionWarning: A column-vector y was passed when a 1d array was expected. Please change the shape of y to (n_samples, ), for example using ravel().\n",
      "  y = column_or_1d(y, warn=True)\n",
      "c:\\Users\\danie\\anaconda3\\envs\\awp2\\Lib\\site-packages\\lightgbm\\engine.py:204: UserWarning: Found `num_iterations` in params. Will use it instead of argument\n",
      "  _log_warning(f\"Found `{alias}` in params. Will use it instead of argument\")\n"
     ]
    },
    {
     "name": "stdout",
     "output_type": "stream",
     "text": [
      "Training until validation scores don't improve for 20 rounds\n",
      "[50]\ttrain's quantile: 26.0242\tvalid's quantile: 31.8978\n",
      "[100]\ttrain's quantile: 23.2855\tvalid's quantile: 30.2747\n",
      "Saved Quantile Regressor model for quantile 0.6 to lgbm_model_wind\\lgbm_model_quantile_0.6.pkl\n"
     ]
    },
    {
     "name": "stderr",
     "output_type": "stream",
     "text": [
      "c:\\Users\\danie\\anaconda3\\envs\\awp2\\Lib\\site-packages\\lightgbm\\callback.py:329: UserWarning: Early stopping is not available in dart mode\n",
      "  _log_warning(\"Early stopping is not available in dart mode\")\n"
     ]
    },
    {
     "name": "stdout",
     "output_type": "stream",
     "text": [
      "[50]\ttrain's quantile: 71.7941\tvalid's quantile: 81.2792\n",
      "[100]\ttrain's quantile: 62.0494\tvalid's quantile: 72.3511\n",
      "[150]\ttrain's quantile: 60.0323\tvalid's quantile: 70.4805\n",
      "[200]\ttrain's quantile: 62.1343\tvalid's quantile: 72.5195\n"
     ]
    },
    {
     "name": "stderr",
     "output_type": "stream",
     "text": [
      "c:\\Users\\danie\\anaconda3\\envs\\awp2\\Lib\\site-packages\\sklearn\\utils\\validation.py:1339: DataConversionWarning: A column-vector y was passed when a 1d array was expected. Please change the shape of y to (n_samples, ), for example using ravel().\n",
      "  y = column_or_1d(y, warn=True)\n",
      "c:\\Users\\danie\\anaconda3\\envs\\awp2\\Lib\\site-packages\\lightgbm\\engine.py:204: UserWarning: Found `num_iterations` in params. Will use it instead of argument\n",
      "  _log_warning(f\"Found `{alias}` in params. Will use it instead of argument\")\n",
      "c:\\Users\\danie\\anaconda3\\envs\\awp2\\Lib\\site-packages\\lightgbm\\callback.py:329: UserWarning: Early stopping is not available in dart mode\n",
      "  _log_warning(\"Early stopping is not available in dart mode\")\n"
     ]
    },
    {
     "name": "stdout",
     "output_type": "stream",
     "text": [
      "[50]\ttrain's quantile: 62.4565\tvalid's quantile: 69.3412\n",
      "[100]\ttrain's quantile: 49.4816\tvalid's quantile: 56.5975\n",
      "[150]\ttrain's quantile: 46.0936\tvalid's quantile: 53.2434\n",
      "[200]\ttrain's quantile: 47.9867\tvalid's quantile: 55.4035\n",
      "Training until validation scores don't improve for 20 rounds\n",
      "[50]\ttrain's quantile: 80.4437\tvalid's quantile: 88.0577\n",
      "[100]\ttrain's quantile: 73.4823\tvalid's quantile: 81.2016\n"
     ]
    },
    {
     "name": "stderr",
     "output_type": "stream",
     "text": [
      "c:\\Users\\danie\\anaconda3\\envs\\awp2\\Lib\\site-packages\\sklearn\\utils\\validation.py:1339: DataConversionWarning: A column-vector y was passed when a 1d array was expected. Please change the shape of y to (n_samples, ), for example using ravel().\n",
      "  y = column_or_1d(y, warn=True)\n",
      "c:\\Users\\danie\\anaconda3\\envs\\awp2\\Lib\\site-packages\\lightgbm\\engine.py:204: UserWarning: Found `num_iterations` in params. Will use it instead of argument\n",
      "  _log_warning(f\"Found `{alias}` in params. Will use it instead of argument\")\n",
      "c:\\Users\\danie\\anaconda3\\envs\\awp2\\Lib\\site-packages\\sklearn\\utils\\validation.py:1339: DataConversionWarning: A column-vector y was passed when a 1d array was expected. Please change the shape of y to (n_samples, ), for example using ravel().\n",
      "  y = column_or_1d(y, warn=True)\n",
      "c:\\Users\\danie\\anaconda3\\envs\\awp2\\Lib\\site-packages\\lightgbm\\engine.py:204: UserWarning: Found `num_iterations` in params. Will use it instead of argument\n",
      "  _log_warning(f\"Found `{alias}` in params. Will use it instead of argument\")\n"
     ]
    },
    {
     "name": "stdout",
     "output_type": "stream",
     "text": [
      "Training until validation scores don't improve for 20 rounds\n",
      "[50]\ttrain's quantile: 78.709\tvalid's quantile: 86.0708\n",
      "[100]\ttrain's quantile: 70.4428\tvalid's quantile: 77.6381\n",
      "Training until validation scores don't improve for 20 rounds\n",
      "[50]\ttrain's quantile: 85.296\tvalid's quantile: 92.8297\n"
     ]
    },
    {
     "name": "stderr",
     "output_type": "stream",
     "text": [
      "c:\\Users\\danie\\anaconda3\\envs\\awp2\\Lib\\site-packages\\sklearn\\utils\\validation.py:1339: DataConversionWarning: A column-vector y was passed when a 1d array was expected. Please change the shape of y to (n_samples, ), for example using ravel().\n",
      "  y = column_or_1d(y, warn=True)\n",
      "c:\\Users\\danie\\anaconda3\\envs\\awp2\\Lib\\site-packages\\lightgbm\\engine.py:204: UserWarning: Found `num_iterations` in params. Will use it instead of argument\n",
      "  _log_warning(f\"Found `{alias}` in params. Will use it instead of argument\")\n"
     ]
    },
    {
     "name": "stdout",
     "output_type": "stream",
     "text": [
      "[100]\ttrain's quantile: 82.5832\tvalid's quantile: 90.1708\n",
      "[150]\ttrain's quantile: 79.8788\tvalid's quantile: 87.5015\n",
      "[200]\ttrain's quantile: 77.4515\tvalid's quantile: 85.1456\n",
      "[250]\ttrain's quantile: 74.8984\tvalid's quantile: 82.6174\n",
      "[300]\ttrain's quantile: 72.4757\tvalid's quantile: 80.2182\n",
      "[350]\ttrain's quantile: 70.1227\tvalid's quantile: 77.8833\n",
      "[400]\ttrain's quantile: 67.9969\tvalid's quantile: 75.8079\n",
      "[450]\ttrain's quantile: 65.9534\tvalid's quantile: 73.7783\n",
      "[500]\ttrain's quantile: 64.0197\tvalid's quantile: 71.8341\n",
      "Training until validation scores don't improve for 20 rounds\n",
      "[50]\ttrain's quantile: 84.719\tvalid's quantile: 92.2373\n"
     ]
    },
    {
     "name": "stderr",
     "output_type": "stream",
     "text": [
      "c:\\Users\\danie\\anaconda3\\envs\\awp2\\Lib\\site-packages\\sklearn\\utils\\validation.py:1339: DataConversionWarning: A column-vector y was passed when a 1d array was expected. Please change the shape of y to (n_samples, ), for example using ravel().\n",
      "  y = column_or_1d(y, warn=True)\n",
      "c:\\Users\\danie\\anaconda3\\envs\\awp2\\Lib\\site-packages\\lightgbm\\engine.py:204: UserWarning: Found `num_iterations` in params. Will use it instead of argument\n",
      "  _log_warning(f\"Found `{alias}` in params. Will use it instead of argument\")\n"
     ]
    },
    {
     "name": "stdout",
     "output_type": "stream",
     "text": [
      "[100]\ttrain's quantile: 81.299\tvalid's quantile: 88.7407\n",
      "[150]\ttrain's quantile: 78.101\tvalid's quantile: 85.4614\n",
      "[200]\ttrain's quantile: 75.032\tvalid's quantile: 82.3538\n",
      "[250]\ttrain's quantile: 72.133\tvalid's quantile: 79.3905\n",
      "[300]\ttrain's quantile: 69.398\tvalid's quantile: 76.5991\n",
      "[350]\ttrain's quantile: 66.8632\tvalid's quantile: 74.0054\n",
      "[400]\ttrain's quantile: 64.4763\tvalid's quantile: 71.5572\n",
      "[450]\ttrain's quantile: 62.2191\tvalid's quantile: 69.232\n",
      "[500]\ttrain's quantile: 60.0747\tvalid's quantile: 67.0285\n",
      "Training until validation scores don't improve for 20 rounds\n",
      "[50]\ttrain's quantile: 58.3791\tvalid's quantile: 66.0986\n",
      "[100]\ttrain's quantile: 42.8176\tvalid's quantile: 50.2664\n",
      "[150]\ttrain's quantile: 35.1899\tvalid's quantile: 42.4948\n"
     ]
    },
    {
     "name": "stderr",
     "output_type": "stream",
     "text": [
      "c:\\Users\\danie\\anaconda3\\envs\\awp2\\Lib\\site-packages\\sklearn\\utils\\validation.py:1339: DataConversionWarning: A column-vector y was passed when a 1d array was expected. Please change the shape of y to (n_samples, ), for example using ravel().\n",
      "  y = column_or_1d(y, warn=True)\n",
      "c:\\Users\\danie\\anaconda3\\envs\\awp2\\Lib\\site-packages\\lightgbm\\engine.py:204: UserWarning: Found `num_iterations` in params. Will use it instead of argument\n",
      "  _log_warning(f\"Found `{alias}` in params. Will use it instead of argument\")\n"
     ]
    },
    {
     "name": "stdout",
     "output_type": "stream",
     "text": [
      "[200]\ttrain's quantile: 31.3553\tvalid's quantile: 38.3911\n",
      "[250]\ttrain's quantile: 29.6666\tvalid's quantile: 36.6606\n",
      "[300]\ttrain's quantile: 28.7595\tvalid's quantile: 35.7083\n",
      "[350]\ttrain's quantile: 27.9631\tvalid's quantile: 34.6396\n",
      "[400]\ttrain's quantile: 27.6652\tvalid's quantile: 34.3322\n",
      "[450]\ttrain's quantile: 27.4633\tvalid's quantile: 34.2903\n",
      "[500]\ttrain's quantile: 27.3929\tvalid's quantile: 34.4713\n"
     ]
    },
    {
     "name": "stderr",
     "output_type": "stream",
     "text": [
      "c:\\Users\\danie\\anaconda3\\envs\\awp2\\Lib\\site-packages\\sklearn\\utils\\validation.py:1339: DataConversionWarning: A column-vector y was passed when a 1d array was expected. Please change the shape of y to (n_samples, ), for example using ravel().\n",
      "  y = column_or_1d(y, warn=True)\n",
      "c:\\Users\\danie\\anaconda3\\envs\\awp2\\Lib\\site-packages\\lightgbm\\engine.py:204: UserWarning: Found `num_iterations` in params. Will use it instead of argument\n",
      "  _log_warning(f\"Found `{alias}` in params. Will use it instead of argument\")\n"
     ]
    },
    {
     "name": "stdout",
     "output_type": "stream",
     "text": [
      "Training until validation scores don't improve for 20 rounds\n",
      "[50]\ttrain's quantile: 54.2824\tvalid's quantile: 60.9564\n",
      "[100]\ttrain's quantile: 38.0558\tvalid's quantile: 44.4296\n",
      "[150]\ttrain's quantile: 30.3505\tvalid's quantile: 36.9086\n",
      "[200]\ttrain's quantile: 26.5457\tvalid's quantile: 33.4331\n",
      "[250]\ttrain's quantile: 24.6871\tvalid's quantile: 31.8404\n",
      "[300]\ttrain's quantile: 23.856\tvalid's quantile: 31.1577\n",
      "[350]\ttrain's quantile: 23.5104\tvalid's quantile: 30.8875\n",
      "[400]\ttrain's quantile: 23.2499\tvalid's quantile: 30.7265\n",
      "[450]\ttrain's quantile: 23.077\tvalid's quantile: 30.6896\n",
      "[500]\ttrain's quantile: 22.908\tvalid's quantile: 30.6226\n"
     ]
    },
    {
     "name": "stderr",
     "output_type": "stream",
     "text": [
      "c:\\Users\\danie\\anaconda3\\envs\\awp2\\Lib\\site-packages\\sklearn\\utils\\validation.py:1339: DataConversionWarning: A column-vector y was passed when a 1d array was expected. Please change the shape of y to (n_samples, ), for example using ravel().\n",
      "  y = column_or_1d(y, warn=True)\n",
      "c:\\Users\\danie\\anaconda3\\envs\\awp2\\Lib\\site-packages\\lightgbm\\engine.py:204: UserWarning: Found `num_iterations` in params. Will use it instead of argument\n",
      "  _log_warning(f\"Found `{alias}` in params. Will use it instead of argument\")\n",
      "c:\\Users\\danie\\anaconda3\\envs\\awp2\\Lib\\site-packages\\lightgbm\\callback.py:329: UserWarning: Early stopping is not available in dart mode\n",
      "  _log_warning(\"Early stopping is not available in dart mode\")\n"
     ]
    },
    {
     "name": "stdout",
     "output_type": "stream",
     "text": [
      "[50]\ttrain's quantile: 88.6823\tvalid's quantile: 97.1651\n",
      "[100]\ttrain's quantile: 80.4071\tvalid's quantile: 89.8485\n",
      "[150]\ttrain's quantile: 78.8316\tvalid's quantile: 88.6239\n",
      "[200]\ttrain's quantile: 79.8879\tvalid's quantile: 89.4773\n",
      "[250]\ttrain's quantile: 64.4248\tvalid's quantile: 74.0912\n",
      "[300]\ttrain's quantile: 57.9132\tvalid's quantile: 67.7288\n",
      "[350]\ttrain's quantile: 54.3219\tvalid's quantile: 64.2194\n",
      "[400]\ttrain's quantile: 55.4997\tvalid's quantile: 65.5823\n",
      "[450]\ttrain's quantile: 56.4564\tvalid's quantile: 66.6327\n",
      "[500]\ttrain's quantile: 44.7262\tvalid's quantile: 54.4958\n",
      "[50]\ttrain's quantile: 84.0708\tvalid's quantile: 91.7679\n"
     ]
    },
    {
     "name": "stderr",
     "output_type": "stream",
     "text": [
      "c:\\Users\\danie\\anaconda3\\envs\\awp2\\Lib\\site-packages\\sklearn\\utils\\validation.py:1339: DataConversionWarning: A column-vector y was passed when a 1d array was expected. Please change the shape of y to (n_samples, ), for example using ravel().\n",
      "  y = column_or_1d(y, warn=True)\n",
      "c:\\Users\\danie\\anaconda3\\envs\\awp2\\Lib\\site-packages\\lightgbm\\engine.py:204: UserWarning: Found `num_iterations` in params. Will use it instead of argument\n",
      "  _log_warning(f\"Found `{alias}` in params. Will use it instead of argument\")\n",
      "c:\\Users\\danie\\anaconda3\\envs\\awp2\\Lib\\site-packages\\lightgbm\\callback.py:329: UserWarning: Early stopping is not available in dart mode\n",
      "  _log_warning(\"Early stopping is not available in dart mode\")\n"
     ]
    },
    {
     "name": "stdout",
     "output_type": "stream",
     "text": [
      "[100]\ttrain's quantile: 72.7765\tvalid's quantile: 80.9511\n",
      "[150]\ttrain's quantile: 70.3197\tvalid's quantile: 78.9638\n",
      "[200]\ttrain's quantile: 71.2418\tvalid's quantile: 79.9886\n",
      "[250]\ttrain's quantile: 54.7745\tvalid's quantile: 63.1632\n",
      "[300]\ttrain's quantile: 48.0779\tvalid's quantile: 56.2916\n",
      "[350]\ttrain's quantile: 44.3431\tvalid's quantile: 52.8834\n",
      "[400]\ttrain's quantile: 45.4403\tvalid's quantile: 53.9774\n",
      "[450]\ttrain's quantile: 46.6699\tvalid's quantile: 55.2665\n",
      "[500]\ttrain's quantile: 36.4622\tvalid's quantile: 45.1763\n"
     ]
    },
    {
     "name": "stderr",
     "output_type": "stream",
     "text": [
      "c:\\Users\\danie\\anaconda3\\envs\\awp2\\Lib\\site-packages\\sklearn\\utils\\validation.py:1339: DataConversionWarning: A column-vector y was passed when a 1d array was expected. Please change the shape of y to (n_samples, ), for example using ravel().\n",
      "  y = column_or_1d(y, warn=True)\n",
      "c:\\Users\\danie\\anaconda3\\envs\\awp2\\Lib\\site-packages\\lightgbm\\engine.py:204: UserWarning: Found `num_iterations` in params. Will use it instead of argument\n",
      "  _log_warning(f\"Found `{alias}` in params. Will use it instead of argument\")\n"
     ]
    },
    {
     "name": "stdout",
     "output_type": "stream",
     "text": [
      "Training until validation scores don't improve for 20 rounds\n",
      "[50]\ttrain's quantile: 52.4347\tvalid's quantile: 58.2817\n",
      "[100]\ttrain's quantile: 35.6569\tvalid's quantile: 41.1727\n",
      "[150]\ttrain's quantile: 27.7586\tvalid's quantile: 33.2452\n",
      "[200]\ttrain's quantile: 23.8329\tvalid's quantile: 29.6713\n",
      "[250]\ttrain's quantile: 21.8665\tvalid's quantile: 28.2096\n",
      "[300]\ttrain's quantile: 20.7791\tvalid's quantile: 27.4651\n",
      "[350]\ttrain's quantile: 20.1515\tvalid's quantile: 27.17\n",
      "[400]\ttrain's quantile: 19.7135\tvalid's quantile: 27.0307\n",
      "[450]\ttrain's quantile: 19.3856\tvalid's quantile: 26.9949\n",
      "[500]\ttrain's quantile: 19.1862\tvalid's quantile: 27.0085\n",
      "Saved Quantile Regressor model for quantile 0.7 to lgbm_model_wind\\lgbm_model_quantile_0.7.pkl\n"
     ]
    },
    {
     "name": "stderr",
     "output_type": "stream",
     "text": [
      "c:\\Users\\danie\\anaconda3\\envs\\awp2\\Lib\\site-packages\\sklearn\\utils\\validation.py:1339: DataConversionWarning: A column-vector y was passed when a 1d array was expected. Please change the shape of y to (n_samples, ), for example using ravel().\n",
      "  y = column_or_1d(y, warn=True)\n",
      "c:\\Users\\danie\\anaconda3\\envs\\awp2\\Lib\\site-packages\\lightgbm\\engine.py:204: UserWarning: Found `num_iterations` in params. Will use it instead of argument\n",
      "  _log_warning(f\"Found `{alias}` in params. Will use it instead of argument\")\n",
      "c:\\Users\\danie\\anaconda3\\envs\\awp2\\Lib\\site-packages\\lightgbm\\callback.py:329: UserWarning: Early stopping is not available in dart mode\n",
      "  _log_warning(\"Early stopping is not available in dart mode\")\n"
     ]
    },
    {
     "name": "stdout",
     "output_type": "stream",
     "text": [
      "[50]\ttrain's quantile: 142.451\tvalid's quantile: 152.228\n",
      "[100]\ttrain's quantile: 171.352\tvalid's quantile: 181.715\n",
      "[150]\ttrain's quantile: 193.86\tvalid's quantile: 204.643\n",
      "[200]\ttrain's quantile: 209.777\tvalid's quantile: 220.55\n",
      "[250]\ttrain's quantile: 210.117\tvalid's quantile: 220.956\n",
      "[300]\ttrain's quantile: 210.198\tvalid's quantile: 221.142\n",
      "[350]\ttrain's quantile: 209.723\tvalid's quantile: 220.583\n",
      "[400]\ttrain's quantile: 215.166\tvalid's quantile: 226.178\n",
      "[450]\ttrain's quantile: 217.199\tvalid's quantile: 228.299\n",
      "[500]\ttrain's quantile: 216.819\tvalid's quantile: 228.001\n",
      "[50]\ttrain's quantile: 140.965\tvalid's quantile: 150.744\n"
     ]
    },
    {
     "name": "stderr",
     "output_type": "stream",
     "text": [
      "c:\\Users\\danie\\anaconda3\\envs\\awp2\\Lib\\site-packages\\sklearn\\utils\\validation.py:1339: DataConversionWarning: A column-vector y was passed when a 1d array was expected. Please change the shape of y to (n_samples, ), for example using ravel().\n",
      "  y = column_or_1d(y, warn=True)\n",
      "c:\\Users\\danie\\anaconda3\\envs\\awp2\\Lib\\site-packages\\lightgbm\\engine.py:204: UserWarning: Found `num_iterations` in params. Will use it instead of argument\n",
      "  _log_warning(f\"Found `{alias}` in params. Will use it instead of argument\")\n",
      "c:\\Users\\danie\\anaconda3\\envs\\awp2\\Lib\\site-packages\\lightgbm\\callback.py:329: UserWarning: Early stopping is not available in dart mode\n",
      "  _log_warning(\"Early stopping is not available in dart mode\")\n"
     ]
    },
    {
     "name": "stdout",
     "output_type": "stream",
     "text": [
      "[100]\ttrain's quantile: 169.572\tvalid's quantile: 179.909\n",
      "[150]\ttrain's quantile: 191.984\tvalid's quantile: 202.668\n",
      "[200]\ttrain's quantile: 208.164\tvalid's quantile: 219.078\n",
      "[250]\ttrain's quantile: 208.13\tvalid's quantile: 218.976\n",
      "[300]\ttrain's quantile: 207.802\tvalid's quantile: 218.58\n",
      "[350]\ttrain's quantile: 207.24\tvalid's quantile: 217.975\n",
      "[400]\ttrain's quantile: 212.59\tvalid's quantile: 223.425\n",
      "[450]\ttrain's quantile: 214.535\tvalid's quantile: 225.437\n",
      "[500]\ttrain's quantile: 213.814\tvalid's quantile: 224.76\n",
      "Training until validation scores don't improve for 20 rounds\n",
      "[50]\ttrain's quantile: 28.2811\tvalid's quantile: 34.5283\n",
      "[100]\ttrain's quantile: 22.3389\tvalid's quantile: 28.3024\n"
     ]
    },
    {
     "name": "stderr",
     "output_type": "stream",
     "text": [
      "c:\\Users\\danie\\anaconda3\\envs\\awp2\\Lib\\site-packages\\sklearn\\utils\\validation.py:1339: DataConversionWarning: A column-vector y was passed when a 1d array was expected. Please change the shape of y to (n_samples, ), for example using ravel().\n",
      "  y = column_or_1d(y, warn=True)\n",
      "c:\\Users\\danie\\anaconda3\\envs\\awp2\\Lib\\site-packages\\lightgbm\\engine.py:204: UserWarning: Found `num_iterations` in params. Will use it instead of argument\n",
      "  _log_warning(f\"Found `{alias}` in params. Will use it instead of argument\")\n"
     ]
    },
    {
     "name": "stdout",
     "output_type": "stream",
     "text": [
      "[150]\ttrain's quantile: 21.5162\tvalid's quantile: 27.8121\n",
      "[200]\ttrain's quantile: 21.0047\tvalid's quantile: 27.4826\n",
      "Training until validation scores don't improve for 20 rounds\n",
      "[50]\ttrain's quantile: 24.909\tvalid's quantile: 30.8027\n"
     ]
    },
    {
     "name": "stderr",
     "output_type": "stream",
     "text": [
      "c:\\Users\\danie\\anaconda3\\envs\\awp2\\Lib\\site-packages\\sklearn\\utils\\validation.py:1339: DataConversionWarning: A column-vector y was passed when a 1d array was expected. Please change the shape of y to (n_samples, ), for example using ravel().\n",
      "  y = column_or_1d(y, warn=True)\n",
      "c:\\Users\\danie\\anaconda3\\envs\\awp2\\Lib\\site-packages\\lightgbm\\engine.py:204: UserWarning: Found `num_iterations` in params. Will use it instead of argument\n",
      "  _log_warning(f\"Found `{alias}` in params. Will use it instead of argument\")\n"
     ]
    },
    {
     "name": "stdout",
     "output_type": "stream",
     "text": [
      "[100]\ttrain's quantile: 19.293\tvalid's quantile: 25.7945\n",
      "[150]\ttrain's quantile: 19.3129\tvalid's quantile: 25.567\n",
      "[200]\ttrain's quantile: 18.8419\tvalid's quantile: 25.5076\n"
     ]
    },
    {
     "name": "stderr",
     "output_type": "stream",
     "text": [
      "c:\\Users\\danie\\anaconda3\\envs\\awp2\\Lib\\site-packages\\sklearn\\utils\\validation.py:1339: DataConversionWarning: A column-vector y was passed when a 1d array was expected. Please change the shape of y to (n_samples, ), for example using ravel().\n",
      "  y = column_or_1d(y, warn=True)\n",
      "c:\\Users\\danie\\anaconda3\\envs\\awp2\\Lib\\site-packages\\lightgbm\\engine.py:204: UserWarning: Found `num_iterations` in params. Will use it instead of argument\n",
      "  _log_warning(f\"Found `{alias}` in params. Will use it instead of argument\")\n",
      "c:\\Users\\danie\\anaconda3\\envs\\awp2\\Lib\\site-packages\\lightgbm\\callback.py:329: UserWarning: Early stopping is not available in dart mode\n",
      "  _log_warning(\"Early stopping is not available in dart mode\")\n",
      "c:\\Users\\danie\\anaconda3\\envs\\awp2\\Lib\\site-packages\\sklearn\\utils\\validation.py:1339: DataConversionWarning: A column-vector y was passed when a 1d array was expected. Please change the shape of y to (n_samples, ), for example using ravel().\n",
      "  y = column_or_1d(y, warn=True)\n",
      "c:\\Users\\danie\\anaconda3\\envs\\awp2\\Lib\\site-packages\\lightgbm\\engine.py:204: UserWarning: Found `num_iterations` in params. Will use it instead of argument\n",
      "  _log_warning(f\"Found `{alias}` in params. Will use it instead of argument\")\n"
     ]
    },
    {
     "name": "stdout",
     "output_type": "stream",
     "text": [
      "[50]\ttrain's quantile: 66.124\tvalid's quantile: 74.7219\n",
      "[100]\ttrain's quantile: 51.8691\tvalid's quantile: 60.9066\n"
     ]
    },
    {
     "name": "stderr",
     "output_type": "stream",
     "text": [
      "c:\\Users\\danie\\anaconda3\\envs\\awp2\\Lib\\site-packages\\lightgbm\\callback.py:329: UserWarning: Early stopping is not available in dart mode\n",
      "  _log_warning(\"Early stopping is not available in dart mode\")\n"
     ]
    },
    {
     "name": "stdout",
     "output_type": "stream",
     "text": [
      "[50]\ttrain's quantile: 58.1395\tvalid's quantile: 67.3148\n",
      "[100]\ttrain's quantile: 42.3197\tvalid's quantile: 52.1321\n"
     ]
    },
    {
     "name": "stderr",
     "output_type": "stream",
     "text": [
      "c:\\Users\\danie\\anaconda3\\envs\\awp2\\Lib\\site-packages\\sklearn\\utils\\validation.py:1339: DataConversionWarning: A column-vector y was passed when a 1d array was expected. Please change the shape of y to (n_samples, ), for example using ravel().\n",
      "  y = column_or_1d(y, warn=True)\n",
      "c:\\Users\\danie\\anaconda3\\envs\\awp2\\Lib\\site-packages\\lightgbm\\engine.py:204: UserWarning: Found `num_iterations` in params. Will use it instead of argument\n",
      "  _log_warning(f\"Found `{alias}` in params. Will use it instead of argument\")\n",
      "c:\\Users\\danie\\anaconda3\\envs\\awp2\\Lib\\site-packages\\lightgbm\\callback.py:329: UserWarning: Early stopping is not available in dart mode\n",
      "  _log_warning(\"Early stopping is not available in dart mode\")\n"
     ]
    },
    {
     "name": "stdout",
     "output_type": "stream",
     "text": [
      "[50]\ttrain's quantile: 140.944\tvalid's quantile: 150.737\n",
      "[100]\ttrain's quantile: 167.525\tvalid's quantile: 177.707\n",
      "[150]\ttrain's quantile: 188.627\tvalid's quantile: 199.261\n",
      "[200]\ttrain's quantile: 203.554\tvalid's quantile: 214.31\n",
      "[50]\ttrain's quantile: 139.17\tvalid's quantile: 148.953\n"
     ]
    },
    {
     "name": "stderr",
     "output_type": "stream",
     "text": [
      "c:\\Users\\danie\\anaconda3\\envs\\awp2\\Lib\\site-packages\\sklearn\\utils\\validation.py:1339: DataConversionWarning: A column-vector y was passed when a 1d array was expected. Please change the shape of y to (n_samples, ), for example using ravel().\n",
      "  y = column_or_1d(y, warn=True)\n",
      "c:\\Users\\danie\\anaconda3\\envs\\awp2\\Lib\\site-packages\\lightgbm\\engine.py:204: UserWarning: Found `num_iterations` in params. Will use it instead of argument\n",
      "  _log_warning(f\"Found `{alias}` in params. Will use it instead of argument\")\n",
      "c:\\Users\\danie\\anaconda3\\envs\\awp2\\Lib\\site-packages\\lightgbm\\callback.py:329: UserWarning: Early stopping is not available in dart mode\n",
      "  _log_warning(\"Early stopping is not available in dart mode\")\n"
     ]
    },
    {
     "name": "stdout",
     "output_type": "stream",
     "text": [
      "[100]\ttrain's quantile: 165.728\tvalid's quantile: 176.08\n",
      "[150]\ttrain's quantile: 186.591\tvalid's quantile: 197.311\n",
      "[200]\ttrain's quantile: 201.483\tvalid's quantile: 212.402\n",
      "Training until validation scores don't improve for 20 rounds\n",
      "[50]\ttrain's quantile: 66.4547\tvalid's quantile: 73.4368\n",
      "[100]\ttrain's quantile: 62.8031\tvalid's quantile: 69.704\n"
     ]
    },
    {
     "name": "stderr",
     "output_type": "stream",
     "text": [
      "c:\\Users\\danie\\anaconda3\\envs\\awp2\\Lib\\site-packages\\sklearn\\utils\\validation.py:1339: DataConversionWarning: A column-vector y was passed when a 1d array was expected. Please change the shape of y to (n_samples, ), for example using ravel().\n",
      "  y = column_or_1d(y, warn=True)\n",
      "c:\\Users\\danie\\anaconda3\\envs\\awp2\\Lib\\site-packages\\lightgbm\\engine.py:204: UserWarning: Found `num_iterations` in params. Will use it instead of argument\n",
      "  _log_warning(f\"Found `{alias}` in params. Will use it instead of argument\")\n"
     ]
    },
    {
     "name": "stdout",
     "output_type": "stream",
     "text": [
      "[150]\ttrain's quantile: 59.5546\tvalid's quantile: 66.3827\n",
      "[200]\ttrain's quantile: 56.4438\tvalid's quantile: 63.1948\n",
      "Training until validation scores don't improve for 20 rounds\n",
      "[50]\ttrain's quantile: 66.1626\tvalid's quantile: 72.7512\n"
     ]
    },
    {
     "name": "stderr",
     "output_type": "stream",
     "text": [
      "c:\\Users\\danie\\anaconda3\\envs\\awp2\\Lib\\site-packages\\sklearn\\utils\\validation.py:1339: DataConversionWarning: A column-vector y was passed when a 1d array was expected. Please change the shape of y to (n_samples, ), for example using ravel().\n",
      "  y = column_or_1d(y, warn=True)\n",
      "c:\\Users\\danie\\anaconda3\\envs\\awp2\\Lib\\site-packages\\lightgbm\\engine.py:204: UserWarning: Found `num_iterations` in params. Will use it instead of argument\n",
      "  _log_warning(f\"Found `{alias}` in params. Will use it instead of argument\")\n"
     ]
    },
    {
     "name": "stdout",
     "output_type": "stream",
     "text": [
      "[100]\ttrain's quantile: 62.0137\tvalid's quantile: 68.649\n",
      "[150]\ttrain's quantile: 58.3737\tvalid's quantile: 64.9478\n",
      "[200]\ttrain's quantile: 55.0852\tvalid's quantile: 61.6395\n"
     ]
    },
    {
     "name": "stderr",
     "output_type": "stream",
     "text": [
      "c:\\Users\\danie\\anaconda3\\envs\\awp2\\Lib\\site-packages\\sklearn\\utils\\validation.py:1339: DataConversionWarning: A column-vector y was passed when a 1d array was expected. Please change the shape of y to (n_samples, ), for example using ravel().\n",
      "  y = column_or_1d(y, warn=True)\n",
      "c:\\Users\\danie\\anaconda3\\envs\\awp2\\Lib\\site-packages\\lightgbm\\engine.py:204: UserWarning: Found `num_iterations` in params. Will use it instead of argument\n",
      "  _log_warning(f\"Found `{alias}` in params. Will use it instead of argument\")\n"
     ]
    },
    {
     "name": "stdout",
     "output_type": "stream",
     "text": [
      "Training until validation scores don't improve for 20 rounds\n",
      "[50]\ttrain's quantile: 23.118\tvalid's quantile: 28.1193\n",
      "[100]\ttrain's quantile: 16.7779\tvalid's quantile: 23.0617\n",
      "[150]\ttrain's quantile: 15.3398\tvalid's quantile: 22.8066\n",
      "[200]\ttrain's quantile: 14.7363\tvalid's quantile: 22.9565\n",
      "Saved Quantile Regressor model for quantile 0.8 to lgbm_model_wind\\lgbm_model_quantile_0.8.pkl\n"
     ]
    },
    {
     "name": "stderr",
     "output_type": "stream",
     "text": [
      "c:\\Users\\danie\\anaconda3\\envs\\awp2\\Lib\\site-packages\\sklearn\\utils\\validation.py:1339: DataConversionWarning: A column-vector y was passed when a 1d array was expected. Please change the shape of y to (n_samples, ), for example using ravel().\n",
      "  y = column_or_1d(y, warn=True)\n",
      "c:\\Users\\danie\\anaconda3\\envs\\awp2\\Lib\\site-packages\\lightgbm\\engine.py:204: UserWarning: Found `num_iterations` in params. Will use it instead of argument\n",
      "  _log_warning(f\"Found `{alias}` in params. Will use it instead of argument\")\n",
      "c:\\Users\\danie\\anaconda3\\envs\\awp2\\Lib\\site-packages\\sklearn\\utils\\validation.py:1339: DataConversionWarning: A column-vector y was passed when a 1d array was expected. Please change the shape of y to (n_samples, ), for example using ravel().\n",
      "  y = column_or_1d(y, warn=True)\n",
      "c:\\Users\\danie\\anaconda3\\envs\\awp2\\Lib\\site-packages\\lightgbm\\engine.py:204: UserWarning: Found `num_iterations` in params. Will use it instead of argument\n",
      "  _log_warning(f\"Found `{alias}` in params. Will use it instead of argument\")\n"
     ]
    },
    {
     "name": "stdout",
     "output_type": "stream",
     "text": [
      "Training until validation scores don't improve for 20 rounds\n",
      "[50]\ttrain's quantile: 42.3187\tvalid's quantile: 47.1185\n",
      "[100]\ttrain's quantile: 37.9469\tvalid's quantile: 42.417\n",
      "Did not meet early stopping. Best iteration is:\n",
      "[100]\ttrain's quantile: 37.9469\tvalid's quantile: 42.417\n",
      "Training until validation scores don't improve for 20 rounds\n",
      "[50]\ttrain's quantile: 40.8703\tvalid's quantile: 44.3321\n",
      "[100]\ttrain's quantile: 36.147\tvalid's quantile: 39.5022\n",
      "Did not meet early stopping. Best iteration is:\n",
      "[100]\ttrain's quantile: 36.147\tvalid's quantile: 39.5022\n"
     ]
    },
    {
     "name": "stderr",
     "output_type": "stream",
     "text": [
      "c:\\Users\\danie\\anaconda3\\envs\\awp2\\Lib\\site-packages\\sklearn\\utils\\validation.py:1339: DataConversionWarning: A column-vector y was passed when a 1d array was expected. Please change the shape of y to (n_samples, ), for example using ravel().\n",
      "  y = column_or_1d(y, warn=True)\n",
      "c:\\Users\\danie\\anaconda3\\envs\\awp2\\Lib\\site-packages\\lightgbm\\engine.py:204: UserWarning: Found `num_iterations` in params. Will use it instead of argument\n",
      "  _log_warning(f\"Found `{alias}` in params. Will use it instead of argument\")\n",
      "c:\\Users\\danie\\anaconda3\\envs\\awp2\\Lib\\site-packages\\sklearn\\utils\\validation.py:1339: DataConversionWarning: A column-vector y was passed when a 1d array was expected. Please change the shape of y to (n_samples, ), for example using ravel().\n",
      "  y = column_or_1d(y, warn=True)\n",
      "c:\\Users\\danie\\anaconda3\\envs\\awp2\\Lib\\site-packages\\lightgbm\\engine.py:204: UserWarning: Found `num_iterations` in params. Will use it instead of argument\n",
      "  _log_warning(f\"Found `{alias}` in params. Will use it instead of argument\")\n"
     ]
    },
    {
     "name": "stdout",
     "output_type": "stream",
     "text": [
      "Training until validation scores don't improve for 20 rounds\n",
      "[50]\ttrain's quantile: 30.0783\tvalid's quantile: 32.89\n",
      "[100]\ttrain's quantile: 23.1078\tvalid's quantile: 25.6383\n",
      "[150]\ttrain's quantile: 17.9082\tvalid's quantile: 20.9854\n",
      "[200]\ttrain's quantile: 15.4093\tvalid's quantile: 18.7941\n",
      "Did not meet early stopping. Best iteration is:\n",
      "[200]\ttrain's quantile: 15.4093\tvalid's quantile: 18.7941\n",
      "Training until validation scores don't improve for 20 rounds\n",
      "[50]\ttrain's quantile: 28.577\tvalid's quantile: 31.1872\n",
      "[100]\ttrain's quantile: 20.1949\tvalid's quantile: 23.0637\n",
      "[150]\ttrain's quantile: 15.1236\tvalid's quantile: 19.1866\n",
      "[200]\ttrain's quantile: 12.9972\tvalid's quantile: 17.792\n",
      "Did not meet early stopping. Best iteration is:\n",
      "[200]\ttrain's quantile: 12.9972\tvalid's quantile: 17.792\n"
     ]
    },
    {
     "name": "stderr",
     "output_type": "stream",
     "text": [
      "c:\\Users\\danie\\anaconda3\\envs\\awp2\\Lib\\site-packages\\sklearn\\utils\\validation.py:1339: DataConversionWarning: A column-vector y was passed when a 1d array was expected. Please change the shape of y to (n_samples, ), for example using ravel().\n",
      "  y = column_or_1d(y, warn=True)\n",
      "c:\\Users\\danie\\anaconda3\\envs\\awp2\\Lib\\site-packages\\lightgbm\\engine.py:204: UserWarning: Found `num_iterations` in params. Will use it instead of argument\n",
      "  _log_warning(f\"Found `{alias}` in params. Will use it instead of argument\")\n",
      "c:\\Users\\danie\\anaconda3\\envs\\awp2\\Lib\\site-packages\\lightgbm\\callback.py:329: UserWarning: Early stopping is not available in dart mode\n",
      "  _log_warning(\"Early stopping is not available in dart mode\")\n"
     ]
    },
    {
     "name": "stdout",
     "output_type": "stream",
     "text": [
      "[50]\ttrain's quantile: 70.2462\tvalid's quantile: 69.3991\n",
      "[100]\ttrain's quantile: 75.5475\tvalid's quantile: 74.9378\n",
      "[150]\ttrain's quantile: 77.5057\tvalid's quantile: 77.0941\n",
      "[200]\ttrain's quantile: 77.7605\tvalid's quantile: 77.2513\n",
      "[50]\ttrain's quantile: 61.0141\tvalid's quantile: 68.919\n"
     ]
    },
    {
     "name": "stderr",
     "output_type": "stream",
     "text": [
      "c:\\Users\\danie\\anaconda3\\envs\\awp2\\Lib\\site-packages\\sklearn\\utils\\validation.py:1339: DataConversionWarning: A column-vector y was passed when a 1d array was expected. Please change the shape of y to (n_samples, ), for example using ravel().\n",
      "  y = column_or_1d(y, warn=True)\n",
      "c:\\Users\\danie\\anaconda3\\envs\\awp2\\Lib\\site-packages\\lightgbm\\engine.py:204: UserWarning: Found `num_iterations` in params. Will use it instead of argument\n",
      "  _log_warning(f\"Found `{alias}` in params. Will use it instead of argument\")\n",
      "c:\\Users\\danie\\anaconda3\\envs\\awp2\\Lib\\site-packages\\lightgbm\\callback.py:329: UserWarning: Early stopping is not available in dart mode\n",
      "  _log_warning(\"Early stopping is not available in dart mode\")\n"
     ]
    },
    {
     "name": "stdout",
     "output_type": "stream",
     "text": [
      "[100]\ttrain's quantile: 45.7099\tvalid's quantile: 53.5568\n",
      "[150]\ttrain's quantile: 43.1922\tvalid's quantile: 51.1238\n",
      "[200]\ttrain's quantile: 46.0224\tvalid's quantile: 54.4502\n",
      "Training until validation scores don't improve for 20 rounds\n",
      "[50]\ttrain's quantile: 46.8734\tvalid's quantile: 51.9197\n",
      "[100]\ttrain's quantile: 45.4638\tvalid's quantile: 50.4222\n",
      "[150]\ttrain's quantile: 44.1787\tvalid's quantile: 49.0957\n",
      "[200]\ttrain's quantile: 43.0161\tvalid's quantile: 47.9063\n"
     ]
    },
    {
     "name": "stderr",
     "output_type": "stream",
     "text": [
      "c:\\Users\\danie\\anaconda3\\envs\\awp2\\Lib\\site-packages\\sklearn\\utils\\validation.py:1339: DataConversionWarning: A column-vector y was passed when a 1d array was expected. Please change the shape of y to (n_samples, ), for example using ravel().\n",
      "  y = column_or_1d(y, warn=True)\n",
      "c:\\Users\\danie\\anaconda3\\envs\\awp2\\Lib\\site-packages\\lightgbm\\engine.py:204: UserWarning: Found `num_iterations` in params. Will use it instead of argument\n",
      "  _log_warning(f\"Found `{alias}` in params. Will use it instead of argument\")\n",
      "c:\\Users\\danie\\anaconda3\\envs\\awp2\\Lib\\site-packages\\sklearn\\utils\\validation.py:1339: DataConversionWarning: A column-vector y was passed when a 1d array was expected. Please change the shape of y to (n_samples, ), for example using ravel().\n",
      "  y = column_or_1d(y, warn=True)\n",
      "c:\\Users\\danie\\anaconda3\\envs\\awp2\\Lib\\site-packages\\lightgbm\\engine.py:204: UserWarning: Found `num_iterations` in params. Will use it instead of argument\n",
      "  _log_warning(f\"Found `{alias}` in params. Will use it instead of argument\")\n"
     ]
    },
    {
     "name": "stdout",
     "output_type": "stream",
     "text": [
      "Training until validation scores don't improve for 20 rounds\n",
      "[50]\ttrain's quantile: 45.8718\tvalid's quantile: 49.8278\n",
      "[100]\ttrain's quantile: 44.3378\tvalid's quantile: 48.1399\n",
      "[150]\ttrain's quantile: 42.9218\tvalid's quantile: 46.5692\n",
      "[200]\ttrain's quantile: 41.602\tvalid's quantile: 45.098\n"
     ]
    },
    {
     "name": "stderr",
     "output_type": "stream",
     "text": [
      "c:\\Users\\danie\\anaconda3\\envs\\awp2\\Lib\\site-packages\\sklearn\\utils\\validation.py:1339: DataConversionWarning: A column-vector y was passed when a 1d array was expected. Please change the shape of y to (n_samples, ), for example using ravel().\n",
      "  y = column_or_1d(y, warn=True)\n",
      "c:\\Users\\danie\\anaconda3\\envs\\awp2\\Lib\\site-packages\\lightgbm\\engine.py:204: UserWarning: Found `num_iterations` in params. Will use it instead of argument\n",
      "  _log_warning(f\"Found `{alias}` in params. Will use it instead of argument\")\n"
     ]
    },
    {
     "name": "stdout",
     "output_type": "stream",
     "text": [
      "Training until validation scores don't improve for 20 rounds\n",
      "[50]\ttrain's quantile: 30.0335\tvalid's quantile: 33.2473\n",
      "[100]\ttrain's quantile: 23.7634\tvalid's quantile: 26.9504\n",
      "[150]\ttrain's quantile: 18.2179\tvalid's quantile: 21.7956\n",
      "[200]\ttrain's quantile: 15.5065\tvalid's quantile: 19.4312\n",
      "[250]\ttrain's quantile: 14.3038\tvalid's quantile: 18.465\n",
      "[300]\ttrain's quantile: 13.861\tvalid's quantile: 18.2076\n",
      "[350]\ttrain's quantile: 13.573\tvalid's quantile: 18.1468\n",
      "[400]\ttrain's quantile: 13.4263\tvalid's quantile: 18.2822\n",
      "[450]\ttrain's quantile: 13.3312\tvalid's quantile: 18.3495\n",
      "[500]\ttrain's quantile: 13.3065\tvalid's quantile: 18.4699\n"
     ]
    },
    {
     "name": "stderr",
     "output_type": "stream",
     "text": [
      "c:\\Users\\danie\\anaconda3\\envs\\awp2\\Lib\\site-packages\\sklearn\\utils\\validation.py:1339: DataConversionWarning: A column-vector y was passed when a 1d array was expected. Please change the shape of y to (n_samples, ), for example using ravel().\n",
      "  y = column_or_1d(y, warn=True)\n",
      "c:\\Users\\danie\\anaconda3\\envs\\awp2\\Lib\\site-packages\\lightgbm\\engine.py:204: UserWarning: Found `num_iterations` in params. Will use it instead of argument\n",
      "  _log_warning(f\"Found `{alias}` in params. Will use it instead of argument\")\n"
     ]
    },
    {
     "name": "stdout",
     "output_type": "stream",
     "text": [
      "Training until validation scores don't improve for 20 rounds\n",
      "[50]\ttrain's quantile: 28.462\tvalid's quantile: 30.9768\n",
      "[100]\ttrain's quantile: 21.0607\tvalid's quantile: 24.2684\n",
      "[150]\ttrain's quantile: 16.3679\tvalid's quantile: 20.8523\n",
      "[200]\ttrain's quantile: 14.1039\tvalid's quantile: 19.1086\n",
      "[250]\ttrain's quantile: 13.1434\tvalid's quantile: 18.439\n",
      "[300]\ttrain's quantile: 13.5283\tvalid's quantile: 18.379\n",
      "[350]\ttrain's quantile: 14.4831\tvalid's quantile: 18.7393\n",
      "[400]\ttrain's quantile: 14.4518\tvalid's quantile: 18.8421\n",
      "[450]\ttrain's quantile: 14.3632\tvalid's quantile: 18.8399\n",
      "[500]\ttrain's quantile: 14.3301\tvalid's quantile: 18.934\n",
      "Training until validation scores don't improve for 20 rounds\n",
      "[50]\ttrain's quantile: 28.8859\tvalid's quantile: 30.9439\n"
     ]
    },
    {
     "name": "stderr",
     "output_type": "stream",
     "text": [
      "c:\\Users\\danie\\anaconda3\\envs\\awp2\\Lib\\site-packages\\sklearn\\utils\\validation.py:1339: DataConversionWarning: A column-vector y was passed when a 1d array was expected. Please change the shape of y to (n_samples, ), for example using ravel().\n",
      "  y = column_or_1d(y, warn=True)\n",
      "c:\\Users\\danie\\anaconda3\\envs\\awp2\\Lib\\site-packages\\lightgbm\\engine.py:204: UserWarning: Found `num_iterations` in params. Will use it instead of argument\n",
      "  _log_warning(f\"Found `{alias}` in params. Will use it instead of argument\")\n"
     ]
    },
    {
     "name": "stdout",
     "output_type": "stream",
     "text": [
      "[100]\ttrain's quantile: 23.2514\tvalid's quantile: 25.3452\n",
      "[150]\ttrain's quantile: 16.5735\tvalid's quantile: 19.3762\n",
      "[200]\ttrain's quantile: 13.0872\tvalid's quantile: 16.5292\n",
      "[250]\ttrain's quantile: 11.4826\tvalid's quantile: 15.3766\n",
      "[300]\ttrain's quantile: 10.7351\tvalid's quantile: 15.0626\n",
      "[350]\ttrain's quantile: 10.3219\tvalid's quantile: 14.9764\n",
      "[400]\ttrain's quantile: 10.0942\tvalid's quantile: 14.9916\n",
      "[450]\ttrain's quantile: 9.88054\tvalid's quantile: 14.9878\n",
      "[500]\ttrain's quantile: 9.72276\tvalid's quantile: 15.0306\n",
      "Saved Quantile Regressor model for quantile 0.9 to lgbm_model_wind\\lgbm_model_quantile_0.9.pkl\n"
     ]
    }
   ],
   "source": [
    "from model_utils import *\n",
    "from sklearn.model_selection import RandomizedSearchCV, GridSearchCV\n",
    "from random import randint\n",
    "from sklearn.model_selection import TimeSeriesSplit\n",
    "import numpy as np\n",
    "from sklearn.metrics import make_scorer, mean_pinball_loss\n",
    "quantiles = np.arange(0.1, 1.0, 0.1).round(2)\n",
    "model_save_dir_qr = \"lgbm_model_wind\"\n",
    "\n",
    "\n",
    "\n",
    "# Define pinball loss function\n",
    "def pinball_loss(y_true, y_pred, quantile=0.9):\n",
    "    delta = y_true - y_pred\n",
    "    loss = np.where(delta > 0, quantile * delta, (1 - quantile) * - delta)\n",
    "    return np.mean(loss)\n",
    "\n",
    "# Create a custom scorer for quantile regression (e.g., 90th percentile)\n",
    "quantile = 0.9\n",
    "scorer = make_scorer(pinball_loss, greater_is_better=False, quantile=quantile)\n",
    "\n",
    "class LG(model_utils.LGBMRegressorModel):\n",
    "    def __init__(self, feature_engineerer, quantiles, model_save_dir, load_pretrained):\n",
    "        super().__init__(feature_engineerer, quantiles, model_save_dir, load_pretrained)\n",
    "        self.best_params = dict()\n",
    "\n",
    "    def train_and_predict(self):\n",
    "        \"\"\"Train the LGBMRegressor models or use the pretrained ones.\"\"\"\n",
    "        for quantile in self.quantiles:\n",
    "            if not self.load_pretrained or quantile not in self.models:\n",
    "\n",
    "                # Create a custom scorer for quantile regression (e.g., 90th percentile)\n",
    "                quantile_now = quantile\n",
    "                scorer = make_scorer(pinball_loss, quantile=quantile_now)\n",
    "                \n",
    "\n",
    "                params = {\n",
    "                    \"alpha\":[quantile],\n",
    "                    'boosting': [\"gbdt\", \"dart\"],\n",
    "                    \"force_col_wise\": [True],\n",
    "                    \"num_iterations\": [100, 200, 500],\n",
    "                    \"num_leaves\": np.linspace(20, 100, 10, dtype = int).tolist(),\n",
    "                    \"max_depth\": np.linspace(5, 15, 6, dtype = int).tolist(),\n",
    "                    'learning_rate': np.logspace(-3, -1, 10).round(4).tolist(),\n",
    "                    \"n_estimators\": [500, 1000, 1500],\n",
    "                    #\"subsample_for_bin\": [],\n",
    "                    'objective': ['quantile'],\n",
    "                    #\"min_split_gain\": [],\n",
    "                    #\"min_sum_hessian_in_leaf:[] #for overfitting\"\n",
    "                    #\"min_child_weight\": [45],\n",
    "                    # \"min_child_samples\":[20],\n",
    "                    \"min_data_in_leaf\":np.linspace(50, 500, 20, dtype = int).tolist(),\n",
    "                    #\"tree_trainer\":[\"serial\", \"feature\", \"data\", \"voting\"],\n",
    "                    # \"feature_fraction_bynode\": [1.0, 0.8, 0.5],\n",
    "                    # \"feature_fraction\":[0.5, 0.8, 1.0],\n",
    "                    # \"bagging_fraction\":[0.5, 0.8, 1.0],\n",
    "                    #\"subsample\": [],\n",
    "                    #\"subsample_freq\": [],\n",
    "                    # \"colsample_bytree\": [0.3, 0.5, 1],\n",
    "                    # \"reg_alpha\": np.logspace(-3, -1, 10).tolist(),\n",
    "                    # \"reg_lambda\": np.logspace(-2, -1, 10).tolist(),\n",
    "                    \"random_state\": [42],\n",
    "                    \"verbose\":[-1],\n",
    "                    #\"device_type\":[\"cuda\"],\n",
    "                    \"extra_trees\":[False],\n",
    "                    # \"path_smooth\":[0.0, 0.2]\n",
    "                    #\"importance_type\":[]\n",
    "                }\n",
    "                # Train a new model for this quantile\n",
    "                # qr_lgbm1 = lgb.LGBMRegressor(objective='quantile', alpha=quantile, n_estimators=1000, force_col_wise=True, params = params)\n",
    "                qr_lgbm1 = lgb.LGBMRegressor()\n",
    "                cv = TimeSeriesSplit(2)\n",
    "                qr_lgbm = RandomizedSearchCV(qr_lgbm1, param_distributions = params, cv = cv, n_iter = 5, \n",
    "                                             #scoring = scorer\n",
    "                                             )\n",
    "                qr_lgbm.fit(\n",
    "                    self.feature_engineerer.X_train, \n",
    "                    self.feature_engineerer.y_train,\n",
    "                    eval_set=[(self.feature_engineerer.X_train, self.feature_engineerer.y_train), \n",
    "                              (self.feature_engineerer.X_val, self.feature_engineerer.y_val)],\n",
    "                    eval_names=['train', 'valid'],\n",
    "                    eval_metric='quantile',\n",
    "                    callbacks=[early_stopping(stopping_rounds=20), log_evaluation(50)]\n",
    "                )\n",
    "\n",
    "                # Save the model\n",
    "                model_filename = os.path.join(self.model_save_dir, f\"lgbm_model_quantile_{quantile}.pkl\")\n",
    "                self.best_params[quantile] = qr_lgbm.best_estimator_\n",
    "                joblib.dump(qr_lgbm.best_estimator_, model_filename)\n",
    "                print(f\"Saved Quantile Regressor model for quantile {quantile} to {model_filename}\")\n",
    "\n",
    "                # Store the model for prediction\n",
    "                self.models[quantile] = qr_lgbm.best_estimator_\n",
    "            else:\n",
    "                print(f\"Using the loaded pretrained Quantile Regressor model for quantile {quantile}\")\n",
    "\n",
    "            # Predict and store the results\n",
    "            self.q_predictions[str(quantile)] = self.models[quantile].predict(self.feature_engineerer.X_test)\n",
    "\n",
    "        #sort results\n",
    "        self.q_predictions = self.sort_quantiles(self.q_predictions, self.quantiles)\n",
    "        self.q_predictions = self.replace_neg_values(self.q_predictions, self.quantiles)\n",
    "\n",
    "        # **Set models_loaded to True after training so predict can be called immediately**\n",
    "        self.models_loaded = True\n",
    "\n",
    "\n",
    "lg2 = LG(feature_engineerer_all, quantiles, model_save_dir = model_save_dir_qr, load_pretrained = False)\n",
    "lg2.train_and_predict()"
   ]
  },
  {
   "cell_type": "code",
   "execution_count": 16,
   "metadata": {},
   "outputs": [],
   "source": [
    "merged_all[\"energy\"] = merged_all[\"Solar_MWh_credit\"] + merged_all[\"Wind_MWh_credit\"]\n",
    "merged_all.drop([\"Solar_MWh_credit\", \"Wind_MWh_credit\"], axis = 1, inplace = True)"
   ]
  },
  {
   "cell_type": "code",
   "execution_count": 2,
   "metadata": {},
   "outputs": [],
   "source": [
    "feature_engineerer_wind.train_val_test_split_by_year(merged_hornsea)"
   ]
  },
  {
   "cell_type": "code",
   "execution_count": null,
   "metadata": {},
   "outputs": [],
   "source": [
    "lgbm_model_wind.pinball_score()"
   ]
  },
  {
   "cell_type": "code",
   "execution_count": null,
   "metadata": {},
   "outputs": [],
   "source": [
    "importlib.reload(model_utils)\n",
    "import numpy as np\n",
    "quantiles = np.arange(0.1, 1.0, 0.1).round(2)\n",
    "\n",
    "# Specify model save directory\n",
    "model_save_dir_qr = \"lgbm_model_wind\"\n",
    "\n",
    "lgbm_model_wind = model_utils.LGBMRegressorModel(feature_engineerer_wind, quantiles, model_save_dir=model_save_dir_qr, load_pretrained=False)\n",
    "lgbm_model_wind.train_and_predict()  # This will skip training for already loaded models\n",
    "print(f\"Quantile Regressor Pinball Score: {lgbm_model_wind.pinball_score()}\")"
   ]
  },
  {
   "cell_type": "code",
   "execution_count": null,
   "metadata": {},
   "outputs": [],
   "source": [
    "lgbm_model_wind.pinball_score()"
   ]
  },
  {
   "cell_type": "code",
   "execution_count": null,
   "metadata": {},
   "outputs": [],
   "source": [
    "importlib.reload(model_utils)\n",
    "import numpy as np\n",
    "quantiles = np.arange(0.1, 1.0, 0.1).round(2)\n",
    "\n",
    "# Specify model save directory\n",
    "model_save_dir_qr = \"lgbm_model_wind\"\n",
    "\n",
    "lgbm_model_wind = model_utils.LGBMRegressorModel(feature_engineerer_wind, quantiles, model_save_dir=model_save_dir_qr, load_pretrained=False)\n",
    "lgbm_model_wind.train_and_predict()  # This will skip training for already loaded models\n",
    "print(f\"Quantile Regressor Pinball Score: {lgbm_model_wind.pinball_score()}\")"
   ]
  },
  {
   "cell_type": "code",
   "execution_count": null,
   "metadata": {},
   "outputs": [],
   "source": [
    "lgbm_model_solar.pinball_score()"
   ]
  },
  {
   "cell_type": "code",
   "execution_count": null,
   "metadata": {},
   "outputs": [],
   "source": [
    "importlib.reload(model_utils)\n",
    "import numpy as np\n",
    "quantiles = np.arange(0.1, 1.0, 0.1).round(2)\n",
    "\n",
    "# Specify model save directory\n",
    "model_save_dir_qr = \"lgbm_model_solar\"\n",
    "\n",
    "lgbm_model_solar = model_utils.LGBMRegressorModel(feature_engineerer_solar, quantiles, model_save_dir=model_save_dir_qr, load_pretrained=False)\n",
    "lgbm_model_solar.train_and_predict()  # This will skip training for already loaded models\n",
    "print(f\"Quantile Regressor Pinball Score: {lgbm_model_solar.pinball_score()}\")"
   ]
  },
  {
   "cell_type": "code",
   "execution_count": null,
   "metadata": {},
   "outputs": [],
   "source": [
    "importlib.reload(model_utils)\n",
    "import numpy as np\n",
    "quantiles = np.arange(0.1, 1.0, 0.1).round(2)\n",
    "\n",
    "# Specify model save directory\n",
    "model_save_dir_qr = \"lgbm_model_wind\"\n",
    "\n",
    "lgbm_model_wind = model_utils.LGBMRegressorModel(feature_engineerer_wind, quantiles, model_save_dir=model_save_dir_qr, load_pretrained=False)\n",
    "lgbm_model_wind.train_and_predict()  # This will skip training for already loaded models\n",
    "print(f\"Quantile Regressor Pinball Score: {lgbm_model_wind.pinball_score()}\")"
   ]
  },
  {
   "cell_type": "code",
   "execution_count": null,
   "metadata": {},
   "outputs": [],
   "source": [
    "lgbm_model_wind.models"
   ]
  },
  {
   "cell_type": "code",
   "execution_count": null,
   "metadata": {},
   "outputs": [],
   "source": [
    "lgbm_model_wind.q_predictions"
   ]
  },
  {
   "cell_type": "code",
   "execution_count": null,
   "metadata": {},
   "outputs": [],
   "source": [
    "lg2.pinball_score()"
   ]
  },
  {
   "cell_type": "code",
   "execution_count": null,
   "metadata": {},
   "outputs": [],
   "source": [
    "lg2.best_params"
   ]
  },
  {
   "cell_type": "code",
   "execution_count": 1,
   "metadata": {},
   "outputs": [],
   "source": [
    "import importlib\n",
    "import Preprocessing\n",
    "importlib.reload(Preprocessing)\n",
    "import model_utils\n",
    "import pandas as pd\n",
    "\n",
    "merged_hornsea = pd.read_parquet(\"preprocessed_hornsea_with_energy.parquet\")\n",
    "merged_pes = pd.read_parquet(\"preprocessed_pes_with_energy.parquet\")\n",
    "\n",
    "feature_engineerer_wind = Preprocessing.FeatureEngineerer(label = 'Wind_MWh_credit', columns_to_ohe = ['unavailabilityType', 'affectedUnit'])\n",
    "feature_engineerer_wind.perform_feature_engineering(merged_hornsea.drop([\"rel_hum\", \"rel_hum_diff\"], axis = 1), deployment = False)\n",
    "\n",
    "feature_engineerer_solar = Preprocessing.FeatureEngineerer(label = \"Solar_MWh_credit\")\n",
    "feature_engineerer_solar.perform_feature_engineering(merged_pes, deployment = False)\n",
    "\n",
    "merged_pes_simple = merged_pes[['solar_down_rad', 'Solar_MWh_credit', 'Wind_MWh_credit']]\n",
    "feature_engineerer_solar_baseline = Preprocessing.FeatureEngineerer(label = 'Solar_MWh_credit')\n",
    "feature_engineerer_solar_baseline.perform_feature_engineering(merged_pes_simple, deployment = False)\n",
    "\n",
    "merged_hornsea_simple = merged_hornsea[['wind_speed_100', 'Solar_MWh_credit', 'Wind_MWh_credit']]\n",
    "feature_engineerer_wind_baseline = Preprocessing.FeatureEngineerer(label = 'Wind_MWh_credit')\n",
    "feature_engineerer_wind_baseline.perform_feature_engineering(merged_hornsea_simple, deployment = False)"
   ]
  },
  {
   "cell_type": "code",
   "execution_count": null,
   "metadata": {},
   "outputs": [],
   "source": [
    "from model_utils import *\n",
    "from sklearn.model_selection import RandomizedSearchCV, GridSearchCV\n",
    "from random import randint\n",
    "from sklearn.model_selection import TimeSeriesSplit\n",
    "import numpy as np\n",
    "from sklearn.metrics import make_scorer, mean_pinball_loss\n",
    "quantiles = np.arange(0.1, 1.0, 0.1).round(2)\n",
    "model_save_dir_qr = \"lgbm_model_wind\"\n",
    "\n",
    "\n",
    "\n",
    "# Define pinball loss function\n",
    "def pinball_loss(y_true, y_pred, quantile=0.9):\n",
    "    delta = y_true - y_pred\n",
    "    loss = np.where(delta > 0, quantile * delta, (1 - quantile) * - delta)\n",
    "    return np.mean(loss)\n",
    "\n",
    "# Create a custom scorer for quantile regression (e.g., 90th percentile)\n",
    "quantile = 0.9\n",
    "scorer = make_scorer(pinball_loss, greater_is_better=False, quantile=quantile)\n",
    "\n",
    "class LG(model_utils.LGBMRegressorModel):\n",
    "    def __init__(self, feature_engineerer, quantiles, model_save_dir, load_pretrained):\n",
    "        super().__init__(feature_engineerer, quantiles, model_save_dir, load_pretrained)\n",
    "        self.best_params = dict()\n",
    "\n",
    "    def train_and_predict(self):\n",
    "        \"\"\"Train the LGBMRegressor models or use the pretrained ones.\"\"\"\n",
    "        for quantile in self.quantiles:\n",
    "            if not self.load_pretrained or quantile not in self.models:\n",
    "\n",
    "                # Create a custom scorer for quantile regression (e.g., 90th percentile)\n",
    "                quantile_now = quantile\n",
    "                scorer = make_scorer(pinball_loss, quantile=quantile_now)\n",
    "                \n",
    "\n",
    "                params = {\n",
    "                    \"alpha\":[quantile],\n",
    "                    'boosting': [\"gbdt\", \"dart\"],\n",
    "                    \"force_col_wise\": [True],\n",
    "                    \"num_iterations\": [100, 200, 500],\n",
    "                    \"num_leaves\": np.linspace(20, 100, 10, dtype = int).tolist(),\n",
    "                    \"max_depth\": np.linspace(5, 15, 6, dtype = int).tolist(),\n",
    "                    'learning_rate': np.logspace(-3, -1, 10).round(4).tolist(),\n",
    "                    \"n_estimators\": [500, 1000, 1500],\n",
    "                    #\"subsample_for_bin\": [],\n",
    "                    'objective': ['quantile'],\n",
    "                    #\"min_split_gain\": [],\n",
    "                    #\"min_sum_hessian_in_leaf:[] #for overfitting\"\n",
    "                    #\"min_child_weight\": [45],\n",
    "                    # \"min_child_samples\":[20],\n",
    "                    \"min_data_in_leaf\":np.linspace(50, 500, 20, dtype = int).tolist(),\n",
    "                    #\"tree_trainer\":[\"serial\", \"feature\", \"data\", \"voting\"],\n",
    "                    # \"feature_fraction_bynode\": [1.0, 0.8, 0.5],\n",
    "                    # \"feature_fraction\":[0.5, 0.8, 1.0],\n",
    "                    # \"bagging_fraction\":[0.5, 0.8, 1.0],\n",
    "                    #\"subsample\": [],\n",
    "                    #\"subsample_freq\": [],\n",
    "                    # \"colsample_bytree\": [0.3, 0.5, 1],\n",
    "                    # \"reg_alpha\": np.logspace(-3, -1, 10).tolist(),\n",
    "                    # \"reg_lambda\": np.logspace(-2, -1, 10).tolist(),\n",
    "                    \"random_state\": [42],\n",
    "                    \"verbose\":[-1],\n",
    "                    #\"device_type\":[\"cuda\"],\n",
    "                    \"extra_trees\":[False],\n",
    "                    # \"path_smooth\":[0.0, 0.2]\n",
    "                    #\"importance_type\":[]\n",
    "                }\n",
    "                # Train a new model for this quantile\n",
    "                # qr_lgbm1 = lgb.LGBMRegressor(objective='quantile', alpha=quantile, n_estimators=1000, force_col_wise=True, params = params)\n",
    "                qr_lgbm1 = lgb.LGBMRegressor()\n",
    "                cv = TimeSeriesSplit(2)\n",
    "                qr_lgbm = RandomizedSearchCV(qr_lgbm1, param_distributions = params, cv = cv, n_iter = 10, \n",
    "                                             #scoring = scorer\n",
    "                                             )\n",
    "                qr_lgbm.fit(\n",
    "                    self.feature_engineerer.X_train, \n",
    "                    self.feature_engineerer.y_train,\n",
    "                    eval_set=[(self.feature_engineerer.X_train, self.feature_engineerer.y_train), \n",
    "                              (self.feature_engineerer.X_val, self.feature_engineerer.y_val)],\n",
    "                    eval_names=['train', 'valid'],\n",
    "                    eval_metric='quantile',\n",
    "                    callbacks=[early_stopping(stopping_rounds=20), log_evaluation(50)]\n",
    "                )\n",
    "\n",
    "                # Save the model\n",
    "                model_filename = os.path.join(self.model_save_dir, f\"lgbm_model_quantile_{quantile}.pkl\")\n",
    "                self.best_params[quantile] = qr_lgbm.best_estimator_\n",
    "                joblib.dump(qr_lgbm.best_estimator_, model_filename)\n",
    "                print(f\"Saved Quantile Regressor model for quantile {quantile} to {model_filename}\")\n",
    "\n",
    "                # Store the model for prediction\n",
    "                self.models[quantile] = qr_lgbm.best_estimator_\n",
    "            else:\n",
    "                print(f\"Using the loaded pretrained Quantile Regressor model for quantile {quantile}\")\n",
    "\n",
    "            # Predict and store the results\n",
    "            self.q_predictions[str(quantile)] = self.models[quantile].predict(self.feature_engineerer.X_test)\n",
    "\n",
    "        #sort results\n",
    "        self.q_predictions = self.sort_quantiles(self.q_predictions, self.quantiles)\n",
    "        self.q_predictions = self.replace_neg_values(self.q_predictions, self.quantiles)\n",
    "\n",
    "        # **Set models_loaded to True after training so predict can be called immediately**\n",
    "        self.models_loaded = True\n",
    "\n",
    "\n",
    "lg2 = LG(feature_engineerer_wind, quantiles, model_save_dir = model_save_dir_qr, load_pretrained = False)\n",
    "lg2.train_and_predict()"
   ]
  },
  {
   "cell_type": "code",
   "execution_count": null,
   "metadata": {},
   "outputs": [],
   "source": [
    "def train_and_predict(self):\n",
    "        \"\"\"Train the LGBMRegressor models or use the pretrained ones.\"\"\"\n",
    "        for quantile in self.quantiles:\n",
    "            if not self.load_pretrained or quantile not in self.models:\n",
    "                # Train a new model for this quantile\n",
    "                qr_lgbm = lgb.LGBMRegressor(objective='quantile', alpha=quantile, n_estimators=1000, force_col_wise=True)\n",
    "                qr_lgbm.fit(\n",
    "                    self.feature_engineerer.X_train, \n",
    "                    self.feature_engineerer.y_train,\n",
    "                    eval_set=[(self.feature_engineerer.X_train, self.feature_engineerer.y_train), \n",
    "                              (self.feature_engineerer.X_val, self.feature_engineerer.y_val)],\n",
    "                    eval_names=['train', 'valid'],\n",
    "                    eval_metric='quantile',\n",
    "                    callbacks=[early_stopping(stopping_rounds=50), log_evaluation(50)]\n",
    "                )\n",
    "\n",
    "                # Save the model\n",
    "                model_filename = os.path.join(self.model_save_dir, f\"lgbm_model_quantile_{quantile}.pkl\")\n",
    "                joblib.dump(qr_lgbm, model_filename)\n",
    "                print(f\"Saved Quantile Regressor model for quantile {quantile} to {model_filename}\")\n",
    "\n",
    "                # Store the model for prediction\n",
    "                self.models[quantile] = qr_lgbm\n",
    "            else:\n",
    "                print(f\"Using the loaded pretrained Quantile Regressor model for quantile {quantile}\")\n",
    "\n",
    "            # Predict and store the results\n",
    "            self.q_predictions[str(quantile)] = self.models[quantile].predict(self.feature_engineerer.X_test)\n",
    "\n",
    "        # **Set models_loaded to True after training so predict can be called immediately**\n",
    "        self.models_loaded = True"
   ]
  },
  {
   "cell_type": "code",
   "execution_count": null,
   "metadata": {},
   "outputs": [],
   "source": [
    "from Preprocessing import * \n",
    "\n",
    "prep = Preprocessing()\n",
    "\n",
    "merged_pes2 = prep.perform_preprocessing_pipeline(geo_data_dict = {\"dwd_icon_eu_pes\":\"api_files\", \"ncep_gfs_pes\":\"api_files\"},\n",
    "          deployment = True, merge_with_outage_data = False, energy_data_dict = {\"Energy_Data\":\"api_files\"},\n",
    "                                              non_numerical_columns = [\"unavailabilityType\", \"affectedUnit\"],\n",
    "                                              fft = False, )\n",
    "\n",
    "merged_hornsea2 = prep.perform_preprocessing_pipeline(geo_data_dict = {\"dwd_icon_eu_hornsea\":\"api_files\", \"ncep_gfs_hornsea\":\"api_files\"},\n",
    "          deployment = True, merge_with_outage_data = True, energy_data_dict = {\"Energy_Data\":\"api_files\"},\n",
    "                                              non_numerical_columns = [\"unavailabilityType\", \"affectedUnit\"],\n",
    "                                              fft = False, )"
   ]
  },
  {
   "cell_type": "code",
   "execution_count": null,
   "metadata": {},
   "outputs": [],
   "source": [
    "merged_hornsea.columns"
   ]
  },
  {
   "cell_type": "code",
   "execution_count": 16,
   "metadata": {},
   "outputs": [],
   "source": [
    "a = ['Solar_MWh_credit', 'Wind_MWh_credit', 'affectedUnit',\n",
    "       'availableCapacity', 'cos_day', 'cos_dayofweek', 'cos_hour',\n",
    "       'cos_month', 'forecast_horizon', 'hoursSinceOutage',\n",
    "       'hoursUntilOutageEnd', 'outage', 'rel_hum', 'rel_hum_diff', 'sin_day',\n",
    "       'sin_dayofweek', 'sin_hour', 'sin_month', 'temp', 'temp_diff',\n",
    "       'temp_max_3h', 'temp_max_6h', 'temp_mean_3h', 'temp_mean_6h',\n",
    "       'temp_min_3h', 'temp_min_6h', 'temp_next_forecast', 'temp_range_3h',\n",
    "       'temp_std_3h', 'temp_std_6h', 'unavailabilityType',\n",
    "       'unavailableCapacity', 'wind_dir_100_cos', 'wind_dir_100_sin',\n",
    "       'wind_dir_cos', 'wind_dir_sin', 'wind_speed', 'wind_speed_100',\n",
    "       'wind_speed_100_diff', 'wind_speed_100_max_3h', 'wind_speed_100_max_6h',\n",
    "       'wind_speed_100_mean_3h', 'wind_speed_100_mean_6h',\n",
    "       'wind_speed_100_min_3h', 'wind_speed_100_min_6h',\n",
    "       'wind_speed_100_next_forecast', 'wind_speed_100_range_3h',\n",
    "       'wind_speed_100_std_3h', 'wind_speed_100_std_6h',\n",
    "       'wind_speed_altitude_diff', 'wind_speed_diff', 'wind_speed_max_3h',\n",
    "       'wind_speed_max_6h', 'wind_speed_mean_3h', 'wind_speed_mean_6h',\n",
    "       'wind_speed_min_3h', 'wind_speed_min_6h', 'wind_speed_next_forecast',\n",
    "       'wind_speed_range_3h', 'wind_speed_std_3h', 'wind_speed_std_6h']\n",
    "\n",
    "for col in a:\n",
    "    if col not in merged_hornsea.columns:\n",
    "        print(col)"
   ]
  },
  {
   "cell_type": "code",
   "execution_count": 11,
   "metadata": {},
   "outputs": [],
   "source": [
    "feature_engineerer_wind.perform_feature_engineering(merged_hornsea2, deployment = True)"
   ]
  },
  {
   "cell_type": "code",
   "execution_count": 12,
   "metadata": {},
   "outputs": [],
   "source": [
    "feature_engineerer_solar.perform_feature_engineering(merged_pes2, deployment = True)"
   ]
  },
  {
   "cell_type": "markdown",
   "metadata": {},
   "source": [
    "### __Wind Energy Forecast__"
   ]
  },
  {
   "cell_type": "markdown",
   "metadata": {},
   "source": [
    "__baseline__"
   ]
  },
  {
   "cell_type": "code",
   "execution_count": null,
   "metadata": {},
   "outputs": [],
   "source": [
    "import model_utils\n",
    "import numpy as np\n",
    "import importlib\n",
    "importlib.reload(model_utils)\n",
    "\n",
    "quantiles = np.arange(0.1, 1.0, 0.1).round(2)\n",
    "\n",
    "# Specify model save directory\n",
    "model_save_dir_qr = \"qr_model_wind\"\n",
    "\n",
    "qr_model_wind = model_utils.QuantileRegressorModel(feature_engineerer_wind_baseline, quantiles, model_save_dir=model_save_dir_qr, load_pretrained=True)\n",
    "qr_model_wind.train_and_predict()  # This will skip training for already loaded models\n",
    "print(f\"Quantile Regressor Pinball Score: {qr_model_wind.pinball_score()}\")"
   ]
  },
  {
   "cell_type": "code",
   "execution_count": null,
   "metadata": {},
   "outputs": [],
   "source": [
    "qr_model_wind.plot_quantils(feature_engineerer_wind_baseline.y_test.index, qr_model_wind.q_predictions, quantiles=np.arange(0.1, 1.0, 0.1), year=2023)"
   ]
  },
  {
   "cell_type": "markdown",
   "metadata": {},
   "source": [
    "__xgboost__"
   ]
  },
  {
   "cell_type": "code",
   "execution_count": null,
   "metadata": {},
   "outputs": [],
   "source": [
    "importlib.reload(model_utils)\n",
    "import numpy as np\n",
    "\n",
    "quantiles = np.arange(0.1, 1.0, 0.1)\n",
    "\n",
    "model_save_dir_xgboost = \"xgboost_model_wind\"\n",
    "hyperparams = {\n",
    "            # Use the quantile objective function.\n",
    "            \"objective\": \"reg:quantileerror\",\n",
    "            \"tree_method\": \"hist\",\n",
    "            \"quantile_alpha\": quantiles,\n",
    "            \"learning_rate\": 0.01,\n",
    "            \"max_depth\": 8\n",
    "        }\n",
    "\n",
    "xgboost_model_wind = model_utils.XGBoostModel(feature_engineerer_wind, quantiles=quantiles, model_save_dir=model_save_dir_xgboost, load_pretrained=False, hyperparams=hyperparams, num_boost_round=45, early_stopping_rounds=10)\n",
    "xgboost_model_wind.train_and_predict()  # This will skip training if the model is already loaded\n",
    "print(f\"XGBoost Pinball Score: {xgboost_model_wind.pinball_score()}\")"
   ]
  },
  {
   "cell_type": "code",
   "execution_count": null,
   "metadata": {},
   "outputs": [],
   "source": [
    "xgboost_model_wind.plot_feature_importance()"
   ]
  },
  {
   "cell_type": "code",
   "execution_count": null,
   "metadata": {},
   "outputs": [],
   "source": [
    "xgboost_model_wind.plot_quantils(daterange=feature_engineerer_wind.y_test.index, y=xgboost_model_wind.q_predictions, quantiles=np.arange(0.1, 1.0, 0.1), year=2023)"
   ]
  },
  {
   "cell_type": "markdown",
   "metadata": {},
   "source": [
    "### __Solar Energy Forecast__"
   ]
  },
  {
   "cell_type": "markdown",
   "metadata": {},
   "source": [
    "__baseline modell__"
   ]
  },
  {
   "cell_type": "code",
   "execution_count": null,
   "metadata": {},
   "outputs": [],
   "source": [
    "quantiles = np.arange(0.1, 1.0, 0.1)\n",
    "\n",
    "# Specify model save directory\n",
    "model_save_dir_qr = \"qr_model_solar\"\n",
    "\n",
    "qr_model_solar = model_utils.QuantileRegressorModel(feature_engineerer_solar_baseline, quantiles, model_save_dir=model_save_dir_qr, load_pretrained=True)\n",
    "qr_model_solar.train_and_predict()  # This will skip training for already loaded models\n",
    "print(f\"Quantile Regressor Pinball Score: {qr_model_solar.pinball_score()}\")"
   ]
  },
  {
   "cell_type": "code",
   "execution_count": null,
   "metadata": {},
   "outputs": [],
   "source": [
    "qr_model_solar.plot_quantils(daterange=feature_engineerer_solar_baseline.y_test.index, y=qr_model_solar.q_predictions, quantiles=np.arange(0.1, 1.0, 0.1), year=2023)"
   ]
  },
  {
   "cell_type": "markdown",
   "metadata": {},
   "source": [
    "__xgboost__"
   ]
  },
  {
   "cell_type": "code",
   "execution_count": null,
   "metadata": {},
   "outputs": [],
   "source": [
    "quantiles = np.arange(0.1, 1.0, 0.1)\n",
    "\n",
    "model_save_dir_xgboost = \"xgboost_model_solar\"\n",
    "\n",
    "xgboost_model_solar = model_utils.XGBoostModel(feature_engineerer_solar, quantiles=quantiles, model_save_dir=model_save_dir_xgboost, load_pretrained=False)\n",
    "xgboost_model_solar.train_and_predict()  # This will skip training if the model is already loaded\n",
    "print(f\"XGBoost Pinball Score: {xgboost_model_solar.pinball_score()}\")"
   ]
  },
  {
   "cell_type": "code",
   "execution_count": null,
   "metadata": {},
   "outputs": [],
   "source": [
    "xgboost_model_solar.plot_feature_importance()"
   ]
  },
  {
   "cell_type": "code",
   "execution_count": null,
   "metadata": {},
   "outputs": [],
   "source": [
    "xgboost_model_solar.plot_quantils(daterange=feature_engineerer_solar.y_test.index, y=xgboost_model_solar.q_predictions, quantiles=np.arange(0.1, 1.0, 0.1), year=2023, month = 7, day = 10)"
   ]
  },
  {
   "cell_type": "markdown",
   "metadata": {},
   "source": [
    "### __Lightgbm implementation__"
   ]
  },
  {
   "cell_type": "code",
   "execution_count": null,
   "metadata": {},
   "outputs": [],
   "source": [
    "importlib.reload(model_utils)\n",
    "import numpy as np\n",
    "quantiles = np.arange(0.1, 1.0, 0.1)\n",
    "\n",
    "# Specify model save directory\n",
    "model_save_dir_qr = \"lgbm_model_wind\"\n",
    "\n",
    "lgbm_model_wind = model_utils.LGBMRegressorModel(feature_engineerer_wind, quantiles, model_save_dir=model_save_dir_qr, load_pretrained=False)\n",
    "lgbm_model_wind.train_and_predict()  # This will skip training for already loaded models\n",
    "print(f\"Quantile Regressor Pinball Score: {lgbm_model_wind.pinball_score()}\")"
   ]
  },
  {
   "cell_type": "code",
   "execution_count": null,
   "metadata": {},
   "outputs": [],
   "source": [
    "lgbm_model_wind.plot_quantils(feature_engineerer_wind.y_test.index, lgbm_model_wind.q_predictions, quantiles, year = 2023, month=7)"
   ]
  },
  {
   "cell_type": "code",
   "execution_count": null,
   "metadata": {},
   "outputs": [],
   "source": [
    "lgbm_model_wind.plot_quantils(feature_engineerer_wind.y_test.index, lgbm_model_wind.q_predictions, quantiles, year = 2023, month=7)"
   ]
  },
  {
   "cell_type": "code",
   "execution_count": null,
   "metadata": {},
   "outputs": [],
   "source": [
    "lgbm_model_wind.q_predictions"
   ]
  },
  {
   "cell_type": "code",
   "execution_count": null,
   "metadata": {},
   "outputs": [],
   "source": [
    "quantiles = np.arange(0.1, 1.0, 0.1)\n",
    "\n",
    "# Specify model save directory\n",
    "model_save_dir_qr = \"lgbm_model_solar\"\n",
    "\n",
    "lgbm_model_solar = model_utils.LGBMRegressorModel(feature_engineerer_solar, quantiles, model_save_dir=model_save_dir_qr, load_pretrained=False)\n",
    "lgbm_model_solar.train_and_predict()  # This will skip training for already loaded models\n",
    "print(f\"Quantile Regressor Pinball Score: {lgbm_model_solar.pinball_score()}\")"
   ]
  },
  {
   "cell_type": "code",
   "execution_count": null,
   "metadata": {},
   "outputs": [],
   "source": [
    "len(feature_engineerer_wind.features_after_fe)"
   ]
  },
  {
   "cell_type": "code",
   "execution_count": 17,
   "metadata": {},
   "outputs": [],
   "source": [
    "for g in feature_engineerer_wind.features_after_fe:\n",
    "    if g not in a:\n",
    "        print(g)"
   ]
  },
  {
   "cell_type": "code",
   "execution_count": null,
   "metadata": {},
   "outputs": [],
   "source": [
    "len(feature_engineerer_wind.features_after_fe)"
   ]
  },
  {
   "cell_type": "code",
   "execution_count": 15,
   "metadata": {},
   "outputs": [],
   "source": [
    "a = ['availableCapacity',\n",
    " 'cos_day',\n",
    " 'cos_dayofweek',\n",
    " 'cos_hour',\n",
    " 'cos_month',\n",
    " 'forecast_horizon',\n",
    " 'hoursSinceOutage',\n",
    " 'hoursUntilOutageEnd',\n",
    " 'outage',\n",
    " 'rel_hum',\n",
    " 'rel_hum_diff',\n",
    " 'sin_day',\n",
    " 'sin_dayofweek',\n",
    " 'sin_hour',\n",
    " 'sin_month',\n",
    " 'temp',\n",
    " 'temp_diff',\n",
    " 'temp_max_3h',\n",
    " 'temp_max_6h',\n",
    " 'temp_mean_3h',\n",
    " 'temp_mean_6h',\n",
    " 'temp_min_3h',\n",
    " 'temp_min_6h',\n",
    " 'temp_next_forecast',\n",
    " 'temp_range_3h',\n",
    " 'temp_std_3h',\n",
    " 'temp_std_6h',\n",
    " 'unavailableCapacity',\n",
    " 'wind_dir_100_cos',\n",
    " 'wind_dir_100_sin',\n",
    " 'wind_dir_cos',\n",
    " 'wind_dir_sin',\n",
    " 'wind_speed',\n",
    " 'wind_speed_100',\n",
    " 'wind_speed_100_diff',\n",
    " 'wind_speed_100_max_3h',\n",
    " 'wind_speed_100_max_6h',\n",
    " 'wind_speed_100_mean_3h',\n",
    " 'wind_speed_100_mean_6h',\n",
    " 'wind_speed_100_min_3h',\n",
    " 'wind_speed_100_min_6h',\n",
    " 'wind_speed_100_next_forecast',\n",
    " 'wind_speed_100_range_3h',\n",
    " 'wind_speed_100_std_3h',\n",
    " 'wind_speed_100_std_6h',\n",
    " 'wind_speed_altitude_diff',\n",
    " 'wind_speed_diff',\n",
    " 'wind_speed_max_3h',\n",
    " 'wind_speed_max_6h',\n",
    " 'wind_speed_mean_3h',\n",
    " 'wind_speed_mean_6h',\n",
    " 'wind_speed_min_3h',\n",
    " 'wind_speed_min_6h',\n",
    " 'wind_speed_next_forecast',\n",
    " 'wind_speed_range_3h',\n",
    " 'wind_speed_std_3h',\n",
    " 'wind_speed_std_6h',\n",
    " 'unavailabilityType_None',\n",
    " 'unavailabilityType_Planned',\n",
    " 'unavailabilityType_Unplanned',\n",
    " 'affectedUnit_HOWAO-1',\n",
    " 'affectedUnit_HOWAO-2',\n",
    " 'affectedUnit_HOWAO-3',\n",
    " 'affectedUnit_HOWBO-1',\n",
    " 'affectedUnit_HOWBO-3',\n",
    " 'affectedUnit_None']"
   ]
  },
  {
   "cell_type": "code",
   "execution_count": null,
   "metadata": {},
   "outputs": [],
   "source": [
    "import pickle\n",
    "\n",
    "# Assuming `model` is your trained model\n",
    "with open('lgbm_model_wind.pkl', 'wb') as file:\n",
    "    pickle.dump(lgbm_model_wind, file)\n",
    "with open('lgbm_model_solar.pkl', 'wb') as file:\n",
    "    pickle.dump(lgbm_model_solar, file)"
   ]
  },
  {
   "cell_type": "code",
   "execution_count": null,
   "metadata": {},
   "outputs": [],
   "source": [
    "lgbm_model_solar.plot_quantils(feature_engineerer_solar.y_test.index, lgbm_model_solar.q_predictions, quantiles, year=2023, month=6, day=19)"
   ]
  },
  {
   "cell_type": "code",
   "execution_count": 3,
   "metadata": {},
   "outputs": [],
   "source": [
    "class q_model2(neural_networks.q_model):\n",
    "    def __init__(self):\n",
    "        super().__init__(self)\n",
    "\n",
    "q2 = q_model2"
   ]
  },
  {
   "cell_type": "code",
   "execution_count": null,
   "metadata": {},
   "outputs": [],
   "source": [
    "import importlib\n",
    "import Preprocessing\n",
    "importlib.reload(Preprocessing)\n",
    "\n",
    "import model_utils\n",
    "import pandas as pd\n",
    "\n",
    "merged_hornsea = pd.read_parquet(\"preprocessed_hornsea_with_energy.parquet\")\n",
    "merged_pes = pd.read_parquet(\"preprocessed_pes_with_energy.parquet\")\n",
    "\n",
    "feature_engineerer_wind = Preprocessing.FeatureEngineerer(label = 'Wind_MWh_credit', columns_to_ohe = ['unavailabilityType', 'affectedUnit'])\n",
    "feature_engineerer_wind.perform_feature_engineering(merged_hornsea, deployment = False)\n",
    "\n",
    "feature_engineerer_solar = Preprocessing.FeatureEngineerer(label = \"Solar_MWh_credit\")\n",
    "feature_engineerer_solar.perform_feature_engineering(merged_pes, deployment = False)\n",
    "\n",
    "merged_pes_simple = merged_pes[['solar_down_rad', 'Solar_MWh_credit', 'Wind_MWh_credit']]\n",
    "feature_engineerer_solar_baseline = Preprocessing.FeatureEngineerer(label = 'Solar_MWh_credit')\n",
    "feature_engineerer_solar_baseline.perform_feature_engineering(merged_pes_simple, deployment = False)\n",
    "\n",
    "merged_hornsea_simple = merged_hornsea[['wind_speed_100', 'Solar_MWh_credit', 'Wind_MWh_credit']]\n",
    "feature_engineerer_wind_baseline = Preprocessing.FeatureEngineerer(label = 'Wind_MWh_credit')\n",
    "feature_engineerer_wind_baseline.perform_feature_engineering(merged_hornsea_simple, deployment = False)\n",
    "\n",
    "import neural_networks\n",
    "import numpy as np\n",
    "importlib.reload(neural_networks)\n",
    "from functools import partial\n",
    "from itertools import chain\n",
    "import torch\n",
    "import torch.nn as nn\n",
    "quantiles = np.arange(0.1, 1.0, 0.1)\n",
    "\n",
    "nn_wind = neural_networks.Trainer(feature_engineerer_wind, neural_networks.q_model,quantiles)\n",
    "nn_wind.train_and_test()"
   ]
  },
  {
   "cell_type": "code",
   "execution_count": null,
   "metadata": {},
   "outputs": [],
   "source": [
    "nn_wind.plot_quantils(feature_engineerer_wind.y_test.index, nn_wind.q_prediction_nn, quantiles, year = 2023, month = 9, day = 15)"
   ]
  },
  {
   "cell_type": "code",
   "execution_count": null,
   "metadata": {},
   "outputs": [],
   "source": [
    "nn_wind.plot_quantils(feature_engineerer_wind.y_test.index, nn_wind.q_prediction_nn, quantiles, year = 2023, month = 6)"
   ]
  },
  {
   "cell_type": "code",
   "execution_count": 9,
   "metadata": {},
   "outputs": [],
   "source": [
    "good_nn_1 = nn_wind"
   ]
  },
  {
   "cell_type": "code",
   "execution_count": 20,
   "metadata": {},
   "outputs": [],
   "source": [
    "torch.save(nn_wind.model, \"LSTM_Linear_Wind.pth\")"
   ]
  },
  {
   "cell_type": "code",
   "execution_count": null,
   "metadata": {},
   "outputs": [],
   "source": [
    "nn_wind.plot_quantils(feature_engineerer_wind.y_test.index, nn_wind.q_prediction_nn, quantiles, day=9)"
   ]
  },
  {
   "cell_type": "code",
   "execution_count": null,
   "metadata": {},
   "outputs": [],
   "source": [
    "import neural_networks\n",
    "importlib.reload(neural_networks)\n",
    "from functools import partial\n",
    "from itertools import chain\n",
    "import torch\n",
    "import torch.nn as nn\n",
    "quantiles = np.arange(0.1, 1.0, 0.1)\n",
    "\n",
    "nn_solar = neural_networks.Trainer(feature_engineerer_solar, neural_networks.q_model, quantiles, in_shape=30)\n",
    "nn_solar.train_and_test()"
   ]
  },
  {
   "cell_type": "code",
   "execution_count": null,
   "metadata": {},
   "outputs": [],
   "source": [
    "nn_solar.plot_quantils(feature_engineerer_solar.y_test.index, nn_solar.q_prediction_nn, quantiles, day=8)"
   ]
  }
 ],
 "metadata": {
  "kernelspec": {
   "display_name": "awp2",
   "language": "python",
   "name": "python3"
  },
  "language_info": {
   "codemirror_mode": {
    "name": "ipython",
    "version": 3
   },
   "file_extension": ".py",
   "mimetype": "text/x-python",
   "name": "python",
   "nbconvert_exporter": "python",
   "pygments_lexer": "ipython3",
   "version": "3.11.9"
  }
 },
 "nbformat": 4,
 "nbformat_minor": 2
}
