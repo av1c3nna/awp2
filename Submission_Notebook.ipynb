{
 "cells": [
  {
   "cell_type": "code",
   "execution_count": 4,
   "metadata": {},
   "outputs": [],
   "source": [
    "# API Dokumentationen:\n",
    "# https://bmrs.elexon.co.uk/api-documentation/endpoint/forecast/\n",
    "# https://api.rebase.energy/weather/docs/v2/#general-usage\n",
    "# https://api.rebase.energy/challenges/redoc#tag/"
   ]
  },
  {
   "cell_type": "code",
   "execution_count": 1,
   "metadata": {},
   "outputs": [],
   "source": [
    "import comp_utils\n",
    "rebase_api_client = comp_utils.RebaseAPI(api_key = open(\"DanMaLeo_key.txt\").read())"
   ]
  },
  {
   "cell_type": "code",
   "execution_count": 1,
   "metadata": {},
   "outputs": [
    {
     "name": "stdout",
     "output_type": "stream",
     "text": [
      "Loaded pretrained Quantile Regressor model for quantile 0.1 from Models/lgbm_model_wind\\lgbm_model_quantile_0.1.pkl\n",
      "Loaded pretrained Quantile Regressor model for quantile 0.2 from Models/lgbm_model_wind\\lgbm_model_quantile_0.2.pkl\n",
      "Loaded pretrained Quantile Regressor model for quantile 0.3 from Models/lgbm_model_wind\\lgbm_model_quantile_0.3.pkl\n",
      "Loaded pretrained Quantile Regressor model for quantile 0.4 from Models/lgbm_model_wind\\lgbm_model_quantile_0.4.pkl\n",
      "Loaded pretrained Quantile Regressor model for quantile 0.5 from Models/lgbm_model_wind\\lgbm_model_quantile_0.5.pkl\n",
      "Loaded pretrained Quantile Regressor model for quantile 0.6 from Models/lgbm_model_wind\\lgbm_model_quantile_0.6.pkl\n",
      "Loaded pretrained Quantile Regressor model for quantile 0.7 from Models/lgbm_model_wind\\lgbm_model_quantile_0.7.pkl\n",
      "Loaded pretrained Quantile Regressor model for quantile 0.8 from Models/lgbm_model_wind\\lgbm_model_quantile_0.8.pkl\n",
      "Loaded pretrained Quantile Regressor model for quantile 0.9 from Models/lgbm_model_wind\\lgbm_model_quantile_0.9.pkl\n",
      "Loaded pretrained Quantile Regressor model for quantile 0.1 from Models/lgbm_model_solar\\lgbm_model_quantile_0.1.pkl\n",
      "Loaded pretrained Quantile Regressor model for quantile 0.2 from Models/lgbm_model_solar\\lgbm_model_quantile_0.2.pkl\n",
      "Loaded pretrained Quantile Regressor model for quantile 0.3 from Models/lgbm_model_solar\\lgbm_model_quantile_0.3.pkl\n",
      "Loaded pretrained Quantile Regressor model for quantile 0.4 from Models/lgbm_model_solar\\lgbm_model_quantile_0.4.pkl\n",
      "Loaded pretrained Quantile Regressor model for quantile 0.5 from Models/lgbm_model_solar\\lgbm_model_quantile_0.5.pkl\n",
      "Loaded pretrained Quantile Regressor model for quantile 0.6 from Models/lgbm_model_solar\\lgbm_model_quantile_0.6.pkl\n",
      "Loaded pretrained Quantile Regressor model for quantile 0.7 from Models/lgbm_model_solar\\lgbm_model_quantile_0.7.pkl\n",
      "Loaded pretrained Quantile Regressor model for quantile 0.8 from Models/lgbm_model_solar\\lgbm_model_quantile_0.8.pkl\n",
      "Loaded pretrained Quantile Regressor model for quantile 0.9 from Models/lgbm_model_solar\\lgbm_model_quantile_0.9.pkl\n"
     ]
    },
    {
     "name": "stderr",
     "output_type": "stream",
     "text": [
      "Fetched weather data does not appear to contain all relevant timestamps to compute 6-hour rolling interval features. Model predictions might be inaccurate.\n"
     ]
    },
    {
     "name": "stdout",
     "output_type": "stream",
     "text": [
      "200\n"
     ]
    },
    {
     "name": "stderr",
     "output_type": "stream",
     "text": [
      "Fetched weather data does not appear to contain all relevant timestamps to compute 6-hour rolling interval features. Model predictions might be inaccurate.\n"
     ]
    },
    {
     "name": "stdout",
     "output_type": "stream",
     "text": [
      "200\n"
     ]
    },
    {
     "name": "stderr",
     "output_type": "stream",
     "text": [
      "Fetched weather data does not appear to contain all relevant timestamps to compute 6-hour rolling interval features. Model predictions might be inaccurate.\n"
     ]
    },
    {
     "name": "stdout",
     "output_type": "stream",
     "text": [
      "200\n"
     ]
    },
    {
     "name": "stderr",
     "output_type": "stream",
     "text": [
      "Fetched weather data does not appear to contain all relevant timestamps to compute 6-hour rolling interval features. Model predictions might be inaccurate.\n"
     ]
    },
    {
     "name": "stdout",
     "output_type": "stream",
     "text": [
      "200\n"
     ]
    },
    {
     "name": "stderr",
     "output_type": "stream",
     "text": [
      "INFO:root:Perform data cleaning on the weather data...\n",
      "INFO:root:Merge weather stations...\n",
      "INFO:root:Merge with outages data (REMIT)...\n",
      "c:\\Users\\danie\\Documents\\AWP2_Repo\\awp2\\Preprocessing.py:329: FutureWarning: The behavior of array concatenation with empty entries is deprecated. In a future version, this will no longer exclude empty items when determining the result dtype. To retain the old behavior, exclude the empty entries before the concat operation.\n",
      "  outages_df = pd.concat([outages_df, json_data_with_date_ranges])\n",
      "c:\\Users\\danie\\Documents\\AWP2_Repo\\awp2\\Preprocessing.py:329: FutureWarning: The behavior of DataFrame concatenation with empty or all-NA entries is deprecated. In a future version, this will no longer exclude empty or all-NA columns when determining the result dtypes. To retain the old behavior, exclude the relevant entries before the concat operation.\n",
      "  outages_df = pd.concat([outages_df, json_data_with_date_ranges])\n",
      "INFO:root:Preprocessing done!\n",
      "INFO:logger:Successfully preprocessed data for Hornsea 1.\n",
      "INFO:logger:Preprocessing data for PES Region 10...\n",
      "INFO:root:Perform data cleaning on the weather data...\n",
      "INFO:root:Merge weather stations...\n",
      "INFO:root:Merge with energy data...\n",
      "WARNING:root:Energy data seems to be empty. Maybe check out for overlapping time intervals? Replacing missing capacity values with last known constants.\n",
      "INFO:root:Preprocessing done!\n",
      "INFO:logger:Successfully preprocessed data for PES Region 10.\n",
      "INFO:logger:Performing feature engineering on data for Hornsea 1...\n",
      "INFO:logger:Successfully performed feature engineering on data for Hornsea 1.\n",
      "INFO:logger:Performing feature engineering on data for PES Region 10...\n",
      "INFO:logger:Successfully performed feature engineering on data for PES Region 10.\n",
      "INFO:logger:Making predictions...\n",
      "INFO:logger:Successfully completed prediction for Hornsea 1.\n",
      "INFO:logger:Successfully completed prediction for PES Region 10.\n",
      "INFO:logger:Preparing data for submission...\n",
      "INFO:logger:Successfully created dataframe of submission data.\n",
      "INFO:logger:Successfully converted dataframe of submission data to json format.\n"
     ]
    }
   ],
   "source": [
    "from model_utils import *\n",
    "from Preprocessing import FeatureEngineerer\n",
    "\n",
    "merged_hornsea = pd.read_parquet(\"Data/preprocessed_hornsea_with_energy.parquet\")\n",
    "merged_pes = pd.read_parquet(\"Data/preprocessed_pes_with_energy.parquet\")\n",
    "\n",
    "feature_engineerer_wind = FeatureEngineerer(label = 'Wind_MWh_credit', columns_to_ohe=['unavailabilityType', 'affectedUnit'])\n",
    "feature_engineerer_wind.perform_feature_engineering(merged_hornsea, deployment = False)\n",
    "\n",
    "feature_engineerer_solar = FeatureEngineerer(label = \"Solar_MWh_credit\")\n",
    "feature_engineerer_solar.perform_feature_engineering(merged_pes, deployment = False)\n",
    "\n",
    "wind_model = LGBMRegressorModel(feature_engineerer_wind, quantiles=np.round(np.arange(0.1, 1.0, 0.1), 1), model_save_dir=\"Models/lgbm_model_wind\", load_pretrained=True)\n",
    "solar_model = LGBMRegressorModel(feature_engineerer_solar, quantiles=np.round(np.arange(0.1, 1.0, 0.1), 1), model_save_dir=\"Models/lgbm_model_solar\", load_pretrained=True)\n",
    "\n",
    "from submissions import AutoSubmitter\n",
    "\n",
    "submitter = AutoSubmitter(hornsea_model = wind_model, pes_model = solar_model)\n",
    "submitter.fetch_data().prepare_data().predict().prepare_submission()"
   ]
  }
 ],
 "metadata": {
  "kernelspec": {
   "display_name": "awp2",
   "language": "python",
   "name": "python3"
  },
  "language_info": {
   "codemirror_mode": {
    "name": "ipython",
    "version": 3
   },
   "file_extension": ".py",
   "mimetype": "text/x-python",
   "name": "python",
   "nbconvert_exporter": "python",
   "pygments_lexer": "ipython3",
   "version": "3.11.9"
  }
 },
 "nbformat": 4,
 "nbformat_minor": 2
}
