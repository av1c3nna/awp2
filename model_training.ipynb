{
 "cells": [
  {
   "cell_type": "code",
   "execution_count": 1,
   "metadata": {},
   "outputs": [],
   "source": [
    "import xarray\n",
    "import os\n",
    "import pandas as pd\n",
    "import numpy as np\n",
    "import dask.dataframe as dd\n",
    "import math\n",
    "\n",
    "from Preprocessing import *\n",
    "\n",
    "prep = Preprocessing()"
   ]
  },
  {
   "cell_type": "code",
   "execution_count": 12,
   "metadata": {},
   "outputs": [],
   "source": [
    "from Preprocessing import *\n",
    "merged_hornsea = pd.read_parquet(\"preprocessed_hornsea_with_energy.parquet\")\n",
    "merged_pes = pd.read_parquet(\"preprocessed_pes_with_energy.parquet\")\n",
    "merged_demand = pd.read_parquet(\"preprocessed_demand_with_energy.parquet\")"
   ]
  },
  {
   "cell_type": "code",
   "execution_count": 1,
   "metadata": {},
   "outputs": [
    {
     "name": "stdout",
     "output_type": "stream",
     "text": [
      "Perform data cleaning on the weather data...\n",
      "Merge weather stations...\n",
      "Merge with label data...\n",
      "Preprocessing done!\n"
     ]
    }
   ],
   "source": [
    "from Preprocessing import *\n",
    "\n",
    "prep = Preprocessing()\n",
    "\n",
    "# merged_hornsea = prep.perform_preprocessing_pipeline(geo_data_dict = {\"dwd_icon_eu_hornsea\":\"nc_files\", \"ncep_gfs_hornsea\":\"nc_files\"},\n",
    "#                                               deployment = False, merge_with_outage_data = True, json_file_path = \"nc_files/REMIT\", energy_data_dict = {\"Energy_data\":\"csv_files\"},\n",
    "#                                               non_numerical_columns = [\"unavailabilityType\", \"affectedUnit\"],\n",
    "#                                               fft = False, )\n",
    "\n",
    "# merged_pes = prep.perform_preprocessing_pipeline(geo_data_dict = {\"dwd_icon_eu_pes\":\"nc_files\", \"ncep_gfs_pes\":\"nc_files\"},\n",
    "#           deployment = False, merge_with_outage_data = False, energy_data_dict = {\"Energy_data\":\"csv_files\"},\n",
    "#                                               non_numerical_columns = [\"unavailabilityType\", \"affectedUnit\"],\n",
    "#                                               fft = False, )\n",
    "\n",
    "# merged_demand = prep.perform_preprocessing_pipeline(geo_data_dict = {\"dwd_icon_eu_demand\":\"nc_files\", \"ncep_gfs_demand\":\"nc_files\"},\n",
    "#           deployment = False, merge_with_outage_data = True, energy_data_dict = {\"Energy_data\":\"csv_files\"},\n",
    "#                                               non_numerical_columns = [\"unavailabilityType\", \"affectedUnit\"],\n",
    "#                                               fft = False, )"
   ]
  },
  {
   "cell_type": "code",
   "execution_count": 13,
   "metadata": {},
   "outputs": [],
   "source": [
    "import importlib\n",
    "from Preprocessing import *\n",
    "\n",
    "feature_engineerer_wind = FeatureEngineerer(label = 'Wind_MWh_credit', columns_to_ohe = ['unavailabilityType', 'affectedUnit', \"outage\"])\n",
    "feature_engineerer_wind.perform_feature_engineering(merged_hornsea, deployment = False)\n",
    "\n",
    "feature_engineerer_solar = FeatureEngineerer(label = \"Solar_MWh_credit\")\n",
    "feature_engineerer_solar.perform_feature_engineering(merged_pes, deployment = False)\n",
    "\n",
    "merged_pes_simple = merged_pes[['solar_down_rad', 'Solar_MWh_credit', 'Wind_MWh_credit']]\n",
    "feature_engineerer_solar_baseline = FeatureEngineerer(label = 'Solar_MWh_credit')\n",
    "feature_engineerer_solar.perform_feature_engineering(merged_pes_simple, deployment = False)\n",
    "\n",
    "merged_hornsea_simple = merged_hornsea[['wind_speed_100', 'Solar_MWh_credit', 'Wind_MWh_credit']]\n",
    "feature_engineerer_wind_baseline = FeatureEngineerer(label = 'Wind_MWh_credit')\n",
    "feature_engineerer_wind_baseline.perform_feature_engineering(merged_hornsea_simple, deployment = False)"
   ]
  },
  {
   "cell_type": "markdown",
   "metadata": {},
   "source": [
    "### __Wind Energy Forecast__"
   ]
  },
  {
   "cell_type": "markdown",
   "metadata": {},
   "source": [
    "__baseline__"
   ]
  },
  {
   "cell_type": "code",
   "execution_count": 12,
   "metadata": {},
   "outputs": [
    {
     "name": "stdout",
     "output_type": "stream",
     "text": [
      "Saved Quantile Regressor model for quantile 0.1 to qr_model_wind\\qr_model_quantile_0.1.pkl\n",
      "Saved Quantile Regressor model for quantile 0.2 to qr_model_wind\\qr_model_quantile_0.2.pkl\n",
      "Saved Quantile Regressor model for quantile 0.30000000000000004 to qr_model_wind\\qr_model_quantile_0.30000000000000004.pkl\n",
      "Saved Quantile Regressor model for quantile 0.4 to qr_model_wind\\qr_model_quantile_0.4.pkl\n",
      "Saved Quantile Regressor model for quantile 0.5 to qr_model_wind\\qr_model_quantile_0.5.pkl\n",
      "Saved Quantile Regressor model for quantile 0.6 to qr_model_wind\\qr_model_quantile_0.6.pkl\n",
      "Saved Quantile Regressor model for quantile 0.7000000000000001 to qr_model_wind\\qr_model_quantile_0.7000000000000001.pkl\n",
      "Saved Quantile Regressor model for quantile 0.8 to qr_model_wind\\qr_model_quantile_0.8.pkl\n",
      "Saved Quantile Regressor model for quantile 0.9 to qr_model_wind\\qr_model_quantile_0.9.pkl\n",
      "Quantile Regressor Pinball Score: 53.08909151412246\n"
     ]
    }
   ],
   "source": [
    "import model_utils\n",
    "import importlib\n",
    "importlib.reload(model_utils)\n",
    "\n",
    "quantiles = np.arange(0.1, 1.0, 0.1)\n",
    "\n",
    "# Specify model save directory\n",
    "model_save_dir_qr = \"qr_model_wind\"\n",
    "\n",
    "qr_model = model_utils.QuantileRegressorModel(feature_engineerer_wind_baseline, quantiles, model_save_dir=model_save_dir_qr, load_pretrained=False)\n",
    "qr_model.train_and_predict()  # This will skip training for already loaded models\n",
    "print(f\"Quantile Regressor Pinball Score: {qr_model.pinball_score()}\")"
   ]
  },
  {
   "cell_type": "markdown",
   "metadata": {},
   "source": [
    "__xgboost__"
   ]
  },
  {
   "cell_type": "code",
   "execution_count": 14,
   "metadata": {},
   "outputs": [
    {
     "name": "stdout",
     "output_type": "stream",
     "text": [
      "[0]\tTrain-quantile:94.90319\tVal-quantile:87.67668\n",
      "[1]\tTrain-quantile:90.85585\tVal-quantile:84.61173\n",
      "[2]\tTrain-quantile:86.98556\tVal-quantile:81.68946\n",
      "[3]\tTrain-quantile:83.29913\tVal-quantile:78.91939\n",
      "[4]\tTrain-quantile:79.77864\tVal-quantile:76.30423\n",
      "[5]\tTrain-quantile:76.41793\tVal-quantile:73.83402\n",
      "[6]\tTrain-quantile:73.21980\tVal-quantile:71.47688\n",
      "[7]\tTrain-quantile:70.16700\tVal-quantile:69.23064\n",
      "[8]\tTrain-quantile:67.26923\tVal-quantile:67.08621\n",
      "[9]\tTrain-quantile:64.51809\tVal-quantile:65.03645\n",
      "[10]\tTrain-quantile:61.90698\tVal-quantile:63.11628\n",
      "[11]\tTrain-quantile:59.43668\tVal-quantile:61.29997\n",
      "[12]\tTrain-quantile:57.08229\tVal-quantile:59.60103\n",
      "[13]\tTrain-quantile:54.83152\tVal-quantile:58.00036\n",
      "[14]\tTrain-quantile:52.68682\tVal-quantile:56.47806\n",
      "[15]\tTrain-quantile:50.63844\tVal-quantile:55.04444\n",
      "[16]\tTrain-quantile:48.68035\tVal-quantile:53.67664\n",
      "[17]\tTrain-quantile:46.82489\tVal-quantile:52.38279\n",
      "[18]\tTrain-quantile:45.04555\tVal-quantile:51.15320\n",
      "[19]\tTrain-quantile:43.35676\tVal-quantile:49.97548\n",
      "[20]\tTrain-quantile:41.73927\tVal-quantile:48.86542\n",
      "[21]\tTrain-quantile:40.21244\tVal-quantile:47.84403\n",
      "[22]\tTrain-quantile:38.75892\tVal-quantile:46.87158\n",
      "[23]\tTrain-quantile:37.37064\tVal-quantile:45.95565\n",
      "[24]\tTrain-quantile:36.05730\tVal-quantile:45.09448\n",
      "[25]\tTrain-quantile:34.80944\tVal-quantile:44.26389\n",
      "[26]\tTrain-quantile:33.62189\tVal-quantile:43.45617\n",
      "[27]\tTrain-quantile:32.49325\tVal-quantile:42.72059\n",
      "[28]\tTrain-quantile:31.41659\tVal-quantile:41.99974\n",
      "[29]\tTrain-quantile:30.39470\tVal-quantile:41.33046\n",
      "[30]\tTrain-quantile:29.42265\tVal-quantile:40.71544\n",
      "[31]\tTrain-quantile:28.48868\tVal-quantile:40.13763\n",
      "[32]\tTrain-quantile:27.60815\tVal-quantile:39.60414\n",
      "[33]\tTrain-quantile:26.77285\tVal-quantile:39.08160\n",
      "[34]\tTrain-quantile:25.98026\tVal-quantile:38.59151\n",
      "[35]\tTrain-quantile:25.22607\tVal-quantile:38.13666\n",
      "[36]\tTrain-quantile:24.51084\tVal-quantile:37.69849\n",
      "[37]\tTrain-quantile:23.82968\tVal-quantile:37.27220\n",
      "[38]\tTrain-quantile:23.18761\tVal-quantile:36.87187\n",
      "[39]\tTrain-quantile:22.57948\tVal-quantile:36.48813\n",
      "[40]\tTrain-quantile:22.00637\tVal-quantile:36.13756\n",
      "[41]\tTrain-quantile:21.46270\tVal-quantile:35.80709\n",
      "[42]\tTrain-quantile:20.95689\tVal-quantile:35.50649\n",
      "[43]\tTrain-quantile:20.48375\tVal-quantile:35.20407\n",
      "[44]\tTrain-quantile:20.04066\tVal-quantile:34.92393\n",
      "[45]\tTrain-quantile:19.63215\tVal-quantile:34.66624\n",
      "[46]\tTrain-quantile:19.24467\tVal-quantile:34.42634\n",
      "[47]\tTrain-quantile:18.88201\tVal-quantile:34.20819\n",
      "[48]\tTrain-quantile:18.54013\tVal-quantile:34.00317\n",
      "[49]\tTrain-quantile:18.21991\tVal-quantile:33.80962\n",
      "Saved new XGBoost model to xgboost_model_wind\\xgboost_model.json\n",
      "XGBoost Pinball Score: 56.65597046406378\n"
     ]
    }
   ],
   "source": [
    "import model_utils\n",
    "\n",
    "\n",
    "quantiles = np.arange(0.1, 1.0, 0.1)\n",
    "\n",
    "model_save_dir_xgboost = \"xgboost_model_wind\"\n",
    "\n",
    "hyperparams = {\"objective\": \"reg:quantileerror\",\n",
    "            \"tree_method\": \"hist\",\n",
    "            \"quantile_alpha\": quantiles,\n",
    "            \"learning_rate\": 0.001,\n",
    "            \"max_depth\": 10}\n",
    "\n",
    "xgboost_model_wind = model_utils.XGBoostModel(feature_engineerer_wind, quantiles=quantiles, model_save_dir=model_save_dir_xgboost, load_pretrained=False, \n",
    "                                              #hyperparams = hyperparams\n",
    "                                              )\n",
    "xgboost_model_wind.train_and_predict()  # This will skip training if the model is already loaded\n",
    "print(f\"XGBoost Pinball Score: {xgboost_model_wind.pinball_score()}\")"
   ]
  },
  {
   "cell_type": "markdown",
   "metadata": {},
   "source": [
    "### __Solar Energy Forecast__"
   ]
  },
  {
   "cell_type": "markdown",
   "metadata": {},
   "source": [
    "__baseline modell__"
   ]
  },
  {
   "cell_type": "code",
   "execution_count": 7,
   "metadata": {},
   "outputs": [
    {
     "ename": "",
     "evalue": "",
     "output_type": "error",
     "traceback": [
      "\u001b[1;31mThe Kernel crashed while executing code in the current cell or a previous cell. \n",
      "\u001b[1;31mPlease review the code in the cell(s) to identify a possible cause of the failure. \n",
      "\u001b[1;31mClick <a href='https://aka.ms/vscodeJupyterKernelCrash'>here</a> for more info. \n",
      "\u001b[1;31mView Jupyter <a href='command:jupyter.viewOutput'>log</a> for further details."
     ]
    }
   ],
   "source": [
    "quantiles = np.arange(0.1, 1.0, 0.1)\n",
    "import model_utils\n",
    "\n",
    "# Specify model save directory\n",
    "model_save_dir_qr = \"qr_model_solar\"\n",
    "\n",
    "qr_model_solar = model_utils.QuantileRegressorModel(feature_engineerer_solar_baseline, quantiles, model_save_dir=model_save_dir_qr, load_pretrained=False)\n",
    "qr_model_solar.train_and_predict()  # This will skip training for already loaded models\n",
    "print(f\"Quantile Regressor Pinball Score: {qr_model_solar.pinball_score()}\")"
   ]
  },
  {
   "cell_type": "markdown",
   "metadata": {},
   "source": [
    "__xgboost__"
   ]
  },
  {
   "cell_type": "code",
   "execution_count": 16,
   "metadata": {},
   "outputs": [
    {
     "name": "stdout",
     "output_type": "stream",
     "text": [
      "[0]\tTrain-quantile:46.07405\tVal-quantile:96.73373\n",
      "[1]\tTrain-quantile:46.02726\tVal-quantile:96.62258\n",
      "[2]\tTrain-quantile:45.98051\tVal-quantile:96.51155\n",
      "[3]\tTrain-quantile:45.93381\tVal-quantile:96.40062\n",
      "[4]\tTrain-quantile:45.88716\tVal-quantile:96.28982\n",
      "[5]\tTrain-quantile:45.84056\tVal-quantile:96.17914\n",
      "[6]\tTrain-quantile:45.79400\tVal-quantile:96.06860\n",
      "[7]\tTrain-quantile:45.74750\tVal-quantile:95.95817\n",
      "[8]\tTrain-quantile:45.70106\tVal-quantile:95.84786\n",
      "[9]\tTrain-quantile:45.65468\tVal-quantile:95.73768\n",
      "[10]\tTrain-quantile:45.60835\tVal-quantile:95.62762\n",
      "[11]\tTrain-quantile:45.56208\tVal-quantile:95.51773\n",
      "[12]\tTrain-quantile:45.51586\tVal-quantile:95.40797\n",
      "[13]\tTrain-quantile:45.46969\tVal-quantile:95.29834\n",
      "[14]\tTrain-quantile:45.42357\tVal-quantile:95.18882\n",
      "[15]\tTrain-quantile:45.37751\tVal-quantile:95.07945\n",
      "[16]\tTrain-quantile:45.33150\tVal-quantile:94.97020\n",
      "[17]\tTrain-quantile:45.28553\tVal-quantile:94.86108\n",
      "[18]\tTrain-quantile:45.23961\tVal-quantile:94.75211\n",
      "[19]\tTrain-quantile:45.19375\tVal-quantile:94.64326\n",
      "[20]\tTrain-quantile:45.14793\tVal-quantile:94.53454\n",
      "[21]\tTrain-quantile:45.10215\tVal-quantile:94.42595\n",
      "[22]\tTrain-quantile:45.05641\tVal-quantile:94.31749\n",
      "[23]\tTrain-quantile:45.01072\tVal-quantile:94.20921\n",
      "[24]\tTrain-quantile:44.96509\tVal-quantile:94.10105\n",
      "[25]\tTrain-quantile:44.91950\tVal-quantile:93.99300\n",
      "[26]\tTrain-quantile:44.87396\tVal-quantile:93.88506\n",
      "[27]\tTrain-quantile:44.82847\tVal-quantile:93.77728\n",
      "[28]\tTrain-quantile:44.78303\tVal-quantile:93.66962\n",
      "[29]\tTrain-quantile:44.73764\tVal-quantile:93.56213\n",
      "[30]\tTrain-quantile:44.69231\tVal-quantile:93.45477\n",
      "[31]\tTrain-quantile:44.64702\tVal-quantile:93.34754\n",
      "[32]\tTrain-quantile:44.60178\tVal-quantile:93.24042\n",
      "[33]\tTrain-quantile:44.55658\tVal-quantile:93.13342\n",
      "[34]\tTrain-quantile:44.51143\tVal-quantile:93.02653\n",
      "[35]\tTrain-quantile:44.46632\tVal-quantile:92.91976\n",
      "[36]\tTrain-quantile:44.42127\tVal-quantile:92.81316\n",
      "[37]\tTrain-quantile:44.37628\tVal-quantile:92.70669\n",
      "[38]\tTrain-quantile:44.33132\tVal-quantile:92.60036\n",
      "[39]\tTrain-quantile:44.28641\tVal-quantile:92.49408\n",
      "[40]\tTrain-quantile:44.24156\tVal-quantile:92.38792\n",
      "[41]\tTrain-quantile:44.19675\tVal-quantile:92.28186\n",
      "[42]\tTrain-quantile:44.15199\tVal-quantile:92.17592\n",
      "[43]\tTrain-quantile:44.10728\tVal-quantile:92.07009\n",
      "[44]\tTrain-quantile:44.06261\tVal-quantile:91.96439\n",
      "[45]\tTrain-quantile:44.01800\tVal-quantile:91.85882\n",
      "[46]\tTrain-quantile:43.97343\tVal-quantile:91.75340\n",
      "[47]\tTrain-quantile:43.92892\tVal-quantile:91.64811\n",
      "[48]\tTrain-quantile:43.88445\tVal-quantile:91.54295\n",
      "[49]\tTrain-quantile:43.84003\tVal-quantile:91.43791\n",
      "Saved new XGBoost model to xgboost_model_solar\\xgboost_model.json\n",
      "XGBoost Pinball Score: 66.92507889893346\n"
     ]
    }
   ],
   "source": [
    "import model_utils\n",
    "\n",
    "quantiles = np.arange(0.1, 1.0, 0.1)\n",
    "\n",
    "model_save_dir_xgboost = \"xgboost_model_solar\"\n",
    "\n",
    "hyperparams = {\"objective\": \"reg:quantileerror\",\n",
    "            \"tree_method\": \"hist\",\n",
    "            \"quantile_alpha\": quantiles,\n",
    "            \"learning_rate\": 0.001,\n",
    "            \"max_depth\": 10}\n",
    "\n",
    "xgboost_model_solar = model_utils.XGBoostModel(feature_engineerer_solar, quantiles=quantiles, model_save_dir=model_save_dir_xgboost, load_pretrained=False)\n",
    "xgboost_model_solar.train_and_predict()  # This will skip training if the model is already loaded\n",
    "print(f\"XGBoost Pinball Score: {xgboost_model_solar.pinball_score()}\")"
   ]
  },
  {
   "cell_type": "markdown",
   "metadata": {},
   "source": [
    "### __Lightgbm implementation__"
   ]
  },
  {
   "cell_type": "code",
   "execution_count": 9,
   "metadata": {},
   "outputs": [
    {
     "ename": "ModuleNotFoundError",
     "evalue": "No module named 'lightgbm'",
     "output_type": "error",
     "traceback": [
      "\u001b[1;31m---------------------------------------------------------------------------\u001b[0m",
      "\u001b[1;31mModuleNotFoundError\u001b[0m                       Traceback (most recent call last)",
      "Cell \u001b[1;32mIn[9], line 1\u001b[0m\n\u001b[1;32m----> 1\u001b[0m \u001b[38;5;28;01mimport\u001b[39;00m \u001b[38;5;21;01mlightgbm\u001b[39;00m \u001b[38;5;28;01mas\u001b[39;00m \u001b[38;5;21;01mlgb\u001b[39;00m\n\u001b[0;32m      2\u001b[0m importlib\u001b[38;5;241m.\u001b[39mreload(model_utils)\n\u001b[0;32m      4\u001b[0m quantiles \u001b[38;5;241m=\u001b[39m [x \u001b[38;5;28;01mfor\u001b[39;00m x \u001b[38;5;129;01min\u001b[39;00m np\u001b[38;5;241m.\u001b[39marange(\u001b[38;5;241m0.1\u001b[39m, \u001b[38;5;241m1.0\u001b[39m, \u001b[38;5;241m0.1\u001b[39m)]\n",
      "\u001b[1;31mModuleNotFoundError\u001b[0m: No module named 'lightgbm'"
     ]
    }
   ],
   "source": [
    "import lightgbm as lgb\n",
    "importlib.reload(model_utils)\n",
    "\n",
    "quantiles = [x for x in np.arange(0.1, 1.0, 0.1)]\n",
    "qr_solar_lightgbm = {}\n",
    "qr_solar_lightgbm[\"true\"] = feature_engineerer_solar.y_test.values\n",
    "#out_bounds_predictions = np.zeros_like(y_true_mean, dtype=np.bool_)\n",
    "for quantile in quantiles:\n",
    "    qr_lightgbm = lgb.LGBMRegressor(objective='quantile', alpha=quantile)\n",
    "    qr_lightgbm.fit(feature_engineerer_solar.X_train, feature_engineerer_solar.y_train)\n",
    "    qr_solar_lightgbm[str(quantile)] = qr_lightgbm.predict(feature_engineerer_solar.X_test)\n",
    "\n",
    "qr_solar_lightgbm_df = pd.DataFrame(qr_solar_lightgbm)\n",
    "model_utils.pinball_score(qr_solar_lightgbm_df, quantiles=quantiles)"
   ]
  },
  {
   "cell_type": "code",
   "execution_count": 8,
   "metadata": {},
   "outputs": [
    {
     "ename": "NameError",
     "evalue": "name 'lgb' is not defined",
     "output_type": "error",
     "traceback": [
      "\u001b[1;31m---------------------------------------------------------------------------\u001b[0m",
      "\u001b[1;31mNameError\u001b[0m                                 Traceback (most recent call last)",
      "Cell \u001b[1;32mIn[8], line 6\u001b[0m\n\u001b[0;32m      4\u001b[0m \u001b[38;5;66;03m#out_bounds_predictions = np.zeros_like(y_true_mean, dtype=np.bool_)\u001b[39;00m\n\u001b[0;32m      5\u001b[0m \u001b[38;5;28;01mfor\u001b[39;00m quantile \u001b[38;5;129;01min\u001b[39;00m quantiles:\n\u001b[1;32m----> 6\u001b[0m     qr_lightgbm_wind \u001b[38;5;241m=\u001b[39m \u001b[43mlgb\u001b[49m\u001b[38;5;241m.\u001b[39mLGBMRegressor(objective\u001b[38;5;241m=\u001b[39m\u001b[38;5;124m'\u001b[39m\u001b[38;5;124mquantile\u001b[39m\u001b[38;5;124m'\u001b[39m, alpha\u001b[38;5;241m=\u001b[39mquantile)\n\u001b[0;32m      7\u001b[0m     qr_lightgbm_wind\u001b[38;5;241m.\u001b[39mfit(feature_engineerer_wind\u001b[38;5;241m.\u001b[39mX_train, feature_engineerer_wind\u001b[38;5;241m.\u001b[39my_train)\n\u001b[0;32m      8\u001b[0m     qr_wind_lightgbm[\u001b[38;5;28mstr\u001b[39m(quantile)] \u001b[38;5;241m=\u001b[39m qr_lightgbm_wind\u001b[38;5;241m.\u001b[39mpredict(feature_engineerer_wind\u001b[38;5;241m.\u001b[39mX_test)\n",
      "\u001b[1;31mNameError\u001b[0m: name 'lgb' is not defined"
     ]
    }
   ],
   "source": [
    "quantiles = [x for x in np.arange(0.1, 1.0, 0.1)]\n",
    "qr_wind_lightgbm = {}\n",
    "qr_wind_lightgbm[\"true\"] = feature_engineerer_wind.y_test.values\n",
    "#out_bounds_predictions = np.zeros_like(y_true_mean, dtype=np.bool_)\n",
    "for quantile in quantiles:\n",
    "    qr_lightgbm_wind = lgb.LGBMRegressor(objective='quantile', alpha=quantile)\n",
    "    qr_lightgbm_wind.fit(feature_engineerer_wind.X_train, feature_engineerer_wind.y_train)\n",
    "    qr_wind_lightgbm[str(quantile)] = qr_lightgbm_wind.predict(feature_engineerer_wind.X_test)\n",
    "\n",
    "qr_wind_lightgbm_df = pd.DataFrame(qr_wind_lightgbm)\n",
    "model_utils.pinball_score(qr_wind_lightgbm_df, quantiles=quantiles)"
   ]
  }
 ],
 "metadata": {
  "kernelspec": {
   "display_name": "awp2",
   "language": "python",
   "name": "python3"
  },
  "language_info": {
   "codemirror_mode": {
    "name": "ipython",
    "version": 3
   },
   "file_extension": ".py",
   "mimetype": "text/x-python",
   "name": "python",
   "nbconvert_exporter": "python",
   "pygments_lexer": "ipython3",
   "version": "3.11.9"
  }
 },
 "nbformat": 4,
 "nbformat_minor": 2
}
