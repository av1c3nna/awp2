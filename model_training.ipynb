{
 "cells": [
  {
   "cell_type": "code",
   "execution_count": 1,
   "metadata": {},
   "outputs": [],
   "source": [
    "import xarray\n",
    "import os\n",
    "import pandas as pd\n",
    "import numpy as np\n",
    "import dask.dataframe as dd\n",
    "import math\n",
    "\n",
    "from Preprocessing import *\n",
    "\n",
    "prep = Preprocessing()"
   ]
  },
  {
   "cell_type": "code",
   "execution_count": 12,
   "metadata": {},
   "outputs": [],
   "source": [
    "from Preprocessing import *\n",
    "merged_hornsea = pd.read_parquet(\"preprocessed_hornsea_with_energy.parquet\")\n",
    "merged_pes = pd.read_parquet(\"preprocessed_pes_with_energy.parquet\")\n",
    "merged_demand = pd.read_parquet(\"preprocessed_demand_with_energy.parquet\")"
   ]
  },
  {
   "cell_type": "code",
   "execution_count": 1,
   "metadata": {},
   "outputs": [
    {
     "name": "stdout",
     "output_type": "stream",
     "text": [
      "Perform data cleaning on the weather data...\n",
      "Merge weather stations...\n",
      "Merge with label data...\n",
      "Preprocessing done!\n"
     ]
    }
   ],
   "source": [
    "from Preprocessing import *\n",
    "\n",
    "prep = Preprocessing()\n",
    "\n",
    "# merged_hornsea = prep.perform_preprocessing_pipeline(geo_data_dict = {\"dwd_icon_eu_hornsea\":\"nc_files\", \"ncep_gfs_hornsea\":\"nc_files\"},\n",
    "#                                               deployment = False, merge_with_outage_data = True, json_file_path = \"nc_files/REMIT\", energy_data_dict = {\"Energy_data\":\"csv_files\"},\n",
    "#                                               non_numerical_columns = [\"unavailabilityType\", \"affectedUnit\"],\n",
    "#                                               fft = False, )\n",
    "\n",
    "# merged_pes = prep.perform_preprocessing_pipeline(geo_data_dict = {\"dwd_icon_eu_pes\":\"nc_files\", \"ncep_gfs_pes\":\"nc_files\"},\n",
    "#           deployment = False, merge_with_outage_data = False, energy_data_dict = {\"Energy_data\":\"csv_files\"},\n",
    "#                                               non_numerical_columns = [\"unavailabilityType\", \"affectedUnit\"],\n",
    "#                                               fft = False, )\n",
    "\n",
    "# merged_demand = prep.perform_preprocessing_pipeline(geo_data_dict = {\"dwd_icon_eu_demand\":\"nc_files\", \"ncep_gfs_demand\":\"nc_files\"},\n",
    "#           deployment = False, merge_with_outage_data = True, energy_data_dict = {\"Energy_data\":\"csv_files\"},\n",
    "#                                               non_numerical_columns = [\"unavailabilityType\", \"affectedUnit\"],\n",
    "#                                               fft = False, )"
   ]
  },
  {
   "cell_type": "code",
   "execution_count": 13,
   "metadata": {},
   "outputs": [],
   "source": [
    "import importlib\n",
    "from Preprocessing import *\n",
    "\n",
    "feature_engineerer_wind = FeatureEngineerer(label = 'Wind_MWh_credit', columns_to_ohe = ['unavailabilityType', 'affectedUnit', \"outage\"])\n",
    "feature_engineerer_wind.perform_feature_engineering(merged_hornsea, deployment = False)\n",
    "\n",
    "feature_engineerer_solar = FeatureEngineerer(label = \"Solar_MWh_credit\")\n",
    "feature_engineerer_solar.perform_feature_engineering(merged_pes, deployment = False)\n",
    "\n",
    "merged_pes_simple = merged_pes[['solar_down_rad', 'Solar_MWh_credit', 'Wind_MWh_credit']]\n",
    "feature_engineerer_solar_baseline = FeatureEngineerer(label = 'Solar_MWh_credit')\n",
    "feature_engineerer_solar.perform_feature_engineering(merged_pes_simple, deployment = False)\n",
    "\n",
    "merged_hornsea_simple = merged_hornsea[['wind_speed_100', 'Solar_MWh_credit', 'Wind_MWh_credit']]\n",
    "feature_engineerer_wind_baseline = FeatureEngineerer(label = 'Wind_MWh_credit')\n",
    "feature_engineerer_wind_baseline.perform_feature_engineering(merged_hornsea_simple, deployment = False)"
   ]
  },
  {
   "cell_type": "markdown",
   "metadata": {},
   "source": [
    "### __Wind Energy Forecast__"
   ]
  },
  {
   "cell_type": "markdown",
   "metadata": {},
   "source": [
    "__baseline__"
   ]
  },
  {
   "cell_type": "code",
   "execution_count": 12,
   "metadata": {},
   "outputs": [
    {
     "name": "stdout",
     "output_type": "stream",
     "text": [
      "Saved Quantile Regressor model for quantile 0.1 to qr_model_wind\\qr_model_quantile_0.1.pkl\n",
      "Saved Quantile Regressor model for quantile 0.2 to qr_model_wind\\qr_model_quantile_0.2.pkl\n",
      "Saved Quantile Regressor model for quantile 0.30000000000000004 to qr_model_wind\\qr_model_quantile_0.30000000000000004.pkl\n",
      "Saved Quantile Regressor model for quantile 0.4 to qr_model_wind\\qr_model_quantile_0.4.pkl\n",
      "Saved Quantile Regressor model for quantile 0.5 to qr_model_wind\\qr_model_quantile_0.5.pkl\n",
      "Saved Quantile Regressor model for quantile 0.6 to qr_model_wind\\qr_model_quantile_0.6.pkl\n",
      "Saved Quantile Regressor model for quantile 0.7000000000000001 to qr_model_wind\\qr_model_quantile_0.7000000000000001.pkl\n",
      "Saved Quantile Regressor model for quantile 0.8 to qr_model_wind\\qr_model_quantile_0.8.pkl\n",
      "Saved Quantile Regressor model for quantile 0.9 to qr_model_wind\\qr_model_quantile_0.9.pkl\n",
      "Quantile Regressor Pinball Score: 53.08909151412246\n"
     ]
    }
   ],
   "source": [
    "import model_utils\n",
    "import importlib\n",
    "importlib.reload(model_utils)\n",
    "\n",
    "quantiles = np.arange(0.1, 1.0, 0.1)\n",
    "\n",
    "# Specify model save directory\n",
    "model_save_dir_qr = \"qr_model_wind\"\n",
    "\n",
    "qr_model = model_utils.QuantileRegressorModel(feature_engineerer_wind_baseline, quantiles, model_save_dir=model_save_dir_qr, load_pretrained=False)\n",
    "qr_model.train_and_predict()  # This will skip training for already loaded models\n",
    "print(f\"Quantile Regressor Pinball Score: {qr_model.pinball_score()}\")"
   ]
  },
  {
   "cell_type": "markdown",
   "metadata": {},
   "source": [
    "__xgboost__"
   ]
  },
  {
   "cell_type": "code",
   "execution_count": 42,
   "metadata": {},
   "outputs": [
    {
     "name": "stdout",
     "output_type": "stream",
     "text": [
      "[0]\tTrain-quantile:99.03586\tVal-quantile:90.84414\n",
      "[1]\tTrain-quantile:98.92821\tVal-quantile:90.76461\n",
      "[2]\tTrain-quantile:98.82061\tVal-quantile:90.68514\n",
      "[3]\tTrain-quantile:98.71315\tVal-quantile:90.60492\n",
      "[4]\tTrain-quantile:98.60570\tVal-quantile:90.52455\n",
      "[5]\tTrain-quantile:98.49836\tVal-quantile:90.44456\n",
      "[6]\tTrain-quantile:98.39124\tVal-quantile:90.36449\n",
      "[7]\tTrain-quantile:98.28420\tVal-quantile:90.28433\n",
      "[8]\tTrain-quantile:98.17746\tVal-quantile:90.20423\n",
      "[9]\tTrain-quantile:98.07064\tVal-quantile:90.12410\n",
      "[10]\tTrain-quantile:97.96416\tVal-quantile:90.04424\n",
      "[11]\tTrain-quantile:97.85772\tVal-quantile:89.96434\n",
      "[12]\tTrain-quantile:97.75142\tVal-quantile:89.88439\n",
      "[13]\tTrain-quantile:97.64515\tVal-quantile:89.80467\n",
      "[14]\tTrain-quantile:97.53909\tVal-quantile:89.72525\n",
      "[15]\tTrain-quantile:97.43309\tVal-quantile:89.64584\n",
      "[16]\tTrain-quantile:97.32716\tVal-quantile:89.56652\n",
      "[17]\tTrain-quantile:97.22131\tVal-quantile:89.48720\n",
      "[18]\tTrain-quantile:97.11561\tVal-quantile:89.40807\n",
      "[19]\tTrain-quantile:97.01011\tVal-quantile:89.32898\n",
      "[20]\tTrain-quantile:96.90463\tVal-quantile:89.24999\n",
      "[21]\tTrain-quantile:96.79928\tVal-quantile:89.17131\n",
      "[22]\tTrain-quantile:96.69410\tVal-quantile:89.09276\n",
      "[23]\tTrain-quantile:96.58898\tVal-quantile:89.01412\n",
      "[24]\tTrain-quantile:96.48401\tVal-quantile:88.93568\n",
      "[25]\tTrain-quantile:96.37921\tVal-quantile:88.85758\n",
      "[26]\tTrain-quantile:96.27455\tVal-quantile:88.77946\n",
      "[27]\tTrain-quantile:96.16994\tVal-quantile:88.70139\n",
      "[28]\tTrain-quantile:96.06545\tVal-quantile:88.62353\n",
      "[29]\tTrain-quantile:95.96112\tVal-quantile:88.54570\n",
      "[30]\tTrain-quantile:95.85700\tVal-quantile:88.46801\n",
      "[31]\tTrain-quantile:95.75292\tVal-quantile:88.39009\n",
      "[32]\tTrain-quantile:95.64893\tVal-quantile:88.31229\n",
      "[33]\tTrain-quantile:95.54505\tVal-quantile:88.23460\n",
      "[34]\tTrain-quantile:95.44122\tVal-quantile:88.15689\n",
      "[35]\tTrain-quantile:95.33746\tVal-quantile:88.07909\n",
      "[36]\tTrain-quantile:95.23386\tVal-quantile:88.00182\n",
      "[37]\tTrain-quantile:95.13054\tVal-quantile:87.92446\n",
      "[38]\tTrain-quantile:95.02715\tVal-quantile:87.84709\n",
      "[39]\tTrain-quantile:94.92400\tVal-quantile:87.76976\n",
      "[40]\tTrain-quantile:94.82094\tVal-quantile:87.69236\n",
      "[41]\tTrain-quantile:94.71795\tVal-quantile:87.61524\n",
      "[42]\tTrain-quantile:94.61503\tVal-quantile:87.53825\n",
      "[43]\tTrain-quantile:94.51216\tVal-quantile:87.46121\n",
      "[44]\tTrain-quantile:94.40946\tVal-quantile:87.38449\n",
      "[45]\tTrain-quantile:94.30682\tVal-quantile:87.30760\n",
      "[46]\tTrain-quantile:94.20443\tVal-quantile:87.23073\n",
      "[47]\tTrain-quantile:94.10216\tVal-quantile:87.15409\n",
      "[48]\tTrain-quantile:94.00003\tVal-quantile:87.07789\n",
      "[49]\tTrain-quantile:93.89795\tVal-quantile:87.00153\n",
      "Saved new XGBoost model to xgboost_model_wind\\xgboost_model.json\n",
      "XGBoost Pinball Score: 62.46731220312209\n"
     ]
    }
   ],
   "source": [
    "import model_utils\n",
    "\n",
    "\n",
    "quantiles = np.arange(0.1, 1.0, 0.1)\n",
    "\n",
    "model_save_dir_xgboost = \"xgboost_model_wind\"\n",
    "\n",
    "hyperparams = {\"objective\": \"reg:quantileerror\",\n",
    "            \"tree_method\": \"hist\",\n",
    "            \"quantile_alpha\": quantiles,\n",
    "            \"learning_rate\": 0.01,\n",
    "            \"max_depth\": 10}\n",
    "\n",
    "xgboost_model_wind = model_utils.XGBoostModel(feature_engineerer_wind, quantiles=quantiles, model_save_dir=model_save_dir_xgboost, load_pretrained=False, \n",
    "                                              hyperparams = hyperparams\n",
    "                                              )\n",
    "xgboost_model_wind.train_and_predict()  # This will skip training if the model is already loaded\n",
    "print(f\"XGBoost Pinball Score: {xgboost_model_wind.pinball_score()}\")"
   ]
  },
  {
   "cell_type": "markdown",
   "metadata": {},
   "source": [
    "### __Solar Energy Forecast__"
   ]
  },
  {
   "cell_type": "markdown",
   "metadata": {},
   "source": [
    "__baseline modell__"
   ]
  },
  {
   "cell_type": "code",
   "execution_count": 7,
   "metadata": {},
   "outputs": [
    {
     "ename": "",
     "evalue": "",
     "output_type": "error",
     "traceback": [
      "\u001b[1;31mThe Kernel crashed while executing code in the current cell or a previous cell. \n",
      "\u001b[1;31mPlease review the code in the cell(s) to identify a possible cause of the failure. \n",
      "\u001b[1;31mClick <a href='https://aka.ms/vscodeJupyterKernelCrash'>here</a> for more info. \n",
      "\u001b[1;31mView Jupyter <a href='command:jupyter.viewOutput'>log</a> for further details."
     ]
    }
   ],
   "source": [
    "quantiles = np.arange(0.1, 1.0, 0.1)\n",
    "import model_utils\n",
    "\n",
    "# Specify model save directory\n",
    "model_save_dir_qr = \"qr_model_solar\"\n",
    "\n",
    "qr_model_solar = model_utils.QuantileRegressorModel(feature_engineerer_solar_baseline, quantiles, model_save_dir=model_save_dir_qr, load_pretrained=False)\n",
    "qr_model_solar.train_and_predict()  # This will skip training for already loaded models\n",
    "print(f\"Quantile Regressor Pinball Score: {qr_model_solar.pinball_score()}\")"
   ]
  },
  {
   "cell_type": "markdown",
   "metadata": {},
   "source": [
    "__xgboost__"
   ]
  },
  {
   "cell_type": "code",
   "execution_count": 41,
   "metadata": {},
   "outputs": [
    {
     "name": "stdout",
     "output_type": "stream",
     "text": [
      "[0]\tTrain-quantile:43.78358\tVal-quantile:91.30714\n",
      "[1]\tTrain-quantile:41.57380\tVal-quantile:86.09397\n",
      "[2]\tTrain-quantile:39.51613\tVal-quantile:81.25100\n",
      "[3]\tTrain-quantile:37.58369\tVal-quantile:76.66185\n",
      "[4]\tTrain-quantile:35.76655\tVal-quantile:72.35495\n",
      "[5]\tTrain-quantile:34.06246\tVal-quantile:68.31612\n",
      "[6]\tTrain-quantile:32.45966\tVal-quantile:64.48859\n",
      "[7]\tTrain-quantile:30.95068\tVal-quantile:60.88981\n",
      "[8]\tTrain-quantile:29.53092\tVal-quantile:57.52676\n",
      "[9]\tTrain-quantile:28.19412\tVal-quantile:54.38676\n",
      "[10]\tTrain-quantile:26.93641\tVal-quantile:51.45217\n",
      "[11]\tTrain-quantile:25.75210\tVal-quantile:48.71197\n",
      "[12]\tTrain-quantile:24.63724\tVal-quantile:46.15410\n",
      "[13]\tTrain-quantile:23.58743\tVal-quantile:43.77402\n",
      "[14]\tTrain-quantile:22.59965\tVal-quantile:41.56073\n",
      "[15]\tTrain-quantile:21.67010\tVal-quantile:39.51059\n",
      "[16]\tTrain-quantile:20.79593\tVal-quantile:37.60501\n",
      "[17]\tTrain-quantile:19.97225\tVal-quantile:35.83565\n",
      "[18]\tTrain-quantile:19.19629\tVal-quantile:34.20189\n",
      "[19]\tTrain-quantile:18.46553\tVal-quantile:32.69696\n",
      "[20]\tTrain-quantile:17.77743\tVal-quantile:31.30747\n",
      "[21]\tTrain-quantile:17.13028\tVal-quantile:30.03382\n",
      "[22]\tTrain-quantile:16.52097\tVal-quantile:28.86157\n",
      "[23]\tTrain-quantile:15.94651\tVal-quantile:27.79118\n",
      "[24]\tTrain-quantile:15.40590\tVal-quantile:26.81005\n",
      "[25]\tTrain-quantile:14.89644\tVal-quantile:25.91562\n",
      "[26]\tTrain-quantile:14.41657\tVal-quantile:25.09523\n",
      "[27]\tTrain-quantile:13.96415\tVal-quantile:24.34773\n",
      "[28]\tTrain-quantile:13.53772\tVal-quantile:23.66531\n",
      "[29]\tTrain-quantile:13.13518\tVal-quantile:23.03984\n",
      "[30]\tTrain-quantile:12.75513\tVal-quantile:22.46679\n",
      "[31]\tTrain-quantile:12.39621\tVal-quantile:21.94557\n",
      "[32]\tTrain-quantile:12.05786\tVal-quantile:21.46673\n",
      "[33]\tTrain-quantile:11.73841\tVal-quantile:21.02791\n",
      "[34]\tTrain-quantile:11.43658\tVal-quantile:20.62496\n",
      "[35]\tTrain-quantile:11.15115\tVal-quantile:20.25626\n",
      "[36]\tTrain-quantile:10.88178\tVal-quantile:19.91966\n",
      "[37]\tTrain-quantile:10.62736\tVal-quantile:19.61154\n",
      "[38]\tTrain-quantile:10.38690\tVal-quantile:19.33250\n",
      "[39]\tTrain-quantile:10.15948\tVal-quantile:19.07953\n",
      "[40]\tTrain-quantile:9.94449\tVal-quantile:18.84898\n",
      "[41]\tTrain-quantile:9.74130\tVal-quantile:18.63767\n",
      "[42]\tTrain-quantile:9.54887\tVal-quantile:18.44521\n",
      "[43]\tTrain-quantile:9.36697\tVal-quantile:18.26836\n",
      "[44]\tTrain-quantile:9.19510\tVal-quantile:18.10538\n",
      "[45]\tTrain-quantile:9.03255\tVal-quantile:17.95635\n",
      "[46]\tTrain-quantile:8.87873\tVal-quantile:17.82308\n",
      "[47]\tTrain-quantile:8.73325\tVal-quantile:17.70034\n",
      "[48]\tTrain-quantile:8.59533\tVal-quantile:17.58732\n",
      "[49]\tTrain-quantile:8.46486\tVal-quantile:17.48396\n",
      "Saved new XGBoost model to xgboost_model_solar\\xgboost_model.json\n",
      "XGBoost Pinball Score: 16.468403075113727\n"
     ]
    }
   ],
   "source": [
    "import model_utils\n",
    "quantiles = np.arange(0.1, 1.0, 0.1)\n",
    "\n",
    "model_save_dir_xgboost = \"xgboost_model_solar\"\n",
    "\n",
    "hyperparams = {\"objective\": \"reg:quantileerror\",\n",
    "            \"quantile_alpha\": quantiles,\n",
    "            \"learning_rate\": 0.05,\n",
    "            \"max_depth\": 10\n",
    "            }\n",
    "\n",
    "xgboost_model_solar = model_utils.XGBoostModel(feature_engineerer_solar, quantiles=quantiles, \n",
    "                                               hyperparams = hyperparams, \n",
    "                                               model_save_dir=model_save_dir_xgboost, load_pretrained=False)\n",
    "xgboost_model_solar.train_and_predict()  # This will skip training if the model is already loaded\n",
    "print(f\"XGBoost Pinball Score: {xgboost_model_solar.pinball_score()}\")"
   ]
  },
  {
   "cell_type": "markdown",
   "metadata": {},
   "source": [
    "### __Lightgbm implementation__"
   ]
  },
  {
   "cell_type": "code",
   "execution_count": 9,
   "metadata": {},
   "outputs": [
    {
     "ename": "ModuleNotFoundError",
     "evalue": "No module named 'lightgbm'",
     "output_type": "error",
     "traceback": [
      "\u001b[1;31m---------------------------------------------------------------------------\u001b[0m",
      "\u001b[1;31mModuleNotFoundError\u001b[0m                       Traceback (most recent call last)",
      "Cell \u001b[1;32mIn[9], line 1\u001b[0m\n\u001b[1;32m----> 1\u001b[0m \u001b[38;5;28;01mimport\u001b[39;00m \u001b[38;5;21;01mlightgbm\u001b[39;00m \u001b[38;5;28;01mas\u001b[39;00m \u001b[38;5;21;01mlgb\u001b[39;00m\n\u001b[0;32m      2\u001b[0m importlib\u001b[38;5;241m.\u001b[39mreload(model_utils)\n\u001b[0;32m      4\u001b[0m quantiles \u001b[38;5;241m=\u001b[39m [x \u001b[38;5;28;01mfor\u001b[39;00m x \u001b[38;5;129;01min\u001b[39;00m np\u001b[38;5;241m.\u001b[39marange(\u001b[38;5;241m0.1\u001b[39m, \u001b[38;5;241m1.0\u001b[39m, \u001b[38;5;241m0.1\u001b[39m)]\n",
      "\u001b[1;31mModuleNotFoundError\u001b[0m: No module named 'lightgbm'"
     ]
    }
   ],
   "source": [
    "import lightgbm as lgb\n",
    "importlib.reload(model_utils)\n",
    "\n",
    "quantiles = [x for x in np.arange(0.1, 1.0, 0.1)]\n",
    "qr_solar_lightgbm = {}\n",
    "qr_solar_lightgbm[\"true\"] = feature_engineerer_solar.y_test.values\n",
    "#out_bounds_predictions = np.zeros_like(y_true_mean, dtype=np.bool_)\n",
    "for quantile in quantiles:\n",
    "    qr_lightgbm = lgb.LGBMRegressor(objective='quantile', alpha=quantile)\n",
    "    qr_lightgbm.fit(feature_engineerer_solar.X_train, feature_engineerer_solar.y_train)\n",
    "    qr_solar_lightgbm[str(quantile)] = qr_lightgbm.predict(feature_engineerer_solar.X_test)\n",
    "\n",
    "qr_solar_lightgbm_df = pd.DataFrame(qr_solar_lightgbm)\n",
    "model_utils.pinball_score(qr_solar_lightgbm_df, quantiles=quantiles)"
   ]
  },
  {
   "cell_type": "code",
   "execution_count": 8,
   "metadata": {},
   "outputs": [
    {
     "ename": "NameError",
     "evalue": "name 'lgb' is not defined",
     "output_type": "error",
     "traceback": [
      "\u001b[1;31m---------------------------------------------------------------------------\u001b[0m",
      "\u001b[1;31mNameError\u001b[0m                                 Traceback (most recent call last)",
      "Cell \u001b[1;32mIn[8], line 6\u001b[0m\n\u001b[0;32m      4\u001b[0m \u001b[38;5;66;03m#out_bounds_predictions = np.zeros_like(y_true_mean, dtype=np.bool_)\u001b[39;00m\n\u001b[0;32m      5\u001b[0m \u001b[38;5;28;01mfor\u001b[39;00m quantile \u001b[38;5;129;01min\u001b[39;00m quantiles:\n\u001b[1;32m----> 6\u001b[0m     qr_lightgbm_wind \u001b[38;5;241m=\u001b[39m \u001b[43mlgb\u001b[49m\u001b[38;5;241m.\u001b[39mLGBMRegressor(objective\u001b[38;5;241m=\u001b[39m\u001b[38;5;124m'\u001b[39m\u001b[38;5;124mquantile\u001b[39m\u001b[38;5;124m'\u001b[39m, alpha\u001b[38;5;241m=\u001b[39mquantile)\n\u001b[0;32m      7\u001b[0m     qr_lightgbm_wind\u001b[38;5;241m.\u001b[39mfit(feature_engineerer_wind\u001b[38;5;241m.\u001b[39mX_train, feature_engineerer_wind\u001b[38;5;241m.\u001b[39my_train)\n\u001b[0;32m      8\u001b[0m     qr_wind_lightgbm[\u001b[38;5;28mstr\u001b[39m(quantile)] \u001b[38;5;241m=\u001b[39m qr_lightgbm_wind\u001b[38;5;241m.\u001b[39mpredict(feature_engineerer_wind\u001b[38;5;241m.\u001b[39mX_test)\n",
      "\u001b[1;31mNameError\u001b[0m: name 'lgb' is not defined"
     ]
    }
   ],
   "source": [
    "quantiles = [x for x in np.arange(0.1, 1.0, 0.1)]\n",
    "qr_wind_lightgbm = {}\n",
    "qr_wind_lightgbm[\"true\"] = feature_engineerer_wind.y_test.values\n",
    "#out_bounds_predictions = np.zeros_like(y_true_mean, dtype=np.bool_)\n",
    "for quantile in quantiles:\n",
    "    qr_lightgbm_wind = lgb.LGBMRegressor(objective='quantile', alpha=quantile)\n",
    "    qr_lightgbm_wind.fit(feature_engineerer_wind.X_train, feature_engineerer_wind.y_train)\n",
    "    qr_wind_lightgbm[str(quantile)] = qr_lightgbm_wind.predict(feature_engineerer_wind.X_test)\n",
    "\n",
    "qr_wind_lightgbm_df = pd.DataFrame(qr_wind_lightgbm)\n",
    "model_utils.pinball_score(qr_wind_lightgbm_df, quantiles=quantiles)"
   ]
  }
 ],
 "metadata": {
  "kernelspec": {
   "display_name": "awp2",
   "language": "python",
   "name": "python3"
  },
  "language_info": {
   "codemirror_mode": {
    "name": "ipython",
    "version": 3
   },
   "file_extension": ".py",
   "mimetype": "text/x-python",
   "name": "python",
   "nbconvert_exporter": "python",
   "pygments_lexer": "ipython3",
   "version": "3.11.9"
  }
 },
 "nbformat": 4,
 "nbformat_minor": 2
}
