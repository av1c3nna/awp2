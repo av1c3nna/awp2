{
 "cells": [
  {
   "cell_type": "code",
   "execution_count": 2,
   "metadata": {},
   "outputs": [],
   "source": [
    "import xarray\n",
    "import os\n",
    "import pandas as pd\n",
    "from Preprocessing import *\n",
    "\n",
    "extractor = FileExtractor()\n",
    "\n",
    "df_dwd_hornsea = extractor.combine_files(\"data\", \"dwd_icon_eu_hornsea\")\n",
    "df_dwd_pes = extractor.combine_files(\"data\", \"dwd_icon_eu_pes10\")\n",
    "df_dwd_demand = extractor.combine_files(\"data\", \"dwd_icon_eu_demand\")\n",
    "\n",
    "ncep_gfs_hornsea = extractor.combine_files(\"data\", \"ncep_gfs_hornsea\")\n",
    "ncep_gfs_pes = extractor.combine_files(\"data\", \"ncep_gfs_pes10\")\n",
    "ncep_gfs_demand = extractor.combine_files(\"data\", \"ncep_gfs_demand\")"
   ]
  },
  {
   "cell_type": "code",
   "execution_count": 3,
   "metadata": {},
   "outputs": [],
   "source": [
    "ncep_gfs_hornsea_safe = ncep_gfs_hornsea"
   ]
  },
  {
   "cell_type": "code",
   "execution_count": null,
   "metadata": {},
   "outputs": [],
   "source": [
    "pd.options.display.float_format = '{:.2f}'.format\n",
    "df_dwd_hornsea.describe()"
   ]
  },
  {
   "cell_type": "code",
   "execution_count": null,
   "metadata": {},
   "outputs": [],
   "source": [
    "df_dwd_pes.describe()"
   ]
  },
  {
   "cell_type": "code",
   "execution_count": null,
   "metadata": {},
   "outputs": [],
   "source": [
    "ncep_gfs_hornsea.describe()"
   ]
  },
  {
   "cell_type": "code",
   "execution_count": null,
   "metadata": {},
   "outputs": [],
   "source": [
    "ncep_gfs_pes.describe()"
   ]
  },
  {
   "cell_type": "code",
   "execution_count": null,
   "metadata": {},
   "outputs": [],
   "source": [
    "import seaborn as sns\n",
    "import matplotlib.pyplot as plt\n",
    "\n",
    "plt.figure(figsize=(14, 6))\n",
    "sns.boxplot(ncep_gfs_hornsea)\n",
    "plt.xlabel(\"Feature\")\n",
    "plt.grid(True)\n",
    "\n",
    "plt.show\n",
    "\n",
    "\n",
    "plt.figure(figsize=(14, 6))\n",
    "sns.boxplot(ncep_gfs_pes[[\"Temperature\", \"CloudCover\"]])\n",
    "plt.xlabel(\"Feature\")\n",
    "plt.grid(True)\n",
    "\n",
    "plt.show"
   ]
  },
  {
   "cell_type": "code",
   "execution_count": null,
   "metadata": {},
   "outputs": [],
   "source": [
    "ncep_gfs_pes[ncep_gfs_pes.SolarDownwardRadiation >= 1000 ]"
   ]
  },
  {
   "cell_type": "code",
   "execution_count": 69,
   "metadata": {},
   "outputs": [],
   "source": [
    "\n",
    "def build_forecasting_horizon(df):\n",
    "    df.reset_index(inplace = True)\n",
    "    # rename the columns properly\n",
    "    df = df.rename(columns = {\"level_0\": \"reference_time\", \"level_1\": \"valid_time\"})\n",
    "    if \"index\" in df.columns:\n",
    "        df.drop(columns = [\"index\"], axis = 1, inplace = True)\n",
    "    # convert the datetime information to the right format\n",
    "    df[\"reference_time\"] = pd.to_datetime(df.reference_time).dt.tz_localize(\"UTC\")\n",
    "    df[\"forecast_horizon\"] = df[\"valid_time\"]\n",
    "    df[\"valid_time\"] = df[\"reference_time\"] + pd.to_timedelta(df[\"valid_time\"], unit = \"hour\")\n",
    "    # remove forecasts which extend beyond the day ahead, since they will be outdated the next day anyway\n",
    "    return df\n",
    "\n",
    "test = build_forecasting_horizon(ncep_gfs_hornsea_safe)"
   ]
  },
  {
   "cell_type": "code",
   "execution_count": 70,
   "metadata": {},
   "outputs": [],
   "source": [
    "test = test[(test[\"valid_time\"] - test[\"reference_time\"]).div(pd.Timedelta(\"1h\")) < 50]"
   ]
  },
  {
   "cell_type": "code",
   "execution_count": null,
   "metadata": {},
   "outputs": [],
   "source": [
    "test[(test[\"valid_time\"] - test[\"reference_time\"]).div(pd.Timedelta(\"1h\")) < 50].isna().sum()"
   ]
  },
  {
   "cell_type": "code",
   "execution_count": null,
   "metadata": {},
   "outputs": [],
   "source": []
  },
  {
   "cell_type": "code",
   "execution_count": null,
   "metadata": {},
   "outputs": [],
   "source": [
    "test.isna().sum()"
   ]
  },
  {
   "cell_type": "code",
   "execution_count": null,
   "metadata": {},
   "outputs": [],
   "source": [
    "ncep_gfs_hornsea.isna().sum()"
   ]
  },
  {
   "cell_type": "code",
   "execution_count": null,
   "metadata": {},
   "outputs": [],
   "source": [
    "import missingno as msno\n",
    "\n",
    "msno.bar(test)"
   ]
  },
  {
   "cell_type": "code",
   "execution_count": null,
   "metadata": {},
   "outputs": [],
   "source": [
    "test.isna().any(axis=1)"
   ]
  },
  {
   "cell_type": "code",
   "execution_count": null,
   "metadata": {},
   "outputs": [],
   "source": [
    "nan_df = test[test.isna().any(axis=1)]\n",
    "nan_df['lat_lon_combination'] = nan_df['latitude'].astype(str) + '_' + nan_df['longitude'].astype(str)"
   ]
  },
  {
   "cell_type": "code",
   "execution_count": null,
   "metadata": {},
   "outputs": [],
   "source": [
    "dl = test[(test['valid_time'].dt.date == pd.to_datetime('2021-03-26').date()) | (test['valid_time'].dt.date == pd.to_datetime('2021-03-27').date())]\n",
    "dl['lat_lon_combination'] = dl['latitude'].astype(str) + '_' + dl['longitude'].astype(str)"
   ]
  },
  {
   "cell_type": "code",
   "execution_count": null,
   "metadata": {},
   "outputs": [],
   "source": [
    "dl[(dl.valid_time >= \"2021-03-26 18:00:00+00:00\") & (dl.forecast_horizon <= 10)].iloc[30:90]"
   ]
  },
  {
   "cell_type": "code",
   "execution_count": null,
   "metadata": {},
   "outputs": [],
   "source": [
    "nan_df.iloc"
   ]
  },
  {
   "cell_type": "code",
   "execution_count": null,
   "metadata": {},
   "outputs": [],
   "source": [
    "len(nan_df.valid_time.unique())"
   ]
  },
  {
   "cell_type": "code",
   "execution_count": null,
   "metadata": {},
   "outputs": [],
   "source": [
    "nan_df.head(60)"
   ]
  },
  {
   "cell_type": "code",
   "execution_count": null,
   "metadata": {},
   "outputs": [],
   "source": [
    "def handle_missing_data(df):\n",
    "    group_cols = ['reference_time', 'valid_time', 'latitude', 'longitude']\n",
    "    df_interpolated = df.groupby(group_cols).apply(lambda group: group.interpolate(method='index'))\n",
    "    return df_interpolated\n",
    "\n",
    "test_cleaned = test.interpolate(method='linear')\n",
    "test_cleaned"
   ]
  },
  {
   "cell_type": "code",
   "execution_count": 24,
   "metadata": {},
   "outputs": [],
   "source": [
    "group_test = test.copy()\n",
    "group_test['lat_lon_combination'] = group_test['latitude'].astype(str) + '_' + group_test['longitude'].astype(str)\n",
    "group_test = group_test.groupby([\"reference_time\", \"lat_lon_combination\",\"valid_time\"], as_index=False).mean()\n",
    "\n",
    "# group_test_ip = group_test.interpolate(method=)"
   ]
  },
  {
   "cell_type": "code",
   "execution_count": 25,
   "metadata": {},
   "outputs": [],
   "source": [
    "sort_test = test.copy()\n",
    "sort_test['lat_lon_combination'] = sort_test['latitude'].astype(str) + '_' + sort_test['longitude'].astype(str)\n",
    "sort_test = sort_test.sort_values(by=[\"forecast_horizon\", \"lat_lon_combination\", \"valid_time\"])"
   ]
  },
  {
   "cell_type": "code",
   "execution_count": null,
   "metadata": {},
   "outputs": [],
   "source": [
    "sort_test.isna().sum()"
   ]
  },
  {
   "cell_type": "code",
   "execution_count": null,
   "metadata": {},
   "outputs": [],
   "source": [
    "sort_test[(sort_test.valid_time >= \"2021-03-25 00:00:00+00:00\") & (sort_test.valid_time <= \"2021-03-28 00:00:00+00:00\")].head(60)"
   ]
  },
  {
   "cell_type": "code",
   "execution_count": null,
   "metadata": {},
   "outputs": [],
   "source": [
    "import plotly.express as px\n",
    "df_with_nans1 = test[(test.valid_time >= \"2021-03-24 00:00:00+00:00\") & (test.valid_time <= \"2021-03-28 00:00:00+00:00\")]\n",
    "\n",
    "df_with_nans1['lat_lon_combination'] = df_with_nans1['latitude'].astype(str) + '_' + df_with_nans1['longitude'].astype(str)\n",
    "px.line(df_with_nans1[df_with_nans1.forecast_horizon == 1], x=\"valid_time\", y=\"Temperature\", color=\"lat_lon_combination\")"
   ]
  },
  {
   "cell_type": "code",
   "execution_count": null,
   "metadata": {},
   "outputs": [],
   "source": [
    "def test_interpolation(sort_test):\n",
    "    sort_test['lat_lon_combination'] = sort_test['latitude'].astype(str) + '_' + sort_test['longitude'].astype(str)\n",
    "    # sort_test = sort_test.sort_values(by=[\"forecast_horizon\", \"lat_lon_combination\", \"valid_time\"])\n",
    "\n",
    "    cols_with_nan = sort_test.columns[sort_test.isna().any()].tolist()\n",
    "    # sort_test_interpolated = sort_test.groupby(['forecast_horizon', 'lat_lon_combination']).apply(lambda group: group.interpolate())\n",
    "    #cols_to_interpolate = ['RelativeHumidity', 'Temperature', 'WindDirection', 'WindDirection:100', 'WindSpeed', 'WindSpeed:100']  # Passen Sie diese Liste an\n",
    "\n",
    "    # Anwenden der Interpolation über .transform() für jede Gruppe\n",
    "    sort_test[cols_with_nan] = sort_test.groupby(['forecast_horizon', 'lat_lon_combination'])[cols_with_nan].transform(lambda group: group.interpolate(method='linear'))\n",
    "    return sort_test\n",
    "\n",
    "test3 = test.copy()\n",
    "test_cleaned_3 = handle_missing_data(test3)\n",
    "\n",
    "\n",
    "df_with_nans1 = test_cleaned_3[(test_cleaned_3.valid_time >= \"2021-03-24 00:00:00+00:00\") & (test_cleaned_3.valid_time <= \"2021-03-28 00:00:00+00:00\")]\n",
    "\n",
    "# df_with_nans1['lat_lon_combination'] = df_with_nans1['latitude'].astype(str) + '_' + df_with_nans1['longitude'].astype(str)\n",
    "px.line(df_with_nans1[df_with_nans1.forecast_horizon == 0], x=\"valid_time\", y=\"Temperature\", color=\"lat_lon_combination\")"
   ]
  },
  {
   "cell_type": "code",
   "execution_count": null,
   "metadata": {},
   "outputs": [],
   "source": [
    "import plotly.express as px\n",
    "df_with_nans = test_cleaned[(test_cleaned.valid_time >= \"2021-03-24 00:00:00+00:00\") & (test_cleaned.valid_time <= \"2021-03-28 00:00:00+00:00\")]\n",
    "\n",
    "df_with_nans['lat_lon_combination'] = df_with_nans['latitude'].astype(str) + '_' + df_with_nans['longitude'].astype(str)\n",
    "px.line(df_with_nans[df_with_nans.forecast_horizon == 3], x=\"valid_time\", y=\"Temperature\", color=\"lat_lon_combination\")"
   ]
  },
  {
   "cell_type": "code",
   "execution_count": null,
   "metadata": {},
   "outputs": [],
   "source": [
    "test_ll = test.copy()\n",
    "test_ll['lat_lon_combination'] = test_ll['latitude'].astype(str) + '_' + test_ll['longitude'].astype(str)\n",
    "test_ll.groupby([\"valid_time\", \"lat_lon_combination\"]).transform(\"mean\").isna().sum()"
   ]
  },
  {
   "cell_type": "code",
   "execution_count": null,
   "metadata": {},
   "outputs": [],
   "source": [
    "def handle_missing_data(df):\n",
    "\n",
    "        # Remove data points with at least 80% of the features containing missing values.\n",
    "        #df = df[df.isna().sum(axis=1) <= 0.8]\n",
    "        df['lat_lon_combination'] = df['latitude'].astype(str) + '_' + df['longitude'].astype(str)\n",
    "        # Fill missing values by using the mean of other data points at a similiar time (same year, month and hour)\n",
    "        mask = df.isna().any(axis=1)\n",
    "        # Group by year, month, and hour, then calculate the mean\n",
    "        grouped_means = df.groupby([df.valid_time.dt.year, df.valid_time.dt.month, df.valid_time.dt.hour, df.lat_lon_combination]).transform('mean')\n",
    "        # Fill missing values using the grouped means\n",
    "        df[mask] = df[mask].fillna(grouped_means)\n",
    "        \n",
    "        return df\n",
    "\n",
    "test2 = test.copy()\n",
    "test_cleaned_2 = handle_missing_data(test2)\n",
    "\n",
    "import plotly.express as px\n",
    "df_with_nans = test_cleaned_2[(test_cleaned_2.valid_time >= \"2021-03-24 00:00:00+00:00\") & (test_cleaned_2.valid_time <= \"2021-03-28 00:00:00+00:00\")]\n",
    "\n",
    "# df_with_nans['lat_lon_combination'] = df_with_nans['latitude'].astype(str) + '_' + df_with_nans['longitude'].astype(str)\n",
    "px.line(df_with_nans[df_with_nans.forecast_horizon == 0], x=\"valid_time\", y=\"Temperature\", color=\"lat_lon_combination\")\n"
   ]
  }
 ],
 "metadata": {
  "kernelspec": {
   "display_name": "HEFTcom24",
   "language": "python",
   "name": "python3"
  },
  "language_info": {
   "codemirror_mode": {
    "name": "ipython",
    "version": 3
   },
   "file_extension": ".py",
   "mimetype": "text/x-python",
   "name": "python",
   "nbconvert_exporter": "python",
   "pygments_lexer": "ipython3",
   "version": "3.11.5"
  }
 },
 "nbformat": 4,
 "nbformat_minor": 2
}
