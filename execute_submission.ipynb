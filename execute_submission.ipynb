{
 "cells": [
  {
   "cell_type": "code",
   "execution_count": null,
   "metadata": {},
   "outputs": [],
   "source": [
    "# Imports\n",
    "from submission_utils import AutoSubmitter\n",
    "from model_utils import *\n",
    "from Preprocessing import FeatureEngineerer\n",
    "\n",
    "# Load preprocessed data\n",
    "merged_hornsea = pd.read_parquet(\"data/preprocessed_hornsea_with_energy.parquet\")\n",
    "merged_pes = pd.read_parquet(\"data/preprocessed_pes_with_energy.parquet\")\n",
    "\n",
    "# Set up FeatureEngineerer instances\n",
    "feature_engineerer_wind = FeatureEngineerer(label = 'Wind_MWh_credit', columns_to_ohe=['unavailabilityType', 'affectedUnit'])\n",
    "feature_engineerer_solar = FeatureEngineerer(label = \"Solar_MWh_credit\", columns_to_ohe=[])\n",
    "\n",
    "# Perform feature engineering\n",
    "feature_engineerer_wind.perform_feature_engineering(merged_hornsea, deployment = False)\n",
    "feature_engineerer_solar.perform_feature_engineering(merged_pes, deployment = False)\n",
    "\n",
    "# Set up model instances\n",
    "wind_model = LGBMRegressorModel(feature_engineerer_wind, quantiles=np.round(np.arange(0.1, 1.0, 0.1), 1), model_save_dir=\"Models/lgbm_model_wind\", load_pretrained=True)\n",
    "solar_model = LGBMRegressorModel(feature_engineerer_solar, quantiles=np.round(np.arange(0.1, 1.0, 0.1), 1), model_save_dir=\"Models/lgbm_model_solar\", load_pretrained=True)\n",
    "\n",
    "# Set up AutoSubmitter instance\n",
    "submitter = AutoSubmitter(wind_model, solar_model)\n",
    "# Create submission data\n",
    "submitter.fetch_data().prepare_data().predict().prepare_submission()"
   ]
  },
  {
   "cell_type": "code",
   "execution_count": null,
   "metadata": {},
   "outputs": [],
   "source": [
    "# Check results before submisson\n",
    "submitter.predictions[\"final\"]"
   ]
  },
  {
   "cell_type": "code",
   "execution_count": null,
   "metadata": {},
   "outputs": [],
   "source": [
    "# Submit results\n",
    "submitter.submit()"
   ]
  }
 ],
 "metadata": {
  "kernelspec": {
   "display_name": "awp_2",
   "language": "python",
   "name": "python3"
  },
  "language_info": {
   "name": "python",
   "version": "3.11.10"
  }
 },
 "nbformat": 4,
 "nbformat_minor": 2
}
